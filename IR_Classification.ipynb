{
  "nbformat": 4,
  "nbformat_minor": 0,
  "metadata": {
    "accelerator": "GPU",
    "colab": {
      "name": "IR_Classification.ipynb",
      "provenance": [],
      "collapsed_sections": [],
      "include_colab_link": true
    },
    "kernelspec": {
      "display_name": "Python 3",
      "name": "python3"
    }
  },
  "cells": [
    {
      "cell_type": "markdown",
      "metadata": {
        "id": "view-in-github",
        "colab_type": "text"
      },
      "source": [
        "<a href=\"https://colab.research.google.com/github/manju1201/IR_Project_Ranked_Retrieval/blob/main/IR_Classification.ipynb\" target=\"_parent\"><img src=\"https://colab.research.google.com/assets/colab-badge.svg\" alt=\"Open In Colab\"/></a>"
      ]
    },
    {
      "cell_type": "code",
      "metadata": {
        "id": "OnsT1DDzvgCB"
      },
      "source": [
        "import pandas as pd\n",
        "import numpy as np"
      ],
      "execution_count": null,
      "outputs": []
    },
    {
      "cell_type": "code",
      "metadata": {
        "colab": {
          "base_uri": "https://localhost:8080/"
        },
        "id": "j1RdIWyU0ORJ",
        "outputId": "ebecf3c5-9733-46d2-d753-05cd8798a2a7"
      },
      "source": [
        "from google.colab import drive\n",
        "drive.mount('/content/drive')"
      ],
      "execution_count": 62,
      "outputs": [
        {
          "output_type": "stream",
          "text": [
            "Drive already mounted at /content/drive; to attempt to forcibly remount, call drive.mount(\"/content/drive\", force_remount=True).\n"
          ],
          "name": "stdout"
        }
      ]
    },
    {
      "cell_type": "markdown",
      "metadata": {
        "id": "TzhjyBNiBgg7"
      },
      "source": [
        "Sports data"
      ]
    },
    {
      "cell_type": "code",
      "metadata": {
        "id": "a03RyDG41lMt"
      },
      "source": [
        "sports_data = pd.read_csv('/content/drive/MyDrive/Copy of betsentiment-EN-tweets-sentiment-worldcup.csv', engine ='python')"
      ],
      "execution_count": null,
      "outputs": []
    },
    {
      "cell_type": "code",
      "metadata": {
        "colab": {
          "base_uri": "https://localhost:8080/",
          "height": 279
        },
        "id": "_sAL6FwT-IgU",
        "outputId": "8af78a73-3586-4602-eb6d-4fc501409b5a"
      },
      "source": [
        "sports_data.head()"
      ],
      "execution_count": null,
      "outputs": [
        {
          "output_type": "execute_result",
          "data": {
            "text/html": [
              "<div>\n",
              "<style scoped>\n",
              "    .dataframe tbody tr th:only-of-type {\n",
              "        vertical-align: middle;\n",
              "    }\n",
              "\n",
              "    .dataframe tbody tr th {\n",
              "        vertical-align: top;\n",
              "    }\n",
              "\n",
              "    .dataframe thead th {\n",
              "        text-align: right;\n",
              "    }\n",
              "</style>\n",
              "<table border=\"1\" class=\"dataframe\">\n",
              "  <thead>\n",
              "    <tr style=\"text-align: right;\">\n",
              "      <th></th>\n",
              "      <th>tweet_date_created</th>\n",
              "      <th>tweet_id</th>\n",
              "      <th>tweet_text</th>\n",
              "      <th>language</th>\n",
              "      <th>sentiment</th>\n",
              "      <th>sentiment_score</th>\n",
              "    </tr>\n",
              "  </thead>\n",
              "  <tbody>\n",
              "    <tr>\n",
              "      <th>0</th>\n",
              "      <td>2018-06-23T12:48:40</td>\n",
              "      <td>1010504912998764546</td>\n",
              "      <td>@fifaworldcup_fr @MBaye9Niang @FIFAWorldCupSEN...</td>\n",
              "      <td>en</td>\n",
              "      <td>NEUTRAL</td>\n",
              "      <td>{\"Neutral\":0.991141796112060546875,\"Negative\":...</td>\n",
              "    </tr>\n",
              "    <tr>\n",
              "      <th>1</th>\n",
              "      <td>2018-06-14T15:16:06</td>\n",
              "      <td>1007280527127261185</td>\n",
              "      <td>I just bought a new Socceroos jersey. At �60 i...</td>\n",
              "      <td>en</td>\n",
              "      <td>POSITIVE</td>\n",
              "      <td>{\"Neutral\":0.2797665297985076904296875,\"Negati...</td>\n",
              "    </tr>\n",
              "    <tr>\n",
              "      <th>2</th>\n",
              "      <td>2018-06-08T15:20:06</td>\n",
              "      <td>1005107207652831233</td>\n",
              "      <td>@youngy18 @England You look good man I'd appre...</td>\n",
              "      <td>en</td>\n",
              "      <td>POSITIVE</td>\n",
              "      <td>{\"Neutral\":0.257103621959686279296875,\"Negativ...</td>\n",
              "    </tr>\n",
              "    <tr>\n",
              "      <th>3</th>\n",
              "      <td>2018-05-15T08:24:05</td>\n",
              "      <td>996305202851536897</td>\n",
              "      <td>@SkySportsNews @England Henderson should be le...</td>\n",
              "      <td>en</td>\n",
              "      <td>NEUTRAL</td>\n",
              "      <td>{\"Neutral\":0.90541326999664306640625,\"Negative...</td>\n",
              "    </tr>\n",
              "    <tr>\n",
              "      <th>4</th>\n",
              "      <td>2018-07-03T20:32:38.524000</td>\n",
              "      <td>1014245554367467524</td>\n",
              "      <td>Harry Maguire absolutely towering in second ha...</td>\n",
              "      <td>en</td>\n",
              "      <td>POSITIVE</td>\n",
              "      <td>{\"Neutral\":0.014931462705135345458984375,\"Nega...</td>\n",
              "    </tr>\n",
              "  </tbody>\n",
              "</table>\n",
              "</div>"
            ],
            "text/plain": [
              "           tweet_date_created  ...                                    sentiment_score\n",
              "0         2018-06-23T12:48:40  ...  {\"Neutral\":0.991141796112060546875,\"Negative\":...\n",
              "1         2018-06-14T15:16:06  ...  {\"Neutral\":0.2797665297985076904296875,\"Negati...\n",
              "2         2018-06-08T15:20:06  ...  {\"Neutral\":0.257103621959686279296875,\"Negativ...\n",
              "3         2018-05-15T08:24:05  ...  {\"Neutral\":0.90541326999664306640625,\"Negative...\n",
              "4  2018-07-03T20:32:38.524000  ...  {\"Neutral\":0.014931462705135345458984375,\"Nega...\n",
              "\n",
              "[5 rows x 6 columns]"
            ]
          },
          "metadata": {
            "tags": []
          },
          "execution_count": 4
        }
      ]
    },
    {
      "cell_type": "code",
      "metadata": {
        "colab": {
          "base_uri": "https://localhost:8080/",
          "height": 279
        },
        "id": "kYkQLkWqDoaC",
        "outputId": "c77236a1-a4bc-45da-aa7a-539fa160a24f"
      },
      "source": [
        "sports_data = sports_data.rename(columns = {'tweet_text': 'Text'}, inplace = False)\r\n",
        "sports_data.head()"
      ],
      "execution_count": null,
      "outputs": [
        {
          "output_type": "execute_result",
          "data": {
            "text/html": [
              "<div>\n",
              "<style scoped>\n",
              "    .dataframe tbody tr th:only-of-type {\n",
              "        vertical-align: middle;\n",
              "    }\n",
              "\n",
              "    .dataframe tbody tr th {\n",
              "        vertical-align: top;\n",
              "    }\n",
              "\n",
              "    .dataframe thead th {\n",
              "        text-align: right;\n",
              "    }\n",
              "</style>\n",
              "<table border=\"1\" class=\"dataframe\">\n",
              "  <thead>\n",
              "    <tr style=\"text-align: right;\">\n",
              "      <th></th>\n",
              "      <th>tweet_date_created</th>\n",
              "      <th>tweet_id</th>\n",
              "      <th>Text</th>\n",
              "      <th>language</th>\n",
              "      <th>sentiment</th>\n",
              "      <th>sentiment_score</th>\n",
              "    </tr>\n",
              "  </thead>\n",
              "  <tbody>\n",
              "    <tr>\n",
              "      <th>0</th>\n",
              "      <td>2018-06-23T12:48:40</td>\n",
              "      <td>1010504912998764546</td>\n",
              "      <td>@fifaworldcup_fr @MBaye9Niang @FIFAWorldCupSEN...</td>\n",
              "      <td>en</td>\n",
              "      <td>NEUTRAL</td>\n",
              "      <td>{\"Neutral\":0.991141796112060546875,\"Negative\":...</td>\n",
              "    </tr>\n",
              "    <tr>\n",
              "      <th>1</th>\n",
              "      <td>2018-06-14T15:16:06</td>\n",
              "      <td>1007280527127261185</td>\n",
              "      <td>I just bought a new Socceroos jersey. At �60 i...</td>\n",
              "      <td>en</td>\n",
              "      <td>POSITIVE</td>\n",
              "      <td>{\"Neutral\":0.2797665297985076904296875,\"Negati...</td>\n",
              "    </tr>\n",
              "    <tr>\n",
              "      <th>2</th>\n",
              "      <td>2018-06-08T15:20:06</td>\n",
              "      <td>1005107207652831233</td>\n",
              "      <td>@youngy18 @England You look good man I'd appre...</td>\n",
              "      <td>en</td>\n",
              "      <td>POSITIVE</td>\n",
              "      <td>{\"Neutral\":0.257103621959686279296875,\"Negativ...</td>\n",
              "    </tr>\n",
              "    <tr>\n",
              "      <th>3</th>\n",
              "      <td>2018-05-15T08:24:05</td>\n",
              "      <td>996305202851536897</td>\n",
              "      <td>@SkySportsNews @England Henderson should be le...</td>\n",
              "      <td>en</td>\n",
              "      <td>NEUTRAL</td>\n",
              "      <td>{\"Neutral\":0.90541326999664306640625,\"Negative...</td>\n",
              "    </tr>\n",
              "    <tr>\n",
              "      <th>4</th>\n",
              "      <td>2018-07-03T20:32:38.524000</td>\n",
              "      <td>1014245554367467524</td>\n",
              "      <td>Harry Maguire absolutely towering in second ha...</td>\n",
              "      <td>en</td>\n",
              "      <td>POSITIVE</td>\n",
              "      <td>{\"Neutral\":0.014931462705135345458984375,\"Nega...</td>\n",
              "    </tr>\n",
              "  </tbody>\n",
              "</table>\n",
              "</div>"
            ],
            "text/plain": [
              "           tweet_date_created  ...                                    sentiment_score\n",
              "0         2018-06-23T12:48:40  ...  {\"Neutral\":0.991141796112060546875,\"Negative\":...\n",
              "1         2018-06-14T15:16:06  ...  {\"Neutral\":0.2797665297985076904296875,\"Negati...\n",
              "2         2018-06-08T15:20:06  ...  {\"Neutral\":0.257103621959686279296875,\"Negativ...\n",
              "3         2018-05-15T08:24:05  ...  {\"Neutral\":0.90541326999664306640625,\"Negative...\n",
              "4  2018-07-03T20:32:38.524000  ...  {\"Neutral\":0.014931462705135345458984375,\"Nega...\n",
              "\n",
              "[5 rows x 6 columns]"
            ]
          },
          "metadata": {
            "tags": []
          },
          "execution_count": 5
        }
      ]
    },
    {
      "cell_type": "code",
      "metadata": {
        "id": "C4GIt4fH_inG"
      },
      "source": [
        "sports_data = sports_data['Text']"
      ],
      "execution_count": null,
      "outputs": []
    },
    {
      "cell_type": "code",
      "metadata": {
        "colab": {
          "base_uri": "https://localhost:8080/"
        },
        "id": "rvl6P-Hp_v7O",
        "outputId": "16049416-8060-4022-ff99-c94e29eba9c4"
      },
      "source": [
        "sports_data"
      ],
      "execution_count": null,
      "outputs": [
        {
          "output_type": "execute_result",
          "data": {
            "text/plain": [
              "0         @fifaworldcup_fr @MBaye9Niang @FIFAWorldCupSEN...\n",
              "1         I just bought a new Socceroos jersey. At �60 i...\n",
              "2         @youngy18 @England You look good man I'd appre...\n",
              "3         @SkySportsNews @England Henderson should be le...\n",
              "4         Harry Maguire absolutely towering in second ha...\n",
              "                                ...                        \n",
              "943164    @SPNigeria @bukolasaraki @NGSuperEagles Nice 1...\n",
              "943165    @unitedyusuf @ayoolatopezion @mykel_rechard @C...\n",
              "943166    @neilfissler @England All except me. I'm going...\n",
              "943167    @GazzaArsenal No Dele hasn�t been the same thi...\n",
              "943168    @Sporf @nikefootball @NGSuperEagles That kit i...\n",
              "Name: Text, Length: 943169, dtype: object"
            ]
          },
          "metadata": {
            "tags": []
          },
          "execution_count": 7
        }
      ]
    },
    {
      "cell_type": "code",
      "metadata": {
        "colab": {
          "base_uri": "https://localhost:8080/"
        },
        "id": "Nt9E9zBb_1ui",
        "outputId": "ce9bb881-6a43-447d-dbf6-587f30235584"
      },
      "source": [
        "sports_data.count()"
      ],
      "execution_count": null,
      "outputs": [
        {
          "output_type": "execute_result",
          "data": {
            "text/plain": [
              "943169"
            ]
          },
          "metadata": {
            "tags": []
          },
          "execution_count": 8
        }
      ]
    },
    {
      "cell_type": "code",
      "metadata": {
        "id": "TIUMlZxH_8kn"
      },
      "source": [
        "(sports_data.dropna()).count()\n",
        "sports_data = sports_data.to_frame()\n",
        "sports_data['domain'] = 1\n"
      ],
      "execution_count": null,
      "outputs": []
    },
    {
      "cell_type": "code",
      "metadata": {
        "id": "6MlCorT5AKsx"
      },
      "source": [
        "sports_data['word_count'] = sports_data['Text'].str.split().map(len)"
      ],
      "execution_count": null,
      "outputs": []
    },
    {
      "cell_type": "code",
      "metadata": {
        "id": "TEa6yPRL-qrf"
      },
      "source": [
        "sports_data =  sports_data[sports_data['word_count']>=30]"
      ],
      "execution_count": null,
      "outputs": []
    },
    {
      "cell_type": "code",
      "metadata": {
        "id": "--16ulzk_QvR"
      },
      "source": [
        "sports_data = sports_data.drop_duplicates()"
      ],
      "execution_count": null,
      "outputs": []
    },
    {
      "cell_type": "code",
      "metadata": {
        "colab": {
          "base_uri": "https://localhost:8080/"
        },
        "id": "edZAxQ7NAM2C",
        "outputId": "7aa8cf4d-0895-4334-e48e-159e0f1f7094"
      },
      "source": [
        "sports_data.count()"
      ],
      "execution_count": null,
      "outputs": [
        {
          "output_type": "execute_result",
          "data": {
            "text/plain": [
              "Text          185655\n",
              "domain        185655\n",
              "word_count    185655\n",
              "dtype: int64"
            ]
          },
          "metadata": {
            "tags": []
          },
          "execution_count": 13
        }
      ]
    },
    {
      "cell_type": "code",
      "metadata": {
        "colab": {
          "base_uri": "https://localhost:8080/"
        },
        "id": "j6blHKnT_Qsn",
        "outputId": "b84e473f-e320-4598-f665-d58cb5b2bcd9"
      },
      "source": [
        "sports_data.info()"
      ],
      "execution_count": null,
      "outputs": [
        {
          "output_type": "stream",
          "text": [
            "<class 'pandas.core.frame.DataFrame'>\n",
            "Int64Index: 185655 entries, 1 to 943167\n",
            "Data columns (total 3 columns):\n",
            " #   Column      Non-Null Count   Dtype \n",
            "---  ------      --------------   ----- \n",
            " 0   Text        185655 non-null  object\n",
            " 1   domain      185655 non-null  int64 \n",
            " 2   word_count  185655 non-null  int64 \n",
            "dtypes: int64(2), object(1)\n",
            "memory usage: 5.7+ MB\n"
          ],
          "name": "stdout"
        }
      ]
    },
    {
      "cell_type": "code",
      "metadata": {
        "id": "vCJRdPK8-qOG"
      },
      "source": [
        "sports_data = sports_data[0:33334]"
      ],
      "execution_count": null,
      "outputs": []
    },
    {
      "cell_type": "markdown",
      "metadata": {
        "id": "PW3QHPdrBbnk"
      },
      "source": [
        "Food reviews data"
      ]
    },
    {
      "cell_type": "code",
      "metadata": {
        "id": "LVZ5GYrGAe7L"
      },
      "source": [
        "reviews_data = pd.read_csv('/content/drive/MyDrive/Reviews.csv', engine='python')"
      ],
      "execution_count": null,
      "outputs": []
    },
    {
      "cell_type": "code",
      "metadata": {
        "colab": {
          "base_uri": "https://localhost:8080/",
          "height": 481
        },
        "id": "CCw321nqAYJ1",
        "outputId": "1ea1971b-fe75-4818-9e34-79e039edf641"
      },
      "source": [
        "reviews_data.head()"
      ],
      "execution_count": null,
      "outputs": [
        {
          "output_type": "execute_result",
          "data": {
            "text/html": [
              "<div>\n",
              "<style scoped>\n",
              "    .dataframe tbody tr th:only-of-type {\n",
              "        vertical-align: middle;\n",
              "    }\n",
              "\n",
              "    .dataframe tbody tr th {\n",
              "        vertical-align: top;\n",
              "    }\n",
              "\n",
              "    .dataframe thead th {\n",
              "        text-align: right;\n",
              "    }\n",
              "</style>\n",
              "<table border=\"1\" class=\"dataframe\">\n",
              "  <thead>\n",
              "    <tr style=\"text-align: right;\">\n",
              "      <th></th>\n",
              "      <th>Id</th>\n",
              "      <th>ProductId</th>\n",
              "      <th>UserId</th>\n",
              "      <th>ProfileName</th>\n",
              "      <th>HelpfulnessNumerator</th>\n",
              "      <th>HelpfulnessDenominator</th>\n",
              "      <th>Score</th>\n",
              "      <th>Time</th>\n",
              "      <th>Summary</th>\n",
              "      <th>Text</th>\n",
              "    </tr>\n",
              "  </thead>\n",
              "  <tbody>\n",
              "    <tr>\n",
              "      <th>0</th>\n",
              "      <td>1</td>\n",
              "      <td>B001E4KFG0</td>\n",
              "      <td>A3SGXH7AUHU8GW</td>\n",
              "      <td>delmartian</td>\n",
              "      <td>1</td>\n",
              "      <td>1</td>\n",
              "      <td>5</td>\n",
              "      <td>1303862400</td>\n",
              "      <td>Good Quality Dog Food</td>\n",
              "      <td>I have bought several of the Vitality canned d...</td>\n",
              "    </tr>\n",
              "    <tr>\n",
              "      <th>1</th>\n",
              "      <td>2</td>\n",
              "      <td>B00813GRG4</td>\n",
              "      <td>A1D87F6ZCVE5NK</td>\n",
              "      <td>dll pa</td>\n",
              "      <td>0</td>\n",
              "      <td>0</td>\n",
              "      <td>1</td>\n",
              "      <td>1346976000</td>\n",
              "      <td>Not as Advertised</td>\n",
              "      <td>Product arrived labeled as Jumbo Salted Peanut...</td>\n",
              "    </tr>\n",
              "    <tr>\n",
              "      <th>2</th>\n",
              "      <td>3</td>\n",
              "      <td>B000LQOCH0</td>\n",
              "      <td>ABXLMWJIXXAIN</td>\n",
              "      <td>Natalia Corres \"Natalia Corres\"</td>\n",
              "      <td>1</td>\n",
              "      <td>1</td>\n",
              "      <td>4</td>\n",
              "      <td>1219017600</td>\n",
              "      <td>\"Delight\" says it all</td>\n",
              "      <td>This is a confection that has been around a fe...</td>\n",
              "    </tr>\n",
              "    <tr>\n",
              "      <th>3</th>\n",
              "      <td>4</td>\n",
              "      <td>B000UA0QIQ</td>\n",
              "      <td>A395BORC6FGVXV</td>\n",
              "      <td>Karl</td>\n",
              "      <td>3</td>\n",
              "      <td>3</td>\n",
              "      <td>2</td>\n",
              "      <td>1307923200</td>\n",
              "      <td>Cough Medicine</td>\n",
              "      <td>If you are looking for the secret ingredient i...</td>\n",
              "    </tr>\n",
              "    <tr>\n",
              "      <th>4</th>\n",
              "      <td>5</td>\n",
              "      <td>B006K2ZZ7K</td>\n",
              "      <td>A1UQRSCLF8GW1T</td>\n",
              "      <td>Michael D. Bigham \"M. Wassir\"</td>\n",
              "      <td>0</td>\n",
              "      <td>0</td>\n",
              "      <td>5</td>\n",
              "      <td>1350777600</td>\n",
              "      <td>Great taffy</td>\n",
              "      <td>Great taffy at a great price.  There was a wid...</td>\n",
              "    </tr>\n",
              "  </tbody>\n",
              "</table>\n",
              "</div>"
            ],
            "text/plain": [
              "   Id  ...                                               Text\n",
              "0   1  ...  I have bought several of the Vitality canned d...\n",
              "1   2  ...  Product arrived labeled as Jumbo Salted Peanut...\n",
              "2   3  ...  This is a confection that has been around a fe...\n",
              "3   4  ...  If you are looking for the secret ingredient i...\n",
              "4   5  ...  Great taffy at a great price.  There was a wid...\n",
              "\n",
              "[5 rows x 10 columns]"
            ]
          },
          "metadata": {
            "tags": []
          },
          "execution_count": 17
        }
      ]
    },
    {
      "cell_type": "code",
      "metadata": {
        "id": "njyMiVxnA0Xs"
      },
      "source": [
        "reviews_data = reviews_data['Text']"
      ],
      "execution_count": null,
      "outputs": []
    },
    {
      "cell_type": "code",
      "metadata": {
        "colab": {
          "base_uri": "https://localhost:8080/"
        },
        "id": "_aZiJgdGA-5C",
        "outputId": "3f3117d7-e9a4-468f-8d25-64b44e4f2b29"
      },
      "source": [
        "reviews_data"
      ],
      "execution_count": null,
      "outputs": [
        {
          "output_type": "execute_result",
          "data": {
            "text/plain": [
              "0         I have bought several of the Vitality canned d...\n",
              "1         Product arrived labeled as Jumbo Salted Peanut...\n",
              "2         This is a confection that has been around a fe...\n",
              "3         If you are looking for the secret ingredient i...\n",
              "4         Great taffy at a great price.  There was a wid...\n",
              "                                ...                        \n",
              "568449    Great for sesame chicken..this is a good if no...\n",
              "568450    I'm disappointed with the flavor. The chocolat...\n",
              "568451    These stars are small, so you can give 10-15 o...\n",
              "568452    These are the BEST treats for training and rew...\n",
              "568453    I am very satisfied ,product is as advertised,...\n",
              "Name: Text, Length: 568454, dtype: object"
            ]
          },
          "metadata": {
            "tags": []
          },
          "execution_count": 19
        }
      ]
    },
    {
      "cell_type": "code",
      "metadata": {
        "id": "3JvFFpQcBDrm"
      },
      "source": [
        "(reviews_data.dropna()).count()\n",
        "reviews_data = reviews_data.to_frame()\n",
        "reviews_data['domain'] = 2\n"
      ],
      "execution_count": null,
      "outputs": []
    },
    {
      "cell_type": "code",
      "metadata": {
        "id": "Jw-vVCLRBIbB"
      },
      "source": [
        "reviews_data['word_count'] = reviews_data['Text'].str.split().map(len)"
      ],
      "execution_count": null,
      "outputs": []
    },
    {
      "cell_type": "code",
      "metadata": {
        "id": "pkSZlhSpA0co"
      },
      "source": [
        "reviews_data =  reviews_data[reviews_data['word_count']>=30]"
      ],
      "execution_count": null,
      "outputs": []
    },
    {
      "cell_type": "code",
      "metadata": {
        "colab": {
          "base_uri": "https://localhost:8080/"
        },
        "id": "_O70OoI4A4lt",
        "outputId": "9fdcf7a4-0acb-4942-a10d-2cfe105232e1"
      },
      "source": [
        "reviews_data.count()"
      ],
      "execution_count": null,
      "outputs": [
        {
          "output_type": "execute_result",
          "data": {
            "text/plain": [
              "Text          458779\n",
              "domain        458779\n",
              "word_count    458779\n",
              "dtype: int64"
            ]
          },
          "metadata": {
            "tags": []
          },
          "execution_count": 23
        }
      ]
    },
    {
      "cell_type": "code",
      "metadata": {
        "id": "lCN5ToXXA9JE"
      },
      "source": [
        "reviews_data =reviews_data.drop_duplicates()"
      ],
      "execution_count": null,
      "outputs": []
    },
    {
      "cell_type": "code",
      "metadata": {
        "colab": {
          "base_uri": "https://localhost:8080/"
        },
        "id": "SHGb2sXYBAnF",
        "outputId": "39cf3f67-7e7a-4e90-ec3f-ede8f64c0e4a"
      },
      "source": [
        "reviews_data.count()"
      ],
      "execution_count": null,
      "outputs": [
        {
          "output_type": "execute_result",
          "data": {
            "text/plain": [
              "Text          318994\n",
              "domain        318994\n",
              "word_count    318994\n",
              "dtype: int64"
            ]
          },
          "metadata": {
            "tags": []
          },
          "execution_count": 25
        }
      ]
    },
    {
      "cell_type": "code",
      "metadata": {
        "id": "2Yfx1lmFBMAU"
      },
      "source": [
        "reviews_data = reviews_data[:33334]"
      ],
      "execution_count": null,
      "outputs": []
    },
    {
      "cell_type": "code",
      "metadata": {
        "colab": {
          "base_uri": "https://localhost:8080/",
          "height": 402
        },
        "id": "BwjFGMCfGRnG",
        "outputId": "500393c5-cdfb-4f66-9d7b-7c355d116d61"
      },
      "source": [
        "reviews_data"
      ],
      "execution_count": null,
      "outputs": [
        {
          "output_type": "execute_result",
          "data": {
            "text/html": [
              "<div>\n",
              "<style scoped>\n",
              "    .dataframe tbody tr th:only-of-type {\n",
              "        vertical-align: middle;\n",
              "    }\n",
              "\n",
              "    .dataframe tbody tr th {\n",
              "        vertical-align: top;\n",
              "    }\n",
              "\n",
              "    .dataframe thead th {\n",
              "        text-align: right;\n",
              "    }\n",
              "</style>\n",
              "<table border=\"1\" class=\"dataframe\">\n",
              "  <thead>\n",
              "    <tr style=\"text-align: right;\">\n",
              "      <th></th>\n",
              "      <th>Text</th>\n",
              "      <th>domain</th>\n",
              "      <th>word_count</th>\n",
              "    </tr>\n",
              "  </thead>\n",
              "  <tbody>\n",
              "    <tr>\n",
              "      <th>0</th>\n",
              "      <td>I have bought several of the Vitality canned d...</td>\n",
              "      <td>2</td>\n",
              "      <td>48</td>\n",
              "    </tr>\n",
              "    <tr>\n",
              "      <th>1</th>\n",
              "      <td>Product arrived labeled as Jumbo Salted Peanut...</td>\n",
              "      <td>2</td>\n",
              "      <td>31</td>\n",
              "    </tr>\n",
              "    <tr>\n",
              "      <th>2</th>\n",
              "      <td>This is a confection that has been around a fe...</td>\n",
              "      <td>2</td>\n",
              "      <td>94</td>\n",
              "    </tr>\n",
              "    <tr>\n",
              "      <th>3</th>\n",
              "      <td>If you are looking for the secret ingredient i...</td>\n",
              "      <td>2</td>\n",
              "      <td>41</td>\n",
              "    </tr>\n",
              "    <tr>\n",
              "      <th>5</th>\n",
              "      <td>I got a wild hair for taffy and ordered this f...</td>\n",
              "      <td>2</td>\n",
              "      <td>72</td>\n",
              "    </tr>\n",
              "    <tr>\n",
              "      <th>...</th>\n",
              "      <td>...</td>\n",
              "      <td>...</td>\n",
              "      <td>...</td>\n",
              "    </tr>\n",
              "    <tr>\n",
              "      <th>44166</th>\n",
              "      <td>I started drinking the French Vanilla coffee a...</td>\n",
              "      <td>2</td>\n",
              "      <td>55</td>\n",
              "    </tr>\n",
              "    <tr>\n",
              "      <th>44167</th>\n",
              "      <td>We were looking for our Senseo Rio coffee pads...</td>\n",
              "      <td>2</td>\n",
              "      <td>66</td>\n",
              "    </tr>\n",
              "    <tr>\n",
              "      <th>44169</th>\n",
              "      <td>I just love this coffee.  It is easy to make a...</td>\n",
              "      <td>2</td>\n",
              "      <td>44</td>\n",
              "    </tr>\n",
              "    <tr>\n",
              "      <th>44170</th>\n",
              "      <td>I have been making my own Senso French Vanilla...</td>\n",
              "      <td>2</td>\n",
              "      <td>63</td>\n",
              "    </tr>\n",
              "    <tr>\n",
              "      <th>44172</th>\n",
              "      <td>I have found that Senseo is the right coffee f...</td>\n",
              "      <td>2</td>\n",
              "      <td>32</td>\n",
              "    </tr>\n",
              "  </tbody>\n",
              "</table>\n",
              "<p>33334 rows × 3 columns</p>\n",
              "</div>"
            ],
            "text/plain": [
              "                                                    Text  domain  word_count\n",
              "0      I have bought several of the Vitality canned d...       2          48\n",
              "1      Product arrived labeled as Jumbo Salted Peanut...       2          31\n",
              "2      This is a confection that has been around a fe...       2          94\n",
              "3      If you are looking for the secret ingredient i...       2          41\n",
              "5      I got a wild hair for taffy and ordered this f...       2          72\n",
              "...                                                  ...     ...         ...\n",
              "44166  I started drinking the French Vanilla coffee a...       2          55\n",
              "44167  We were looking for our Senseo Rio coffee pads...       2          66\n",
              "44169  I just love this coffee.  It is easy to make a...       2          44\n",
              "44170  I have been making my own Senso French Vanilla...       2          63\n",
              "44172  I have found that Senseo is the right coffee f...       2          32\n",
              "\n",
              "[33334 rows x 3 columns]"
            ]
          },
          "metadata": {
            "tags": []
          },
          "execution_count": 27
        }
      ]
    },
    {
      "cell_type": "markdown",
      "metadata": {
        "id": "MSlQ2MkGBjhE"
      },
      "source": [
        "Elections data"
      ]
    },
    {
      "cell_type": "code",
      "metadata": {
        "id": "3FK0sAY3Bm6Q"
      },
      "source": [
        "election_data = pd.read_csv('/content/drive/MyDrive/election.csv', engine='python')"
      ],
      "execution_count": null,
      "outputs": []
    },
    {
      "cell_type": "code",
      "metadata": {
        "colab": {
          "base_uri": "https://localhost:8080/",
          "height": 400
        },
        "id": "Yg-OUevMBzJR",
        "outputId": "b54a9544-29c9-46d0-9dc2-63890e39b87f"
      },
      "source": [
        "election_data.head()"
      ],
      "execution_count": null,
      "outputs": [
        {
          "output_type": "execute_result",
          "data": {
            "text/html": [
              "<div>\n",
              "<style scoped>\n",
              "    .dataframe tbody tr th:only-of-type {\n",
              "        vertical-align: middle;\n",
              "    }\n",
              "\n",
              "    .dataframe tbody tr th {\n",
              "        vertical-align: top;\n",
              "    }\n",
              "\n",
              "    .dataframe thead th {\n",
              "        text-align: right;\n",
              "    }\n",
              "</style>\n",
              "<table border=\"1\" class=\"dataframe\">\n",
              "  <thead>\n",
              "    <tr style=\"text-align: right;\">\n",
              "      <th></th>\n",
              "      <th>id</th>\n",
              "      <th>candidate_id</th>\n",
              "      <th>tweet_id</th>\n",
              "      <th>polarity</th>\n",
              "      <th>subjectivity</th>\n",
              "      <th>retweet_count</th>\n",
              "      <th>favorite_count</th>\n",
              "      <th>device</th>\n",
              "      <th>retweeted_status_id</th>\n",
              "      <th>lang</th>\n",
              "      <th>state</th>\n",
              "      <th>tweet_text</th>\n",
              "      <th>created_at</th>\n",
              "      <th>inserted_at</th>\n",
              "      <th>updated_at</th>\n",
              "      <th>tw_user_id</th>\n",
              "      <th>latitude</th>\n",
              "      <th>longitude</th>\n",
              "    </tr>\n",
              "  </thead>\n",
              "  <tbody>\n",
              "    <tr>\n",
              "      <th>0</th>\n",
              "      <td>57486</td>\n",
              "      <td>3</td>\n",
              "      <td>770728672433143808</td>\n",
              "      <td>0.000000</td>\n",
              "      <td>0.000000</td>\n",
              "      <td>0</td>\n",
              "      <td>0</td>\n",
              "      <td>1</td>\n",
              "      <td>NaN</td>\n",
              "      <td>tr</td>\n",
              "      <td>NaN</td>\n",
              "      <td>Ne farkınız var DAIŞ, El-Kaide, El Nusra, YPG ...</td>\n",
              "      <td>2016-08-30 21:03:29</td>\n",
              "      <td>2016-08-30 21:03:29</td>\n",
              "      <td>2016-08-30 21:03:29</td>\n",
              "      <td>NaN</td>\n",
              "      <td>NaN</td>\n",
              "      <td>NaN</td>\n",
              "    </tr>\n",
              "    <tr>\n",
              "      <th>1</th>\n",
              "      <td>57536</td>\n",
              "      <td>3</td>\n",
              "      <td>770729424207618048</td>\n",
              "      <td>0.000000</td>\n",
              "      <td>0.000000</td>\n",
              "      <td>0</td>\n",
              "      <td>0</td>\n",
              "      <td>1</td>\n",
              "      <td>NaN</td>\n",
              "      <td>en</td>\n",
              "      <td>NaN</td>\n",
              "      <td>@BarackObama the way you showed up in Louisian...</td>\n",
              "      <td>2016-08-30 21:06:28</td>\n",
              "      <td>2016-08-30 21:06:29</td>\n",
              "      <td>2016-08-30 21:06:29</td>\n",
              "      <td>NaN</td>\n",
              "      <td>NaN</td>\n",
              "      <td>NaN</td>\n",
              "    </tr>\n",
              "    <tr>\n",
              "      <th>2</th>\n",
              "      <td>57586</td>\n",
              "      <td>3</td>\n",
              "      <td>770730086978977796</td>\n",
              "      <td>-0.472222</td>\n",
              "      <td>0.555556</td>\n",
              "      <td>0</td>\n",
              "      <td>0</td>\n",
              "      <td>1</td>\n",
              "      <td>NaN</td>\n",
              "      <td>en</td>\n",
              "      <td>NaN</td>\n",
              "      <td>White house not taking tax avoid seriously! Ap...</td>\n",
              "      <td>2016-08-30 21:09:06</td>\n",
              "      <td>2016-08-30 21:09:07</td>\n",
              "      <td>2016-08-30 21:09:07</td>\n",
              "      <td>NaN</td>\n",
              "      <td>NaN</td>\n",
              "      <td>NaN</td>\n",
              "    </tr>\n",
              "    <tr>\n",
              "      <th>3</th>\n",
              "      <td>57632</td>\n",
              "      <td>2</td>\n",
              "      <td>770748036972773376</td>\n",
              "      <td>0.000000</td>\n",
              "      <td>0.000000</td>\n",
              "      <td>0</td>\n",
              "      <td>0</td>\n",
              "      <td>0</td>\n",
              "      <td>NaN</td>\n",
              "      <td>en</td>\n",
              "      <td>NaN</td>\n",
              "      <td>politico: .realDonaldTrump, HillaryClinton ple...</td>\n",
              "      <td>2016-08-30 22:20:26</td>\n",
              "      <td>2016-08-30 22:20:26</td>\n",
              "      <td>2016-08-30 22:20:26</td>\n",
              "      <td>NaN</td>\n",
              "      <td>NaN</td>\n",
              "      <td>NaN</td>\n",
              "    </tr>\n",
              "    <tr>\n",
              "      <th>4</th>\n",
              "      <td>57682</td>\n",
              "      <td>1</td>\n",
              "      <td>770748065531723778</td>\n",
              "      <td>-0.125000</td>\n",
              "      <td>0.375000</td>\n",
              "      <td>0</td>\n",
              "      <td>0</td>\n",
              "      <td>5</td>\n",
              "      <td>NaN</td>\n",
              "      <td>en</td>\n",
              "      <td>NaN</td>\n",
              "      <td>She's over due by 250 days. https://t.co/IfOO9...</td>\n",
              "      <td>2016-08-30 22:20:33</td>\n",
              "      <td>2016-08-30 22:20:33</td>\n",
              "      <td>2016-08-30 22:20:33</td>\n",
              "      <td>NaN</td>\n",
              "      <td>NaN</td>\n",
              "      <td>NaN</td>\n",
              "    </tr>\n",
              "  </tbody>\n",
              "</table>\n",
              "</div>"
            ],
            "text/plain": [
              "      id  candidate_id            tweet_id  ...  tw_user_id  latitude  longitude\n",
              "0  57486             3  770728672433143808  ...         NaN       NaN        NaN\n",
              "1  57536             3  770729424207618048  ...         NaN       NaN        NaN\n",
              "2  57586             3  770730086978977796  ...         NaN       NaN        NaN\n",
              "3  57632             2  770748036972773376  ...         NaN       NaN        NaN\n",
              "4  57682             1  770748065531723778  ...         NaN       NaN        NaN\n",
              "\n",
              "[5 rows x 18 columns]"
            ]
          },
          "metadata": {
            "tags": []
          },
          "execution_count": 29
        }
      ]
    },
    {
      "cell_type": "code",
      "metadata": {
        "colab": {
          "base_uri": "https://localhost:8080/",
          "height": 400
        },
        "id": "p00zhBgbEgmG",
        "outputId": "a3289ec5-cd4b-4e53-d5f0-1c6a51e70916"
      },
      "source": [
        "election_data = election_data.rename(columns = {'tweet_text': 'Text'}, inplace = False)\r\n",
        "election_data.head()"
      ],
      "execution_count": null,
      "outputs": [
        {
          "output_type": "execute_result",
          "data": {
            "text/html": [
              "<div>\n",
              "<style scoped>\n",
              "    .dataframe tbody tr th:only-of-type {\n",
              "        vertical-align: middle;\n",
              "    }\n",
              "\n",
              "    .dataframe tbody tr th {\n",
              "        vertical-align: top;\n",
              "    }\n",
              "\n",
              "    .dataframe thead th {\n",
              "        text-align: right;\n",
              "    }\n",
              "</style>\n",
              "<table border=\"1\" class=\"dataframe\">\n",
              "  <thead>\n",
              "    <tr style=\"text-align: right;\">\n",
              "      <th></th>\n",
              "      <th>id</th>\n",
              "      <th>candidate_id</th>\n",
              "      <th>tweet_id</th>\n",
              "      <th>polarity</th>\n",
              "      <th>subjectivity</th>\n",
              "      <th>retweet_count</th>\n",
              "      <th>favorite_count</th>\n",
              "      <th>device</th>\n",
              "      <th>retweeted_status_id</th>\n",
              "      <th>lang</th>\n",
              "      <th>state</th>\n",
              "      <th>Text</th>\n",
              "      <th>created_at</th>\n",
              "      <th>inserted_at</th>\n",
              "      <th>updated_at</th>\n",
              "      <th>tw_user_id</th>\n",
              "      <th>latitude</th>\n",
              "      <th>longitude</th>\n",
              "    </tr>\n",
              "  </thead>\n",
              "  <tbody>\n",
              "    <tr>\n",
              "      <th>0</th>\n",
              "      <td>57486</td>\n",
              "      <td>3</td>\n",
              "      <td>770728672433143808</td>\n",
              "      <td>0.000000</td>\n",
              "      <td>0.000000</td>\n",
              "      <td>0</td>\n",
              "      <td>0</td>\n",
              "      <td>1</td>\n",
              "      <td>NaN</td>\n",
              "      <td>tr</td>\n",
              "      <td>NaN</td>\n",
              "      <td>Ne farkınız var DAIŞ, El-Kaide, El Nusra, YPG ...</td>\n",
              "      <td>2016-08-30 21:03:29</td>\n",
              "      <td>2016-08-30 21:03:29</td>\n",
              "      <td>2016-08-30 21:03:29</td>\n",
              "      <td>NaN</td>\n",
              "      <td>NaN</td>\n",
              "      <td>NaN</td>\n",
              "    </tr>\n",
              "    <tr>\n",
              "      <th>1</th>\n",
              "      <td>57536</td>\n",
              "      <td>3</td>\n",
              "      <td>770729424207618048</td>\n",
              "      <td>0.000000</td>\n",
              "      <td>0.000000</td>\n",
              "      <td>0</td>\n",
              "      <td>0</td>\n",
              "      <td>1</td>\n",
              "      <td>NaN</td>\n",
              "      <td>en</td>\n",
              "      <td>NaN</td>\n",
              "      <td>@BarackObama the way you showed up in Louisian...</td>\n",
              "      <td>2016-08-30 21:06:28</td>\n",
              "      <td>2016-08-30 21:06:29</td>\n",
              "      <td>2016-08-30 21:06:29</td>\n",
              "      <td>NaN</td>\n",
              "      <td>NaN</td>\n",
              "      <td>NaN</td>\n",
              "    </tr>\n",
              "    <tr>\n",
              "      <th>2</th>\n",
              "      <td>57586</td>\n",
              "      <td>3</td>\n",
              "      <td>770730086978977796</td>\n",
              "      <td>-0.472222</td>\n",
              "      <td>0.555556</td>\n",
              "      <td>0</td>\n",
              "      <td>0</td>\n",
              "      <td>1</td>\n",
              "      <td>NaN</td>\n",
              "      <td>en</td>\n",
              "      <td>NaN</td>\n",
              "      <td>White house not taking tax avoid seriously! Ap...</td>\n",
              "      <td>2016-08-30 21:09:06</td>\n",
              "      <td>2016-08-30 21:09:07</td>\n",
              "      <td>2016-08-30 21:09:07</td>\n",
              "      <td>NaN</td>\n",
              "      <td>NaN</td>\n",
              "      <td>NaN</td>\n",
              "    </tr>\n",
              "    <tr>\n",
              "      <th>3</th>\n",
              "      <td>57632</td>\n",
              "      <td>2</td>\n",
              "      <td>770748036972773376</td>\n",
              "      <td>0.000000</td>\n",
              "      <td>0.000000</td>\n",
              "      <td>0</td>\n",
              "      <td>0</td>\n",
              "      <td>0</td>\n",
              "      <td>NaN</td>\n",
              "      <td>en</td>\n",
              "      <td>NaN</td>\n",
              "      <td>politico: .realDonaldTrump, HillaryClinton ple...</td>\n",
              "      <td>2016-08-30 22:20:26</td>\n",
              "      <td>2016-08-30 22:20:26</td>\n",
              "      <td>2016-08-30 22:20:26</td>\n",
              "      <td>NaN</td>\n",
              "      <td>NaN</td>\n",
              "      <td>NaN</td>\n",
              "    </tr>\n",
              "    <tr>\n",
              "      <th>4</th>\n",
              "      <td>57682</td>\n",
              "      <td>1</td>\n",
              "      <td>770748065531723778</td>\n",
              "      <td>-0.125000</td>\n",
              "      <td>0.375000</td>\n",
              "      <td>0</td>\n",
              "      <td>0</td>\n",
              "      <td>5</td>\n",
              "      <td>NaN</td>\n",
              "      <td>en</td>\n",
              "      <td>NaN</td>\n",
              "      <td>She's over due by 250 days. https://t.co/IfOO9...</td>\n",
              "      <td>2016-08-30 22:20:33</td>\n",
              "      <td>2016-08-30 22:20:33</td>\n",
              "      <td>2016-08-30 22:20:33</td>\n",
              "      <td>NaN</td>\n",
              "      <td>NaN</td>\n",
              "      <td>NaN</td>\n",
              "    </tr>\n",
              "  </tbody>\n",
              "</table>\n",
              "</div>"
            ],
            "text/plain": [
              "      id  candidate_id            tweet_id  ...  tw_user_id  latitude  longitude\n",
              "0  57486             3  770728672433143808  ...         NaN       NaN        NaN\n",
              "1  57536             3  770729424207618048  ...         NaN       NaN        NaN\n",
              "2  57586             3  770730086978977796  ...         NaN       NaN        NaN\n",
              "3  57632             2  770748036972773376  ...         NaN       NaN        NaN\n",
              "4  57682             1  770748065531723778  ...         NaN       NaN        NaN\n",
              "\n",
              "[5 rows x 18 columns]"
            ]
          },
          "metadata": {
            "tags": []
          },
          "execution_count": 30
        }
      ]
    },
    {
      "cell_type": "code",
      "metadata": {
        "id": "49QheZ7XB3YB"
      },
      "source": [
        "election_data = election_data['Text']"
      ],
      "execution_count": null,
      "outputs": []
    },
    {
      "cell_type": "code",
      "metadata": {
        "colab": {
          "base_uri": "https://localhost:8080/"
        },
        "id": "5_QPqhJGCBXo",
        "outputId": "34a483fd-90a8-4a9a-fc99-77c3988bbaba"
      },
      "source": [
        "election_data"
      ],
      "execution_count": null,
      "outputs": [
        {
          "output_type": "execute_result",
          "data": {
            "text/plain": [
              "0        Ne farkınız var DAIŞ, El-Kaide, El Nusra, YPG ...\n",
              "1        @BarackObama the way you showed up in Louisian...\n",
              "2        White house not taking tax avoid seriously! Ap...\n",
              "3        politico: .realDonaldTrump, HillaryClinton ple...\n",
              "4        She's over due by 250 days. https://t.co/IfOO9...\n",
              "                               ...                        \n",
              "99995             @realDonaldTrump https://t.co/13kXC4QNqQ\n",
              "99996    @realDonaldTrump At least he's on record denyi...\n",
              "99997    @WrathJames @dapperlaughs @Rc4trum @realDonald...\n",
              "99998                               @realDonaldTrump Great\n",
              "99999        @realDonaldTrump they are not out to get you.\n",
              "Name: Text, Length: 100000, dtype: object"
            ]
          },
          "metadata": {
            "tags": []
          },
          "execution_count": 32
        }
      ]
    },
    {
      "cell_type": "code",
      "metadata": {
        "colab": {
          "base_uri": "https://localhost:8080/"
        },
        "id": "xB6iUjVrCHf2",
        "outputId": "b05fe44b-b148-4969-8f14-91d3f62686fb"
      },
      "source": [
        "election_data.count()"
      ],
      "execution_count": null,
      "outputs": [
        {
          "output_type": "execute_result",
          "data": {
            "text/plain": [
              "55393"
            ]
          },
          "metadata": {
            "tags": []
          },
          "execution_count": 33
        }
      ]
    },
    {
      "cell_type": "code",
      "metadata": {
        "id": "KOKOjgpxCLEu"
      },
      "source": [
        "election_data.dropna(how='any',inplace=True)"
      ],
      "execution_count": null,
      "outputs": []
    },
    {
      "cell_type": "code",
      "metadata": {
        "id": "z2LpBn9-sZj8"
      },
      "source": [
        "(election_data.dropna()).count()\n",
        "election_data = election_data.to_frame()\n",
        "election_data['domain'] = 3\n"
      ],
      "execution_count": null,
      "outputs": []
    },
    {
      "cell_type": "code",
      "metadata": {
        "id": "yEPwiz1iBttg"
      },
      "source": [
        "election_data['word_count'] = election_data['Text'].str.split().map(len)\n",
        "election_data = election_data[election_data['word_count']>=12]"
      ],
      "execution_count": null,
      "outputs": []
    },
    {
      "cell_type": "code",
      "metadata": {
        "colab": {
          "base_uri": "https://localhost:8080/"
        },
        "id": "GfG4IDKvE3a3",
        "outputId": "af39e08e-50e5-4c0b-f595-0dd368e370d9"
      },
      "source": [
        "election_data = election_data[:33333]\r\n",
        "election_data.count()"
      ],
      "execution_count": null,
      "outputs": [
        {
          "output_type": "execute_result",
          "data": {
            "text/plain": [
              "Text          33333\n",
              "domain        33333\n",
              "word_count    33333\n",
              "dtype: int64"
            ]
          },
          "metadata": {
            "tags": []
          },
          "execution_count": 37
        }
      ]
    },
    {
      "cell_type": "code",
      "metadata": {
        "colab": {
          "base_uri": "https://localhost:8080/",
          "height": 402
        },
        "id": "4Ht3txlhCQzh",
        "outputId": "126bd484-39ec-4aab-902a-55062bdebe61"
      },
      "source": [
        "election_data"
      ],
      "execution_count": null,
      "outputs": [
        {
          "output_type": "execute_result",
          "data": {
            "text/html": [
              "<div>\n",
              "<style scoped>\n",
              "    .dataframe tbody tr th:only-of-type {\n",
              "        vertical-align: middle;\n",
              "    }\n",
              "\n",
              "    .dataframe tbody tr th {\n",
              "        vertical-align: top;\n",
              "    }\n",
              "\n",
              "    .dataframe thead th {\n",
              "        text-align: right;\n",
              "    }\n",
              "</style>\n",
              "<table border=\"1\" class=\"dataframe\">\n",
              "  <thead>\n",
              "    <tr style=\"text-align: right;\">\n",
              "      <th></th>\n",
              "      <th>Text</th>\n",
              "      <th>domain</th>\n",
              "      <th>word_count</th>\n",
              "    </tr>\n",
              "  </thead>\n",
              "  <tbody>\n",
              "    <tr>\n",
              "      <th>0</th>\n",
              "      <td>Ne farkınız var DAIŞ, El-Kaide, El Nusra, YPG ...</td>\n",
              "      <td>3</td>\n",
              "      <td>16</td>\n",
              "    </tr>\n",
              "    <tr>\n",
              "      <th>3</th>\n",
              "      <td>politico: .realDonaldTrump, HillaryClinton ple...</td>\n",
              "      <td>3</td>\n",
              "      <td>13</td>\n",
              "    </tr>\n",
              "    <tr>\n",
              "      <th>7</th>\n",
              "      <td>@WSJ can we just report the results after Elec...</td>\n",
              "      <td>3</td>\n",
              "      <td>23</td>\n",
              "    </tr>\n",
              "    <tr>\n",
              "      <th>8</th>\n",
              "      <td>#BarackObama #Obama Obama commutes sentences f...</td>\n",
              "      <td>3</td>\n",
              "      <td>15</td>\n",
              "    </tr>\n",
              "    <tr>\n",
              "      <th>13</th>\n",
              "      <td>@DNCWomen @HillaryClinton \"And I see your VOTE...</td>\n",
              "      <td>3</td>\n",
              "      <td>17</td>\n",
              "    </tr>\n",
              "    <tr>\n",
              "      <th>...</th>\n",
              "      <td>...</td>\n",
              "      <td>...</td>\n",
              "      <td>...</td>\n",
              "    </tr>\n",
              "    <tr>\n",
              "      <th>98917</th>\n",
              "      <td>@realDonaldTrump Democrats do not care about t...</td>\n",
              "      <td>3</td>\n",
              "      <td>22</td>\n",
              "    </tr>\n",
              "    <tr>\n",
              "      <th>98918</th>\n",
              "      <td>@realDonaldTrump great job. It was wonderful h...</td>\n",
              "      <td>3</td>\n",
              "      <td>21</td>\n",
              "    </tr>\n",
              "    <tr>\n",
              "      <th>98920</th>\n",
              "      <td>@MsRhody7 @MintRoyale @BarcaJim @realDonaldTru...</td>\n",
              "      <td>3</td>\n",
              "      <td>16</td>\n",
              "    </tr>\n",
              "    <tr>\n",
              "      <th>98921</th>\n",
              "      <td>@realDonaldTrump oh but those leakers were ok ...</td>\n",
              "      <td>3</td>\n",
              "      <td>23</td>\n",
              "    </tr>\n",
              "    <tr>\n",
              "      <th>98922</th>\n",
              "      <td>@realDonaldTrump now u need to convince people...</td>\n",
              "      <td>3</td>\n",
              "      <td>14</td>\n",
              "    </tr>\n",
              "  </tbody>\n",
              "</table>\n",
              "<p>33333 rows × 3 columns</p>\n",
              "</div>"
            ],
            "text/plain": [
              "                                                    Text  domain  word_count\n",
              "0      Ne farkınız var DAIŞ, El-Kaide, El Nusra, YPG ...       3          16\n",
              "3      politico: .realDonaldTrump, HillaryClinton ple...       3          13\n",
              "7      @WSJ can we just report the results after Elec...       3          23\n",
              "8      #BarackObama #Obama Obama commutes sentences f...       3          15\n",
              "13     @DNCWomen @HillaryClinton \"And I see your VOTE...       3          17\n",
              "...                                                  ...     ...         ...\n",
              "98917  @realDonaldTrump Democrats do not care about t...       3          22\n",
              "98918  @realDonaldTrump great job. It was wonderful h...       3          21\n",
              "98920  @MsRhody7 @MintRoyale @BarcaJim @realDonaldTru...       3          16\n",
              "98921  @realDonaldTrump oh but those leakers were ok ...       3          23\n",
              "98922  @realDonaldTrump now u need to convince people...       3          14\n",
              "\n",
              "[33333 rows x 3 columns]"
            ]
          },
          "metadata": {
            "tags": []
          },
          "execution_count": 38
        }
      ]
    },
    {
      "cell_type": "code",
      "metadata": {
        "id": "lOvXFyEdKz5P"
      },
      "source": [
        "concatenated = pd.concat([sports_data, reviews_data])"
      ],
      "execution_count": null,
      "outputs": []
    },
    {
      "cell_type": "code",
      "metadata": {
        "colab": {
          "base_uri": "https://localhost:8080/",
          "height": 195
        },
        "id": "CPMFG2PESk9u",
        "outputId": "7e31757f-00bc-44fa-a28d-916b681b503c"
      },
      "source": [
        "concatenated.head()"
      ],
      "execution_count": null,
      "outputs": [
        {
          "output_type": "execute_result",
          "data": {
            "text/html": [
              "<div>\n",
              "<style scoped>\n",
              "    .dataframe tbody tr th:only-of-type {\n",
              "        vertical-align: middle;\n",
              "    }\n",
              "\n",
              "    .dataframe tbody tr th {\n",
              "        vertical-align: top;\n",
              "    }\n",
              "\n",
              "    .dataframe thead th {\n",
              "        text-align: right;\n",
              "    }\n",
              "</style>\n",
              "<table border=\"1\" class=\"dataframe\">\n",
              "  <thead>\n",
              "    <tr style=\"text-align: right;\">\n",
              "      <th></th>\n",
              "      <th>Text</th>\n",
              "      <th>domain</th>\n",
              "      <th>word_count</th>\n",
              "    </tr>\n",
              "  </thead>\n",
              "  <tbody>\n",
              "    <tr>\n",
              "      <th>1</th>\n",
              "      <td>I just bought a new Socceroos jersey. At �60 i...</td>\n",
              "      <td>1</td>\n",
              "      <td>43</td>\n",
              "    </tr>\n",
              "    <tr>\n",
              "      <th>6</th>\n",
              "      <td>Back in England. What a trip that was, feels l...</td>\n",
              "      <td>1</td>\n",
              "      <td>32</td>\n",
              "    </tr>\n",
              "    <tr>\n",
              "      <th>7</th>\n",
              "      <td>@bluekippercom As much as I don't rate Henders...</td>\n",
              "      <td>1</td>\n",
              "      <td>30</td>\n",
              "    </tr>\n",
              "    <tr>\n",
              "      <th>9</th>\n",
              "      <td>Awesome to be on @bbc5live this morning talkin...</td>\n",
              "      <td>1</td>\n",
              "      <td>46</td>\n",
              "    </tr>\n",
              "    <tr>\n",
              "      <th>13</th>\n",
              "      <td>Utterly shocked to hear Leroy Sane axed from G...</td>\n",
              "      <td>1</td>\n",
              "      <td>45</td>\n",
              "    </tr>\n",
              "  </tbody>\n",
              "</table>\n",
              "</div>"
            ],
            "text/plain": [
              "                                                 Text  domain  word_count\n",
              "1   I just bought a new Socceroos jersey. At �60 i...       1          43\n",
              "6   Back in England. What a trip that was, feels l...       1          32\n",
              "7   @bluekippercom As much as I don't rate Henders...       1          30\n",
              "9   Awesome to be on @bbc5live this morning talkin...       1          46\n",
              "13  Utterly shocked to hear Leroy Sane axed from G...       1          45"
            ]
          },
          "metadata": {
            "tags": []
          },
          "execution_count": 40
        }
      ]
    },
    {
      "cell_type": "code",
      "metadata": {
        "id": "QMNzS4sQSqXi"
      },
      "source": [
        "merged = pd.concat([concatenated, election_data])"
      ],
      "execution_count": null,
      "outputs": []
    },
    {
      "cell_type": "code",
      "metadata": {
        "id": "y9wqHML1TKf4"
      },
      "source": [
        "# merged = merged.to_frame()"
      ],
      "execution_count": null,
      "outputs": []
    },
    {
      "cell_type": "code",
      "metadata": {
        "colab": {
          "base_uri": "https://localhost:8080/"
        },
        "id": "CzRHqOb78d4k",
        "outputId": "bb410838-dce5-4619-bf4a-7daf5d4fb838"
      },
      "source": [
        "merged.info()"
      ],
      "execution_count": null,
      "outputs": [
        {
          "output_type": "stream",
          "text": [
            "<class 'pandas.core.frame.DataFrame'>\n",
            "Int64Index: 100001 entries, 1 to 98922\n",
            "Data columns (total 3 columns):\n",
            " #   Column      Non-Null Count   Dtype \n",
            "---  ------      --------------   ----- \n",
            " 0   Text        100001 non-null  object\n",
            " 1   domain      100001 non-null  int64 \n",
            " 2   word_count  100001 non-null  int64 \n",
            "dtypes: int64(2), object(1)\n",
            "memory usage: 3.1+ MB\n"
          ],
          "name": "stdout"
        }
      ]
    },
    {
      "cell_type": "code",
      "metadata": {
        "id": "2dS1byHYTOgv"
      },
      "source": [
        "# merged['word_count'] = merged['Text'].str.split().map(len)"
      ],
      "execution_count": null,
      "outputs": []
    },
    {
      "cell_type": "code",
      "metadata": {
        "colab": {
          "base_uri": "https://localhost:8080/"
        },
        "id": "p8xJhvkG8uya",
        "outputId": "df19cc0f-dffb-4278-92d9-30ee71429cdb"
      },
      "source": [
        "merged[merged['word_count']>=12].count()"
      ],
      "execution_count": null,
      "outputs": [
        {
          "output_type": "execute_result",
          "data": {
            "text/plain": [
              "Text          100001\n",
              "domain        100001\n",
              "word_count    100001\n",
              "dtype: int64"
            ]
          },
          "metadata": {
            "tags": []
          },
          "execution_count": 46
        }
      ]
    },
    {
      "cell_type": "markdown",
      "metadata": {
        "id": "BDbKIYxUwIwk"
      },
      "source": [
        "DataSet for preprocessing"
      ]
    },
    {
      "cell_type": "code",
      "metadata": {
        "id": "BeknpSAQ8mp_"
      },
      "source": [
        "merged.to_csv('/content/drive/MyDrive/IR_domain_custom_dataset.csv')"
      ],
      "execution_count": null,
      "outputs": []
    },
    {
      "cell_type": "code",
      "metadata": {
        "id": "J5A-oqadC9IB"
      },
      "source": [
        "merged = pd.read_csv('/content/drive/MyDrive/IR_domain_custom_dataset.csv')"
      ],
      "execution_count": null,
      "outputs": []
    },
    {
      "cell_type": "markdown",
      "metadata": {
        "id": "KkInEisODFmn"
      },
      "source": [
        "Data Preprocessing"
      ]
    },
    {
      "cell_type": "code",
      "metadata": {
        "colab": {
          "base_uri": "https://localhost:8080/"
        },
        "id": "e1HunrFRDDWX",
        "outputId": "4dfb9c51-5088-4fac-96b0-1544b80c1cf4"
      },
      "source": [
        "!pip install emot\n",
        "!pip install unidecode\n",
        "!pip install word2number\n",
        "!pip install gensim\n",
        "!pip install contractions"
      ],
      "execution_count": null,
      "outputs": [
        {
          "output_type": "stream",
          "text": [
            "Collecting emot\n",
            "  Downloading https://files.pythonhosted.org/packages/49/07/20001ade19873de611b7b66a4d5e5aabbf190d65abea337d5deeaa2bc3de/emot-2.1-py3-none-any.whl\n",
            "Installing collected packages: emot\n",
            "Successfully installed emot-2.1\n",
            "Collecting unidecode\n",
            "\u001b[?25l  Downloading https://files.pythonhosted.org/packages/d0/42/d9edfed04228bacea2d824904cae367ee9efd05e6cce7ceaaedd0b0ad964/Unidecode-1.1.1-py2.py3-none-any.whl (238kB)\n",
            "\u001b[K     |████████████████████████████████| 245kB 13.1MB/s \n",
            "\u001b[?25hInstalling collected packages: unidecode\n",
            "Successfully installed unidecode-1.1.1\n",
            "Collecting word2number\n",
            "  Downloading https://files.pythonhosted.org/packages/4a/29/a31940c848521f0725f0df6b25dca8917f13a2025b0e8fcbe5d0457e45e6/word2number-1.1.zip\n",
            "Building wheels for collected packages: word2number\n",
            "  Building wheel for word2number (setup.py) ... \u001b[?25l\u001b[?25hdone\n",
            "  Created wheel for word2number: filename=word2number-1.1-cp36-none-any.whl size=5588 sha256=adccb9e4456d1c3fd13cdeb51ef0ea7da98432bd1ebe09951195c5fba1a992df\n",
            "  Stored in directory: /root/.cache/pip/wheels/46/2f/53/5f5c1d275492f2fce1cdab9a9bb12d49286dead829a4078e0e\n",
            "Successfully built word2number\n",
            "Installing collected packages: word2number\n",
            "Successfully installed word2number-1.1\n",
            "Requirement already satisfied: gensim in /usr/local/lib/python3.6/dist-packages (3.6.0)\n",
            "Requirement already satisfied: scipy>=0.18.1 in /usr/local/lib/python3.6/dist-packages (from gensim) (1.4.1)\n",
            "Requirement already satisfied: smart-open>=1.2.1 in /usr/local/lib/python3.6/dist-packages (from gensim) (4.0.1)\n",
            "Requirement already satisfied: six>=1.5.0 in /usr/local/lib/python3.6/dist-packages (from gensim) (1.15.0)\n",
            "Requirement already satisfied: numpy>=1.11.3 in /usr/local/lib/python3.6/dist-packages (from gensim) (1.19.4)\n",
            "Collecting contractions\n",
            "  Downloading https://files.pythonhosted.org/packages/ce/ad/d1c685967945a04f8596128b15a1ab56c51488f53312e953341af6ff22d1/contractions-0.0.43-py2.py3-none-any.whl\n",
            "Collecting textsearch\n",
            "  Downloading https://files.pythonhosted.org/packages/42/a8/03407021f9555043de5492a2bd7a35c56cc03c2510092b5ec018cae1bbf1/textsearch-0.0.17-py2.py3-none-any.whl\n",
            "Collecting pyahocorasick\n",
            "\u001b[?25l  Downloading https://files.pythonhosted.org/packages/f4/9f/f0d8e8850e12829eea2e778f1c90e3c53a9a799b7f412082a5d21cd19ae1/pyahocorasick-1.4.0.tar.gz (312kB)\n",
            "\u001b[K     |████████████████████████████████| 317kB 15.8MB/s \n",
            "\u001b[?25hRequirement already satisfied: Unidecode in /usr/local/lib/python3.6/dist-packages (from textsearch->contractions) (1.1.1)\n",
            "Building wheels for collected packages: pyahocorasick\n",
            "  Building wheel for pyahocorasick (setup.py) ... \u001b[?25l\u001b[?25hdone\n",
            "  Created wheel for pyahocorasick: filename=pyahocorasick-1.4.0-cp36-cp36m-linux_x86_64.whl size=81697 sha256=c9fe58774b931adca0943e6696fc0495f2980ad2bd44031c7916c0d97d42846c\n",
            "  Stored in directory: /root/.cache/pip/wheels/0a/90/61/87a55f5b459792fbb2b7ba6b31721b06ff5cf6bde541b40994\n",
            "Successfully built pyahocorasick\n",
            "Installing collected packages: pyahocorasick, textsearch, contractions\n",
            "Successfully installed contractions-0.0.43 pyahocorasick-1.4.0 textsearch-0.0.17\n"
          ],
          "name": "stdout"
        }
      ]
    },
    {
      "cell_type": "code",
      "metadata": {
        "id": "_l8B07RPDSAx"
      },
      "source": [
        "#for emojis and emoticons\n",
        "#Installing emot library\n",
        "\n",
        "#Importing libraries\n",
        "import re\n",
        "from emot.emo_unicode import UNICODE_EMO, EMOTICONS"
      ],
      "execution_count": null,
      "outputs": []
    },
    {
      "cell_type": "code",
      "metadata": {
        "colab": {
          "base_uri": "https://localhost:8080/"
        },
        "id": "CxcrdsOWDTeb",
        "outputId": "20e07229-67dd-470c-a636-9437d993d6da"
      },
      "source": [
        "!python -m spacy download en_core_web_md"
      ],
      "execution_count": null,
      "outputs": [
        {
          "output_type": "stream",
          "text": [
            "Collecting en_core_web_md==2.2.5\n",
            "\u001b[?25l  Downloading https://github.com/explosion/spacy-models/releases/download/en_core_web_md-2.2.5/en_core_web_md-2.2.5.tar.gz (96.4MB)\n",
            "\u001b[K     |████████████████████████████████| 96.4MB 1.2MB/s \n",
            "\u001b[?25hRequirement already satisfied: spacy>=2.2.2 in /usr/local/lib/python3.6/dist-packages (from en_core_web_md==2.2.5) (2.2.4)\n",
            "Requirement already satisfied: murmurhash<1.1.0,>=0.28.0 in /usr/local/lib/python3.6/dist-packages (from spacy>=2.2.2->en_core_web_md==2.2.5) (1.0.5)\n",
            "Requirement already satisfied: wasabi<1.1.0,>=0.4.0 in /usr/local/lib/python3.6/dist-packages (from spacy>=2.2.2->en_core_web_md==2.2.5) (0.8.0)\n",
            "Requirement already satisfied: thinc==7.4.0 in /usr/local/lib/python3.6/dist-packages (from spacy>=2.2.2->en_core_web_md==2.2.5) (7.4.0)\n",
            "Requirement already satisfied: catalogue<1.1.0,>=0.0.7 in /usr/local/lib/python3.6/dist-packages (from spacy>=2.2.2->en_core_web_md==2.2.5) (1.0.0)\n",
            "Requirement already satisfied: preshed<3.1.0,>=3.0.2 in /usr/local/lib/python3.6/dist-packages (from spacy>=2.2.2->en_core_web_md==2.2.5) (3.0.5)\n",
            "Requirement already satisfied: tqdm<5.0.0,>=4.38.0 in /usr/local/lib/python3.6/dist-packages (from spacy>=2.2.2->en_core_web_md==2.2.5) (4.41.1)\n",
            "Requirement already satisfied: requests<3.0.0,>=2.13.0 in /usr/local/lib/python3.6/dist-packages (from spacy>=2.2.2->en_core_web_md==2.2.5) (2.23.0)\n",
            "Requirement already satisfied: numpy>=1.15.0 in /usr/local/lib/python3.6/dist-packages (from spacy>=2.2.2->en_core_web_md==2.2.5) (1.19.4)\n",
            "Requirement already satisfied: cymem<2.1.0,>=2.0.2 in /usr/local/lib/python3.6/dist-packages (from spacy>=2.2.2->en_core_web_md==2.2.5) (2.0.5)\n",
            "Requirement already satisfied: blis<0.5.0,>=0.4.0 in /usr/local/lib/python3.6/dist-packages (from spacy>=2.2.2->en_core_web_md==2.2.5) (0.4.1)\n",
            "Requirement already satisfied: setuptools in /usr/local/lib/python3.6/dist-packages (from spacy>=2.2.2->en_core_web_md==2.2.5) (50.3.2)\n",
            "Requirement already satisfied: srsly<1.1.0,>=1.0.2 in /usr/local/lib/python3.6/dist-packages (from spacy>=2.2.2->en_core_web_md==2.2.5) (1.0.5)\n",
            "Requirement already satisfied: plac<1.2.0,>=0.9.6 in /usr/local/lib/python3.6/dist-packages (from spacy>=2.2.2->en_core_web_md==2.2.5) (1.1.3)\n",
            "Requirement already satisfied: importlib-metadata>=0.20; python_version < \"3.8\" in /usr/local/lib/python3.6/dist-packages (from catalogue<1.1.0,>=0.0.7->spacy>=2.2.2->en_core_web_md==2.2.5) (3.3.0)\n",
            "Requirement already satisfied: urllib3!=1.25.0,!=1.25.1,<1.26,>=1.21.1 in /usr/local/lib/python3.6/dist-packages (from requests<3.0.0,>=2.13.0->spacy>=2.2.2->en_core_web_md==2.2.5) (1.24.3)\n",
            "Requirement already satisfied: idna<3,>=2.5 in /usr/local/lib/python3.6/dist-packages (from requests<3.0.0,>=2.13.0->spacy>=2.2.2->en_core_web_md==2.2.5) (2.10)\n",
            "Requirement already satisfied: certifi>=2017.4.17 in /usr/local/lib/python3.6/dist-packages (from requests<3.0.0,>=2.13.0->spacy>=2.2.2->en_core_web_md==2.2.5) (2020.12.5)\n",
            "Requirement already satisfied: chardet<4,>=3.0.2 in /usr/local/lib/python3.6/dist-packages (from requests<3.0.0,>=2.13.0->spacy>=2.2.2->en_core_web_md==2.2.5) (3.0.4)\n",
            "Requirement already satisfied: typing-extensions>=3.6.4; python_version < \"3.8\" in /usr/local/lib/python3.6/dist-packages (from importlib-metadata>=0.20; python_version < \"3.8\"->catalogue<1.1.0,>=0.0.7->spacy>=2.2.2->en_core_web_md==2.2.5) (3.7.4.3)\n",
            "Requirement already satisfied: zipp>=0.5 in /usr/local/lib/python3.6/dist-packages (from importlib-metadata>=0.20; python_version < \"3.8\"->catalogue<1.1.0,>=0.0.7->spacy>=2.2.2->en_core_web_md==2.2.5) (3.4.0)\n",
            "Building wheels for collected packages: en-core-web-md\n",
            "  Building wheel for en-core-web-md (setup.py) ... \u001b[?25l\u001b[?25hdone\n",
            "  Created wheel for en-core-web-md: filename=en_core_web_md-2.2.5-cp36-none-any.whl size=98051304 sha256=3a219d70de4f8ba2a3f68c7a85c19e0426e872607ad037bbee298f2ae0793792\n",
            "  Stored in directory: /tmp/pip-ephem-wheel-cache-lo4b6ruu/wheels/df/94/ad/f5cf59224cea6b5686ac4fd1ad19c8a07bc026e13c36502d81\n",
            "Successfully built en-core-web-md\n",
            "Installing collected packages: en-core-web-md\n",
            "Successfully installed en-core-web-md-2.2.5\n",
            "\u001b[38;5;2m✔ Download and installation successful\u001b[0m\n",
            "You can now load the model via spacy.load('en_core_web_md')\n"
          ],
          "name": "stdout"
        }
      ]
    },
    {
      "cell_type": "code",
      "metadata": {
        "id": "Jo1PNC20DU9t"
      },
      "source": [
        "\n",
        "from bs4 import BeautifulSoup\n",
        "import spacy\n",
        "import unidecode\n",
        "from word2number import w2n\n",
        "import gensim.downloader as api\n",
        "import en_core_web_md\n",
        "import contractions\n",
        "import pandas as pd\n",
        "from itertools import count\n",
        "\n"
      ],
      "execution_count": null,
      "outputs": []
    },
    {
      "cell_type": "code",
      "metadata": {
        "id": "kS4na2qVDWe6"
      },
      "source": [
        "nlp = en_core_web_md.load()"
      ],
      "execution_count": null,
      "outputs": []
    },
    {
      "cell_type": "code",
      "metadata": {
        "id": "JZvHgOm_DYyK"
      },
      "source": [
        "# exclude words from spacy stopwords list\n",
        "deselect_stop_words = ['no', 'not']\n",
        "\n",
        "for w in deselect_stop_words:\n",
        "    nlp.vocab[w].is_stop = False\n"
      ],
      "execution_count": null,
      "outputs": []
    },
    {
      "cell_type": "code",
      "metadata": {
        "id": "kM6nYa35DahZ"
      },
      "source": [
        "# Function for converting emojis and emoticons into words\n",
        "def convert_emojis(text):\n",
        "    for emot in UNICODE_EMO:\n",
        "        text = text.replace(emot,' <' + \"-\".join(UNICODE_EMO[emot].replace(\",\",\"\").replace(\":\",\"\").split()) + '> ')\n",
        "    for emot in EMOTICONS:\n",
        "        text = re.sub(u'('+emot+')',' <' + \"-\".join(EMOTICONS[emot].replace(\",\",\"\").split()) + '> ', text)\n",
        "    return text\n",
        "\n",
        "def convert_mentions_to_tags(text):\n",
        "    ss=re.sub(r'@[A-Z0-9a-z_:]+','<tag_ ',text)\n",
        "    return ss\n",
        "def convert_mentions_to_tags_2(text):\n",
        "    button_number_count = 1;\n",
        "    counter = count(button_number_count)\n",
        "    sss = re.sub(r'< tag _', lambda x: '<tag_' + str(next(counter)) + '> ', text )\n",
        "    return sss\n",
        "\n",
        "\n",
        "def strip_html_tags(text):\n",
        "    \"\"\"remove html tags from text\"\"\"\n",
        "    soup = BeautifulSoup(text, \"html.parser\")\n",
        "    stripped_text = soup.get_text(separator=\" \")\n",
        "    return stripped_text\n",
        "\n",
        "\n",
        "def remove_whitespace(text):\n",
        "    \"\"\"remove extra whitespaces from text\"\"\"\n",
        "    text = text.strip()\n",
        "    return \" \".join(text.split())\n",
        "\n",
        "\n",
        "def remove_accented_chars(text):\n",
        "    \"\"\"remove accented characters from text, e.g. café\"\"\"\n",
        "    text = unidecode.unidecode(text)\n",
        "    return text\n",
        "\n",
        "\n",
        "def expand_contractions(text):\n",
        "    \"\"\"expand shortened words, e.g. don't to do not\"\"\"\n",
        "    text = contractions.fix(text)\n",
        "#     text = list(cont.expand_texts([text], precise=True))[0]\n",
        "    return text\n",
        "\n",
        "\n",
        "def text_preprocessing(text, accented_chars=True, contractions=True, \n",
        "                       convert_num=True, extra_whitespace=True, \n",
        "                       lemmatization=True, lowercase=True, punctuations=True,\n",
        "                       remove_html=True, remove_num=True, special_chars=True, \n",
        "                       stop_words=True, convert_emoji=True, convert_mentions=True):\n",
        "    \"\"\"preprocess text with default option set to true for all steps\"\"\"\n",
        "    \n",
        "    text = str(text)\n",
        "    if convert_mentions == True:\n",
        "        text = convert_mentions_to_tags(text) \n",
        "    if remove_html == True: #remove html tags\n",
        "        text = strip_html_tags(text)\n",
        "    if convert_emoji == True: #convert emojis to words\n",
        "        text = convert_emojis(text)\n",
        "    if extra_whitespace == True: #remove extra whitespaces\n",
        "        text = remove_whitespace(text)\n",
        "    if accented_chars == True: #remove accented characters\n",
        "        text = remove_accented_chars(text)\n",
        "    if contractions == True: #expand contractions\n",
        "        text = expand_contractions(text)\n",
        "    if lowercase == True: #convert all characters to lowercase\n",
        "        text = text.lower()\n",
        "    \n",
        "\n",
        "    doc = nlp(text) #tokenise text\n",
        "\n",
        "    clean_text = []\n",
        "    ct = ''\n",
        "    \n",
        "    for token in doc:\n",
        "        flag = True\n",
        "        edit = token.text\n",
        "        # remove stop words\n",
        "        if stop_words == True and token.is_stop and token.pos_ != 'NUM': \n",
        "            flag = False\n",
        "        # remove punctuations\n",
        "        if punctuations == True and token.pos_ == 'PUNCT' and flag == True: \n",
        "            flag = False\n",
        "        # remove special characters\n",
        "        if special_chars == True and token.pos_ == 'SYM' and flag == True: \n",
        "            flag = False\n",
        "        # remove numbers\n",
        "        if remove_num == True and (token.pos_ == 'NUM' or token.text.isnumeric()) \\\n",
        "        and flag == True:\n",
        "            flag = False\n",
        "\n",
        "        # convert number words to numeric numbers\n",
        "        if convert_num == True and token.pos_ == 'NUM' and flag == True:\n",
        "            edit = w2n.word_to_num(token.text)\n",
        "        # convert tokens to base form\n",
        "        elif lemmatization == True and token.lemma_ != \"-PRON-\" and flag == True:\n",
        "            edit = token.lemma_\n",
        "        # append tokens edited and not removed to list \n",
        "        if edit != \"\" and flag == True:\n",
        "            clean_text.append(edit)    \n",
        "    # if convert_mentions == True:\n",
        "    #     clean_text = convert_mentions_to_tags_2(clean_text) \n",
        "    for i in clean_text:\n",
        "      ct += i+' '\n",
        "    if convert_mentions == True:\n",
        "        ct = convert_mentions_to_tags_2(ct) \n",
        "    ct = remove_whitespace(ct)\n",
        "    return ct\n",
        "\n",
        "    \n",
        "      \n"
      ],
      "execution_count": null,
      "outputs": []
    },
    {
      "cell_type": "code",
      "metadata": {
        "id": "WEhiP4jPDdJu"
      },
      "source": [
        "def preprocess_and_save(ds):\n",
        "  #ds = ds.astype(str)\n",
        "  ds['Text'] = ds['Text'].map(text_preprocessing)\n",
        "  \n",
        "  ds.to_csv(\"/content/drive/MyDrive/IR_domain_custom_dataset_processed.csv\")\n",
        "  print(\"save successful\")\n",
        "\n"
      ],
      "execution_count": null,
      "outputs": []
    },
    {
      "cell_type": "code",
      "metadata": {
        "colab": {
          "background_save": true
        },
        "id": "cx3802FeD0W1",
        "outputId": "9147c786-5fa7-416b-dd26-169defbb7b8c"
      },
      "source": [
        "preprocess_and_save(merged)"
      ],
      "execution_count": null,
      "outputs": [
        {
          "output_type": "stream",
          "text": [
            "save successful\n"
          ],
          "name": "stdout"
        }
      ]
    },
    {
      "cell_type": "code",
      "metadata": {
        "id": "cP43I9hMHd1A"
      },
      "source": [
        "import pandas as pd\r\n",
        "from sklearn import model_selection, preprocessing, linear_model, naive_bayes, metrics, svm\r\n",
        "from sklearn.naive_bayes import MultinomialNB\r\n",
        "from sklearn.feature_extraction.text import TfidfVectorizer, CountVectorizer\r\n",
        "from sklearn import decomposition, ensemble\r\n",
        "from sklearn import *\r\n",
        "from sklearn.metrics import classification_report\r\n",
        "import pandas, xgboost, numpy, textblob, string"
      ],
      "execution_count": 5,
      "outputs": []
    },
    {
      "cell_type": "code",
      "metadata": {
        "id": "eHsZzjyEJwIC"
      },
      "source": [
        "data_classify = pd.read_csv('/content/drive/MyDrive/IR_domain_custom_dataset_processed.csv')"
      ],
      "execution_count": 6,
      "outputs": []
    },
    {
      "cell_type": "code",
      "metadata": {
        "colab": {
          "base_uri": "https://localhost:8080/"
        },
        "id": "xaOXTpgiR7AF",
        "outputId": "bbecf15d-184a-451e-b893-3de804269f6c"
      },
      "source": [
        "for column in data_classify:\n",
        "    if data_classify[column].isnull().any():\n",
        "       print('{0} has {1} null values'.format(column, data_classify[column].isnull().sum()))"
      ],
      "execution_count": 7,
      "outputs": [
        {
          "output_type": "stream",
          "text": [
            "Text has 3 null values\n",
            "domain has 53555 null values\n",
            "word_count has 53558 null values\n"
          ],
          "name": "stdout"
        }
      ]
    },
    {
      "cell_type": "code",
      "metadata": {
        "id": "jcojIzmaSJp6"
      },
      "source": [
        "data_classify = data_classify.dropna()"
      ],
      "execution_count": 8,
      "outputs": []
    },
    {
      "cell_type": "code",
      "metadata": {
        "id": "idy-6hznSzL-"
      },
      "source": [
        "for column in data_classify:\n",
        "    if data_classify[column].isnull().any():\n",
        "       print('{0} has {1} null values'.format(column, data_classify[column].isnull().sum()))"
      ],
      "execution_count": 9,
      "outputs": []
    },
    {
      "cell_type": "code",
      "metadata": {
        "colab": {
          "base_uri": "https://localhost:8080/"
        },
        "id": "p06jsC0XTbRH",
        "outputId": "568afc0b-6ecb-4197-b2bd-31ca1e75a970"
      },
      "source": [
        "data_classify['word_count'].count()"
      ],
      "execution_count": 10,
      "outputs": [
        {
          "output_type": "execute_result",
          "data": {
            "text/plain": [
              "99998"
            ]
          },
          "metadata": {
            "tags": []
          },
          "execution_count": 10
        }
      ]
    },
    {
      "cell_type": "code",
      "metadata": {
        "id": "yqk7xINYKqJU"
      },
      "source": [
        "train_x, valid_x, train_y, valid_y = model_selection.train_test_split(data_classify['Text'], data_classify['domain'])"
      ],
      "execution_count": 11,
      "outputs": []
    },
    {
      "cell_type": "code",
      "metadata": {
        "id": "dE5fRVGDLRzB"
      },
      "source": [
        "# ngram level tf-idf \n",
        "tfidf_vect_ngram = TfidfVectorizer(analyzer='word', token_pattern=r'\\w{1,}', ngram_range=(2,3), max_features=5000)\n",
        "tfidf_vect_ngram.fit(data_classify['Text'])\n",
        "xtrain_tfidf_ngram =  tfidf_vect_ngram.transform(train_x)\n",
        "xvalid_tfidf_ngram =  tfidf_vect_ngram.transform(valid_x)"
      ],
      "execution_count": 12,
      "outputs": []
    },
    {
      "cell_type": "code",
      "metadata": {
        "colab": {
          "base_uri": "https://localhost:8080/"
        },
        "id": "pxye5aTgWCwi",
        "outputId": "21b682a6-daea-4db3-ae5d-8fd246efe16d"
      },
      "source": [
        "print('- Size of the matrix is', xvalid_tfidf_ngram.shape)"
      ],
      "execution_count": 13,
      "outputs": [
        {
          "output_type": "stream",
          "text": [
            "- Size of the matrix is (25000, 5000)\n"
          ],
          "name": "stdout"
        }
      ]
    },
    {
      "cell_type": "code",
      "metadata": {
        "colab": {
          "base_uri": "https://localhost:8080/"
        },
        "id": "qwD7iHBoWP3X",
        "outputId": "e5f926ad-5add-4233-fcbc-745798157c2e"
      },
      "source": [
        "xvalid_tfidf_ngram[0][0]"
      ],
      "execution_count": 14,
      "outputs": [
        {
          "output_type": "execute_result",
          "data": {
            "text/plain": [
              "<1x5000 sparse matrix of type '<class 'numpy.float64'>'\n",
              "\twith 31 stored elements in Compressed Sparse Row format>"
            ]
          },
          "metadata": {
            "tags": []
          },
          "execution_count": 14
        }
      ]
    },
    {
      "cell_type": "code",
      "metadata": {
        "colab": {
          "base_uri": "https://localhost:8080/"
        },
        "id": "UHE79yB4XAk6",
        "outputId": "68123f8e-6f80-4310-c267-bfa29ac4ad50"
      },
      "source": [
        "print('Here is my bag of words:', tfidf_vect_ngram.get_feature_names())"
      ],
      "execution_count": 15,
      "outputs": [
        {
          "output_type": "stream",
          "text": [
            "Here is my bag of words: ['1 3', '1 eng', '1 eng beat', '1 https', '1 https skeptical', '1 join', '1 threelion', '12 pack', '16 ounce', '18 retweet', '18 retweet join', '18 t', '18 t cs', '18s retweet', '18s retweet join', '1st time', '24 count', '28th t', '28th t cs', '2nd half', '33 1', '3lions england', '3rd place', '50 1', '50 1 eng', '50 1 https', '66 1', '_ _', '_ _ _', '_ https', '_ https skeptical', '_ tag', '_ tag _', '_ tag_1', '_ tag_1 tag_2', 'able buy', 'able eat', 'able find', 'able order', 'able use', 'absolute favorite', 'absolutely delicious', 'absolutely gutte', 'absolutely love', 'absolutely no', 'account t', 'account t cs', 'account threelions', 'account threelions engpan', 'acid coffee', 'acid reflux', 'acquire taste', 'act like', 'actually eat', 'actually good', 'actually like', 'actually look', 'actually not', 'actually taste', 'actually taste like', 'actually think', 'add bit', 'add bonus', 'add cup', 'add extra', 'add flavor', 'add hot', 'add ingredient', 'add little', 'add lot', 'add milk', 'add nice', 'add not', 'add salt', 'add sugar', 'add tablespoon', 'add water', 'admit not', 'adult experience', 'adult experience mental', 'afford supreme', 'afford supreme court', 'african american', 'african americans', 'afternoon snack', 'aftertaste not', 'agave nectar', 'ago not', 'agree reply', 'agree reply yes', 'agree reviewer', 'air popper', 'allergic reaction', 'almond butter', 'almond milk', 'alt right', 'alternative regular', 'alternative soda', 'amazing not', 'amazon buy', 'amazon carry', 'amazon cheap', 'amazon com', 'amazon come', 'amazon confusion', 'amazon customer', 'amazon find', 'amazon good', 'amazon good price', 'amazon great', 'amazon great price', 'amazon make', 'amazon not', 'amazon offer', 'amazon order', 'amazon price', 'amazon prime', 'amazon product', 'amazon sell', 'amazon ship', 'amazon subscribe', 'amazon subscribe save', 'amazon well', 'america great', 'america https', 'america https skeptical', 'america not', 'american people', 'americans https', 'americans https skeptical', 'americans not', 'amp tag_2', 'amp tag_3', 'amp tag_4', 'and or', 'android app', 'android app https', 'andry pout', 'angel hair', 'annoyed undecided', 'annoyed undecided uneasy', 'answer question', 'app https', 'app https skeptical', 'apple cinnamon', 'apple grape', 'apple juice', 'apply 18', 'apply 18 retweet', 'apply 18s', 'apply 18s retweet', 'apply begambleaware', 'apply confusion', 'apply https', 'apply https skeptical', 'apply new', 'apply new customer', 'apply worldcup', 'apply worldcup england', 'apply worldcup worldcup2018', 'arg arg', 'army navy', 'army navy usmc', 'aroma taste', 'arrive day', 'arrive good', 'arrive perfect', 'arrive quickly', 'arrive time', 'artificial color', 'artificial flavor', 'artificial ingredient', 'artificial sweetener', 'august turn', 'august turn work', 'auto ship', 'available amazon', 'available local', 'avocado oil', 'away not', 'b c', 'baby food', 'baby love', 'baby not', 'back threelion', 'back threelion tonight', 'bad bad', 'bad batch', 'bad confusion', 'bad not', 'bad review', 'bad taste', 'bad tasting', 'bad thing', 'bag bag', 'bag buy', 'bag chip', 'bag come', 'bag confusion', 'bag day', 'bag go', 'bag good', 'bag great', 'bag like', 'bag not', 'bag open', 'bag pack', 'bag pack confusion', 'bag tea', 'bag time', 'bag try', 'bake good', 'baking mix', 'ball not', 'bar good', 'bar like', 'bar not', 'bar taste', 'barackobama https', 'barackobama https skeptical', 'base review', 'bbq flavor', 'bbq sauce', 'bean coffee', 'bean not', 'beat belgium', 'beat belgium https', 'beat colombia', 'beat croatia', 'beat panama', 'beat panama today', 'beat price', 'beat sweden', 'beat tunisia', 'beautiful game', 'beef jerky', 'begambleaware eng', 'begambleaware engbel', 'begambleaware engbel worldcup', 'begambleaware https', 'begambleaware https skeptical', 'bel engbel', 'belgium england', 'belgium england win', 'belgium https', 'belgium https skeptical', 'belgium win', 'believe good', 'believe not', 'believe tag_1', 'berry flavor', 'bet account', 'bet account threelions', 'bet bet', 'bet end', 'bet end thursday', 'bet eng', 'bet england', 'bet england win', 'bet free', 'bet https', 'bet https skeptical', 'bet win', 'bet winning', 'bet winning free', 'better not', 'betty crocker', 'big bag', 'big box', 'big day', 'big deal', 'big difference', 'big dog', 'big easy', 'big fan', 'big game', 'big grin', 'big grin laugh', 'big hit', 'big problem', 'big screen', 'big team', 'big time', 'big train', 'bill clinton', 'bit expensive', 'bit high', 'bit like', 'bit not', 'bit pricey', 'bit small', 'bit strong', 'bit sweet', 'bite not', 'bitter aftertaste', 'bitter not', 'bitter taste', 'black cherry', 'black coffee', 'black lab', 'black licorice', 'black people', 'black pepper', 'black tea', 'blend coffee', 'blend not', 'blood pressure', 'blood sugar', 'blow away', 'blow raspberry', 'blow raspberry https', 'blue buffalo', 'blue diamond', 'blue diamond almond', 'bob red', 'bob red mill', 'boil water', 'bold coffee', 'bold flavor', 'bold not', 'boost bite', 'border collie', 'bottle not', 'box amazon', 'box arrive', 'box box', 'box come', 'box confusion', 'box contain', 'box find', 'box like', 'box not', 'box pack', 'box pack confusion', 'box say', 'box store', 'box tea', 'box time', 'boy not', 'boy proud', 'boy tag_1', 'bpa free', 'brand buy', 'brand coffee', 'brand confusion', 'brand find', 'brand flavor', 'brand food', 'brand good', 'brand like', 'brand new', 'brand not', 'brand taste', 'brand try', 'bread machine', 'bread mix', 'bread not', 'break apart', 'break half', 'break law', 'break piece', 'break small', 'break small piece', 'breakfast blend', 'breakfast tea', 'breast milk', 'brew coffee', 'brew cup', 'brew tea', 'bright future', 'bring country', 'bring euro', 'bring football', 'bring home', 'bring nation', 'bring weekly', 'bring weekly join', 'brown rice', 'brown sugar', 'brownie mix', 'brush tooth', 'bubble wrap', 'build wall', 'burn taste', 'busy buddy', 'butter flavor', 'butter not', 'butter taste', 'buy amazon', 'buy bag', 'buy big', 'buy bottle', 'buy box', 'buy brand', 'buy bulk', 'buy buy', 'buy case', 'buy coffee', 'buy different', 'buy dog', 'buy flavor', 'buy food', 'buy good', 'buy great', 'buy grocery', 'buy grocery store', 'buy item', 'buy large', 'buy like', 'buy local', 'buy locally', 'buy lot', 'buy love', 'buy new', 'buy not', 'buy online', 'buy organic', 'buy oz', 'buy pack', 'buy package', 'buy popcorn', 'buy price', 'buy product', 'buy regular', 'buy small', 'buy store', 'buy tea', 'buy think', 'buy time', 'buy treat', 'buy try', 'buy variety', 'buy year', 'buyer beware', 'c apply', 'c confusion', 'c mon', 'caffeine free', 'cake mix', 'calorie bag', 'calorie confusion', 'calorie count', 'calorie fat', 'calorie gram', 'calorie not', 'campaign https', 'campaign https skeptical', 'can dent', 'can food', 'can not', 'can pack', 'can pack confusion', 'can pumpkin', 'candy bar', 'candy not', 'cane juice', 'cane sugar', 'canned food', 'canola oil', 'caramel flavor', 'carb diet', 'carb g', 'carbonate beverage', 'carbonate fruit', 'carbonate juice', 'cardboard box', 'care not', 'caribou blend', 'caribou coffee', 'carry away', 'case amazon', 'case not', 'cat cat', 'cat confusion', 'cat eat', 'cat enjoy', 'cat food', 'cat food cat', 'cat like', 'cat love', 'cat not', 'cat not eat', 'cat not like', 'cat treat', 'cc tag_4', 'celestial seasoning', 'celiac disease', 'cereal not', 'certainly not', 'certify organic', 'chai tea', 'champions league', 'chance not', 'chance win', 'change formula', 'change mind', 'cheap amazon', 'cheap buy', 'cheap local', 'cheap price', 'check amazon', 'cheeky playful', 'cheeky playful blow', 'cheer tag_1', 'chemical taste', 'cherry flavor', 'chew dog', 'chew not', 'chew rope', 'chewy not', 'chia seed', 'chicken beef', 'chicken breast', 'chicken broth', 'chicken flavor', 'chicken jerky', 'chicken not', 'chicken pot', 'chicken pot pie', 'chicken rice', 'chicken soup', 'chicken turkey', 'child not', 'chili lime', 'chip bag', 'chip cookie', 'chip eat', 'chip flavor', 'chip good', 'chip great', 'chip like', 'chip love', 'chip not', 'chip taste', 'chip try', 'chocolate almond', 'chocolate bar', 'chocolate chip', 'chocolate chip cookie', 'chocolate chunk', 'chocolate confusion', 'chocolate cover', 'chocolate dark', 'chocolate flavor', 'chocolate good', 'chocolate like', 'chocolate lover', 'chocolate milk', 'chocolate not', 'chocolate raspberry', 'chocolate taste', 'chocolate try', 'christmas gift', 'cinnamon flavor', 'citric acid', 'claim https', 'claim https skeptical', 'clam chowder', 'clean tooth', 'clearly not', 'clinton foundation', 'clinton https', 'clinton https skeptical', 'co worker', 'coca cola', 'coconut bar', 'coconut flavor', 'coconut milk', 'coconut oil', 'coconut sugar', 'coconut water', 'coffee bean', 'coffee black', 'coffee brand', 'coffee brew', 'coffee buy', 'coffee coffee', 'coffee come', 'coffee confusion', 'coffee cup', 'coffee day', 'coffee drink', 'coffee drinker', 'coffee enjoy', 'coffee find', 'coffee flavor', 'coffee get', 'coffee good', 'coffee great', 'coffee ground', 'coffee house', 'coffee k', 'coffee k cup', 'coffee keurig', 'coffee like', 'coffee look', 'coffee love', 'coffee lover', 'coffee machine', 'coffee maker', 'coffee morning', 'coffee nice', 'coffee no', 'coffee not', 'coffee people', 'coffee pod', 'coffee price', 'coffee shop', 'coffee smell', 'coffee smooth', 'coffee snob', 'coffee strong', 'coffee taste', 'coffee taste like', 'coffee tea', 'coffee think', 'coffee time', 'coffee try', 'coffee use', 'coffee want', 'coffee year', 'col comeonengland', 'col comeonengland threelions', 'col eng', 'cold water', 'color not', 'columbia eng', 'columbia eng col', 'come amazon', 'come bag', 'come big', 'come box', 'come boy', 'come close', 'come end', 'come eng', 'come england', 'come england threelion', 'come far', 'come good', 'come great', 'come home', 'come home come', 'come home eng', 'come home football', 'come home https', 'come home not', 'come home tag_1', 'come home threelion', 'come lad', 'come like', 'come little', 'come not', 'come package', 'come perfect', 'come right', 'come run', 'come small', 'come strong', 'come tag_1', 'come tag_2', 'come true', 'comeonengland https', 'comeonengland https skeptical', 'comeonengland itscominghome', 'comeonengland threelion', 'comeonengland threelions', 'comeonengland threelions https', 'comeonengland worldcup', 'comeonengland worldcup https', 'comeonengland worldcup2018', 'common sense', 'company not', 'completely different', 'computer https', 'computer https skeptical', 'conference yesterday', 'confusion add', 'confusion amazon', 'confusion buy', 'confusion calorie', 'confusion cat', 'confusion coffee', 'confusion come', 'confusion confusion', 'confusion cup', 'confusion decide', 'confusion definitely', 'confusion dog', 'confusion drink', 'confusion eat', 'confusion eng', 'confusion enjoy', 'confusion find', 'confusion flavor', 'confusion get', 'confusion give', 'confusion go', 'confusion good', 'confusion great', 'confusion happy', 'confusion https', 'confusion https skeptical', 'confusion know', 'confusion let', 'confusion like', 'confusion little', 'confusion look', 'confusion love', 'confusion make', 'confusion mix', 'confusion natural', 'confusion need', 'confusion no', 'confusion not', 'confusion order', 'confusion organic', 'confusion price', 'confusion product', 'confusion say', 'confusion sugar', 'confusion tag_2', 'confusion taste', 'confusion tea', 'confusion think', 'confusion time', 'confusion try', 'confusion use', 'confusion want', 'confusion well', 'confusion work', 'confusion world', 'confusion world cup', 'confusion worldcup', 'confusion year', 'congratulation tag_1', 'contain no', 'content not', 'continue buy', 'continue email', 'continue email dribble', 'continue order', 'continue purchase', 'continue use', 'cook minute', 'cook not', 'cookie good', 'cookie not', 'cookie taste', 'corn syrup', 'cost effective', 'cost not', 'costa rica', 'count box', 'country https', 'country https skeptical', 'country not', 'country proud', 'country tag_1', 'country world', 'couple day', 'couple minute', 'couple month', 'couple time', 'couple week', 'couple year', 'couple year ago', 'course confusion', 'course not', 'court short', 'court short handed', 'cow milk', 'cracker not', 'cream cheese', 'cream onion', 'cream sugar', 'cro eng', 'croatia england', 'croatia play', 'croatia win', 'croeng threelions', 'croeng worldcup', 'crooked hillary', 'crunchy not', 'crystal light', 'cs apply', 'cs apply 18', 'cs apply 18s', 'cs apply https', 'cs apply new', 'cs apply worldcup', 'cup brew', 'cup brewer', 'cup campaign', 'cup coffee', 'cup coffee not', 'cup come', 'cup confusion', 'cup day', 'cup england', 'cup far', 'cup fever', 'cup final', 'cup game', 'cup get', 'cup good', 'cup great', 'cup home', 'cup hot', 'cup https', 'cup https skeptical', 'cup keurig', 'cup like', 'cup match', 'cup morning', 'cup no', 'cup not', 'cup russia', 'cup semi', 'cup semi final', 'cup size', 'cup squad', 'cup start', 'cup tag_1', 'cup taste', 'cup tea', 'cup team', 'cup think', 'cup time', 'cup try', 'cup water', 'cup win', 'cup year', 'customer 18', 'customer 18 t', 'customer offer', 'customer offer begambleaware', 'customer offer eng', 'customer offer t', 'customer service', 'customer t', 'customer t cs', 'daily basis', 'daily value', 'dairy free', 'dark chocolate', 'dark chocolate bar', 'dark chocolate not', 'dark roast', 'dark roast coffee', 'darn good', 'daughter love', 'daughter not', 'day ago', 'day come', 'day confusion', 'day day', 'day england', 'day get', 'day go', 'day good', 'day https', 'day https skeptical', 'day later', 'day like', 'day long', 'day love', 'day no', 'day not', 'day order', 'day tag_1', 'day time', 'day try', 'day week', 'day work', 'day world', 'day world cup', 'day year', 'de la', 'de tag_1', 'de tag_2', 'deal amazon', 'deal not', 'dear tag_1', 'debate otr', 'debate otr greta', 'decaf coffee', 'decent price', 'decent team', 'decide buy', 'decide not', 'decide order', 'decide try', 'definitely buy', 'definitely good', 'definitely not', 'definitely order', 'definitely purchase', 'definitely recommend', 'definitely try', 'definitely worth', 'dele alli', 'delicious not', 'delicious taste', 'delighted find', 'deliver door', 'dent can', 'dent not', 'dental chew', 'description say', 'deserve win', 'diamond almond', 'diemannschaft https', 'diemannschaft https skeptical', 'diet food', 'diet not', 'diet soda', 'dietary fiber', 'difference taste', 'different brand', 'different flavor', 'different kind', 'different not', 'different taste', 'different type', 'different variety', 'different way', 'difficult find', 'digestive issue', 'digestive system', 'disappointed not', 'dog absolutely', 'dog absolutely love', 'dog biscuit', 'dog cat', 'dog chew', 'dog confusion', 'dog dog', 'dog eat', 'dog enjoy', 'dog food', 'dog food dog', 'dog food not', 'dog get', 'dog good', 'dog happy', 'dog lb', 'dog like', 'dog love', 'dog love treat', 'dog need', 'dog not', 'dog not eat', 'dog owner', 'dog tooth', 'dog toy', 'dog treat', 'dog try', 'dog year', 'donald j', 'donald j trump', 'donald trump', 'donut shop', 'dr oz', 'dr pepper', 'dream come', 'drink black', 'drink coffee', 'drink cup', 'drink cup day', 'drink day', 'drink drink', 'drink good', 'drink hot', 'drink like', 'drink lot', 'drink mix', 'drink morning', 'drink not', 'drink regular', 'drink soda', 'drink taste', 'drink tea', 'drink time', 'drink try', 'drink water', 'drinker not', 'drip coffee', 'drunk confused', 'dry dog', 'dry dog food', 'dry food', 'dry fruit', 'dry not', 'dunkin donut', 'e g', 'e mail', 'e tongue', 'e tongue stick', 'earl grey', 'earl grey tea', 'earth good', 'easy bold', 'easy clean', 'easy eat', 'easy find', 'easy mix', 'easy not', 'easy open', 'easy prepare', 'easy route', 'easy use', 'easy way', 'eat bag', 'eat bowl', 'eat box', 'eat chip', 'eat chocolate', 'eat confusion', 'eat day', 'eat dry', 'eat eat', 'eat entire', 'eat food', 'eat gluten', 'eat gluten free', 'eat good', 'eat half', 'eat healthy', 'eat like', 'eat little', 'eat lot', 'eat love', 'eat no', 'eat not', 'eat regular', 'eat right', 'eat thing', 'eat think', 'eat time', 'eat treat', 'eat try', 'elland road', 'end day', 'end go', 'end go continue', 'end not', 'end throw', 'end thursday', 'end thursday 28th', 'energy boost', 'energy drink', 'eng beat', 'eng beat belgium', 'eng beat panama', 'eng bel', 'eng bel engbel', 'eng col', 'eng col comeonengland', 'eng comeonengland', 'eng cro', 'eng croeng', 'eng engcro', 'eng england', 'eng game', 'eng https', 'eng https skeptical', 'eng itscominghome', 'eng pan', 'eng pan engpan', 'eng swe', 'eng tag_1', 'eng threelion', 'eng threelions', 'eng threelions https', 'eng threelions itscominghome', 'eng threelions worldcup', 'eng v', 'eng v tun', 'eng win', 'eng worldcup', 'eng worldcup threelion', 'eng worldcup threelions', 'engbel beleng', 'engbel worldcup', 'engcol worldcup', 'engcro eng', 'engcro https', 'engcro https skeptical', 'engcro threelions', 'engcro worldcup', 'england 3lions', 'england beat', 'england belgium', 'england colombia', 'england columbia', 'england columbia eng', 'england come', 'england comeonengland', 'england croatia', 'england eng', 'england eng threelions', 'england england', 'england fan', 'england football', 'england football team', 'england game', 'england get', 'england go', 'england good', 'england https', 'england https skeptical', 'england itscominghome', 'england lose', 'england manager', 'england match', 'england no', 'england not', 'england not win', 'england panama', 'england panama eng', 'england play', 'england player', 'england proud', 'england qualify', 'england score', 'england semi', 'england semi final', 'england shirt', 'england squad', 'england tag_1', 'england team', 'england threelion', 'england threelions', 'england threelions https', 'england threelions worldcup', 'england v', 'england v belgium', 'england vs', 'england vs belgium', 'england win', 'england win max', 'england win world', 'england world', 'england world cup', 'england worldcup', 'england worldcup2018', 'england year', 'english breakfast', 'english fan', 'english football', 'english team', 'engpan threelions', 'engpan threelions itscominghome', 'engpan worldcup', 'engpan worldcup t', 'enjoy coffee', 'enjoy cup', 'enjoy eat', 'enjoy flavor', 'enjoy game', 'enjoy good', 'enjoy not', 'enjoy product', 'enjoy taste', 'enjoy tea', 'enjoy watch', 'entire bag', 'entire life', 'epipen price', 'epipen price gouge', 'especially good', 'especially like', 'espresso machine', 'etc confusion', 'etc etc', 'etc not', 'everett wa', 'exactly like', 'exceed expectation', 'excellent condition', 'excellent flavor', 'excellent product', 'excellent quality', 'excited find', 'excited try', 'expect good', 'expect like', 'expect not', 'expect taste', 'expect vote', 'expect vote judge', 'expensive buy', 'expensive not', 'expensive worth', 'experience mental', 'experience mental health', 'experience not', 'expiration date', 'extra bold', 'extra large', 'extra time', 'extra virgin', 'extra virgin olive', 'extreme immigration', 'extreme immigration speech', 'face smiley', 'face smiley 0pm', 'face_with_stuck out_tongue_', 'face_with_tears_of_joy face_with_tears_of_joy', 'face_with_tears_of_joy face_with_tears_of_joy face_with_tears_of_joy', 'face_with_tears_of_joy https', 'face_with_tears_of_joy https skeptical', 'fact bring', 'fact bring weekly', 'fact not', 'fair play', 'fair trade', 'fake medium', 'fake news', 'fall apart', 'fall love', 'fall short', 'family enjoy', 'family friend', 'family like', 'family love', 'family member', 'family not', 'fan not', 'fan proud', 'fan world', 'fancy feast', 'far away', 'far come', 'far favorite', 'far good', 'far not', 'far superior', 'far taste', 'far well', 'farmer market', 'fast food', 'fast shipping', 'fat calorie', 'fat confusion', 'fat content', 'fat free', 'fat g', 'fat no', 'fat not', 'fatty acid', 'favorite brand', 'favorite coffee', 'favorite confusion', 'favorite flavor', 'favorite food', 'favorite k', 'favorite k cup', 'favorite not', 'favorite tea', 'favorite treat', 'fbi tag_1', 'fbi tag_1 nato', 'feed cat', 'feed dog', 'feel bad', 'feel bit', 'feel free', 'feel good', 'feel great', 'feel guilty', 'feel like', 'feel like eat', 'feel little', 'feel need', 'feel proud', 'feel sorry', 'feel well', 'fiber g', 'fifa world', 'fifa world cup', 'fifa worldcup', 'fifaworldcup https', 'fifaworldcup https skeptical', 'final come', 'final england', 'final game', 'final group', 'final group games', 'final https', 'final https skeptical', 'final match', 'final not', 'final tag_1', 'final tag_2', 'final time', 'final win', 'final world', 'final world cup', 'final worldcup', 'final year', 'finally find', 'finally get', 'find amazon', 'find amazon com', 'find bit', 'find brand', 'find buy', 'find cheap', 'find coffee', 'find flavor', 'find food', 'find good', 'find great', 'find grocery', 'find grocery store', 'find hard', 'find like', 'find little', 'find local', 'find local grocery', 'find local store', 'find locally', 'find new', 'find no', 'find not', 'find online', 'find order', 'find perfect', 'find product', 'find right', 'find store', 'find taste', 'find tasty', 'find tea', 'find treat', 'find use', 'find way', 'find well', 'fine grind', 'fine not', 'finger cross', 'finish 3rd', 'finish second', 'fish not', 'fishy smell', 'fit bill', 'flavor add', 'flavor aroma', 'flavor bit', 'flavor brand', 'flavor buy', 'flavor chocolate', 'flavor coffee', 'flavor color', 'flavor come', 'flavor confusion', 'flavor definitely', 'flavor delicious', 'flavor drink', 'flavor eat', 'flavor enjoy', 'flavor far', 'flavor favorite', 'flavor find', 'flavor flavor', 'flavor get', 'flavor good', 'flavor great', 'flavor like', 'flavor little', 'flavor love', 'flavor make', 'flavor nice', 'flavor no', 'flavor not', 'flavor not like', 'flavor perfect', 'flavor pretty', 'flavor product', 'flavor rich', 'flavor right', 'flavor salt', 'flavor strong', 'flavor sweet', 'flavor taste', 'flavor tea', 'flavor texture', 'flavor think', 'flavor try', 'flavor want', 'flavor well', 'flavored coffee', 'flax seed', 'flip flop', 'follow direction', 'follow instruction', 'follow tag_1', 'food allergy', 'food buy', 'food cat', 'food come', 'food confusion', 'food dog', 'food eat', 'food feed', 'food find', 'food food', 'food give', 'food go', 'food good', 'food great', 'food item', 'food like', 'food little', 'food look', 'food love', 'food month', 'food no', 'food not', 'food product', 'food smell', 'food store', 'food taste', 'food think', 'food time', 'food treat', 'food try', 'food year', 'football come', 'football come home', 'football england', 'football fan', 'football home', 'football https', 'football https skeptical', 'football match', 'football not', 'football not come', 'football soccer', 'football tag_1', 'football team', 'football worldcup', 'formula not', 'forward see', 'forward try', 'fox news', 'france win', 'free bet', 'free bet end', 'free bet england', 'free bread', 'free confusion', 'free cookie', 'free diet', 'free food', 'free gluten', 'free kick', 'free not', 'free product', 'free shipping', 'freeze dry', 'french press', 'french roast', 'french toast', 'french vanilla', 'fresh fruit', 'fresh not', 'fresh taste', 'fresh tasting', 'friend family', 'friend love', 'friend not', 'friendly match', 'frown sad', 'frown sad andry', 'fructose corn', 'fructose corn syrup', 'fruit drink', 'fruit flavor', 'fruit juice', 'fruit punch', 'fruit veggie', 'future bright', 'g carb', 'g confusion', 'g fat', 'g protein', 'g protein g', 'g sugar', 'g sugar g', 'g threelions', 'g threelions england', 'gain weight', 'game day', 'game england', 'game go', 'game https', 'game https skeptical', 'game like', 'game not', 'game play', 'game tag_1', 'game tag_2', 'game time', 'game today', 'game tomorrow', 'game tonight', 'game win', 'game world', 'game world cup', 'game worldcup', 'games group', 'games group g', 'gareth southgate', 'garland recess', 'garland recess https', 'gas station', 'generally not', 'german shepherd', 'gernot rohr', 'get amazon', 'get bad', 'get bad batch', 'get bag', 'get big', 'get box', 'get day', 'get eat', 'get excited', 'get far', 'get good', 'get great', 'get home', 'get little', 'get lot', 'get love', 'get not', 'get old', 'get rave', 'get rave review', 'get ready', 'get rid', 'get right', 'get semi', 'get semi final', 'get sick', 'get star', 'get tired', 'get treat', 'get try', 'get well', 'get world', 'gf bread', 'gift basket', 'ginger ale', 'give away', 'give chance', 'give day', 'give dog', 'give gift', 'give good', 'give great', 'give hope', 'give not', 'give product', 'give star', 'give treat', 'give try', 'glad amazon', 'glad buy', 'glad find', 'glad find amazon', 'glad not', 'glass bottle', 'glass jar', 'gluten free', 'gluten free bread', 'gluten free diet', 'gluten free food', 'gluten free product', 'gluten intolerant', 'glycemic index', 'go ahead', 'go away', 'go bad', 'go buy', 'go continue', 'go continue email', 'go crazy', 'go eat', 'go far', 'go forward', 'go go', 'go good', 'go great', 'go happen', 'go home', 'go like', 'go long', 'go long way', 'go look', 'go mexico', 'go not', 'go order', 'go pay', 'go play', 'go right', 'go tag_1', 'go try', 'go way', 'go win', 'go world', 'go world cup', 'goal game', 'goal not', 'goal score', 'goal scorer', 'goat milk', 'god bless', 'golden boot', 'golden generation', 'golden retriever', 'good add', 'good alternative', 'good bad', 'good bit', 'good brand', 'good buy', 'good cat', 'good chance', 'good chip', 'good chocolate', 'good choice', 'good coffee', 'good come', 'good condition', 'good confusion', 'good cup', 'good cup coffee', 'good dark', 'good day', 'good deal', 'good dog', 'good drink', 'good earth', 'good eat', 'good england', 'good far', 'good find', 'good flavor', 'good food', 'good football', 'good fresh', 'good friend', 'good game', 'good get', 'good give', 'good gluten', 'good gluten free', 'good go', 'good good', 'good great', 'good health', 'good healthy', 'good hot', 'good idea', 'good ingredient', 'good job', 'good know', 'good like', 'good little', 'good look', 'good love', 'good luck', 'good luck england', 'good luck tag_1', 'good luck tonight', 'good make', 'good mix', 'good morning', 'good news', 'good nice', 'good no', 'good not', 'good not good', 'good old', 'good option', 'good order', 'good organic', 'good people', 'good player', 'good popcorn', 'good price', 'good product', 'good quality', 'good result', 'good review', 'good right', 'good shape', 'good size', 'good snack', 'good source', 'good start', 'good strong', 'good stuff', 'good tag_1', 'good taste', 'good tasting', 'good tea', 'good team', 'good texture', 'good thing', 'good think', 'good time', 'good treat', 'good try', 'good use', 'good value', 'good want', 'good way', 'good well', 'good wish', 'good work', 'good world', 'good world cup', 'good year', 'gosocceroos https', 'gosocceroos https skeptical', 'gouge https', 'gouge https skeptical', 'gourmet coffee', 'grade b', 'graham cracker', 'grain free', 'gram fat', 'gram fiber', 'gram protein', 'gram sugar', 'granola bar', 'grape juice', 'great add', 'great addition', 'great alternative', 'great buy', 'great choice', 'great coffee', 'great condition', 'great cup', 'great day', 'great deal', 'great dismay', 'great dog', 'great drink', 'great find', 'great flavor', 'great food', 'great game', 'great gift', 'great good', 'great great', 'great healthy', 'great idea', 'great job', 'great like', 'great little', 'great love', 'great news', 'great no', 'great northern', 'great northern popcorn', 'great not', 'great player', 'great price', 'great product', 'great quality', 'great review', 'great service', 'great snack', 'great stuff', 'great substitute', 'great taste', 'great tasting', 'great tea', 'great team', 'great texture', 'great thing', 'great time', 'great tournament', 'great toy', 'great treat', 'great try', 'great value', 'great way', 'great work', 'green bean', 'green mountain', 'green mountain coffee', 'green tea', 'green tea not', 'green white', 'greta foxnews', 'greta ingrahamangle', 'greta ingrahamangle realdonaldtrump', 'grey tea', 'grin laugh', 'grin laugh glass', 'grocery store', 'grocery store not', 'ground beef', 'ground coffee', 'group d', 'group g', 'group g threelions', 'group game', 'group games', 'group games group', 'group stage', 'grove square', 'guess not', 'guilt free', 'gutte not', 'guy not', 'ha ha', 'half bag', 'half cup', 'half half', 'half hour', 'half not', 'half price', 'half time', 'hand good', 'hand not', 'handed https', 'handed https skeptical', 'happen not', 'happy amazon', 'happy baby', 'happy birthday', 'happy face', 'happy face smiley', 'happy find', 'happy find amazon', 'happy hip', 'happy not', 'happy product', 'happy purchase', 'hard believe', 'hard candy', 'hard find', 'hard find store', 'hard not', 'hard plastic', 'hard time', 'hard time find', 'hard work', 'harry kane', 'harry kane score', 'hat trick', 'have trouble', 'have try', 'hd https', 'hd https skeptical', 'head high', 'head hold', 'head hold high', 'health benefit', 'health care', 'health food', 'health food store', 'health illness', 'health illness untreate', 'health issue', 'healthy alternative', 'healthy choice', 'healthy food', 'healthy ingredient', 'healthy not', 'healthy snack', 'healthy treat', 'hear expect', 'hear expect vote', 'hear tag_1', 'help not', 'herbal tea', 'hesitant bet', 'hesitant bet account', 'hesitant fngbarfjtt', 'hesitant https', 'hesitant https skeptical', 'hesitant j58e8aacre', 'hesitant lqn3jpjwpk', 'hesitant lqn3jpjwpk live', 'hesitant on63xojtus', 'hesitant t', 'hesitant t co', 'hesitant tag_1', 'hesitant tag_1 tag_2', 'hesitant tag_2', 'hesitant tag_3', 'hesitant vienrt7ncc', 'hesitant vienrt7ncc bet', 'hey tag_1', 'hi 50', 'hi 50 1', 'hi backing', 'hibiscus tea', 'high blood', 'high blood pressure', 'high calorie', 'high end', 'high fat', 'high fiber', 'high fructose', 'high fructose corn', 'high hope', 'high level', 'high price', 'high protein', 'high quality', 'high quality food', 'high sodium', 'highly recommend', 'highly recommend product', 'hillary clinton', 'hillary hillary', 'hillary hillary hillary', 'hillary https', 'hillary https skeptical', 'hillary not', 'hillaryclinton august', 'hillaryclinton august turn', 'hillaryclinton https', 'hillaryclinton https skeptical', 'hillaryclinton lie', 'himalayan salt', 'hit spot', 'hold head', 'hold head high', 'hold high', 'home come', 'home come home', 'home eng', 'home england', 'home football', 'home good', 'home https', 'home https skeptical', 'home not', 'home tag_1', 'home threelion', 'home threelions', 'home time', 'home work', 'home worldcup', 'honestly not', 'hope amazon', 'hope england', 'hope enjoy', 'hope find', 'hope good', 'hope help', 'hope like', 'hope not', 'hope tag_1', 'hope tag_2', 'hope win', 'host interview', 'host interview jay', 'hot chocolate', 'hot cocoa', 'hot cold', 'hot dog', 'hot not', 'hot sauce', 'hot spicy', 'hot tea', 'hot water', 'hour later', 'house blend', 'house not', 'http skeptical', 'http skeptical annoyed', 'https skeptical', 'https skeptical annoyed', 'huge fan', 'husband like', 'husband love', 'husband not', 'i e', 'ice cold', 'ice cream', 'ice cube', 'ice tea', 'iced coffee', 'iced tea', 'illegal immigrant', 'illness untreate', 'illness untreate time', 'immensely proud', 'immigration policy', 'immigration speech', 'immigration speech get', 'immune system', 'impact transparency', 'impact transparency https', 'important fact', 'important fact bring', 'imwithher https', 'imwithher https skeptical', 'incredibly proud', 'indian food', 'individually wrap', 'ingrahamangle realdonaldtrump', 'ingrahamangle realdonaldtrump need', 'ingredient include', 'ingredient like', 'ingredient list', 'ingredient no', 'ingredient not', 'ingredient organic', 'inside box', 'instant coffee', 'instant oatmeal', 'international football', 'interview jay', 'interview jay z', 'issue not', 'italian roast', 'item amazon', 'item not', 'itscominghome comeonengland', 'itscominghome comeonengland worldcup', 'itscominghome eng', 'itscominghome england', 'itscominghome https', 'itscominghome https skeptical', 'itscominghome threelion', 'itscominghome threelions', 'itscominghome threelions https', 'itscominghome worldcup', 'j trump', 'jack link', 'jasmine tea', 'jay z', 'jay z barackobama', 'jelly bean', 'jerky not', 'jesus christ', 'jing wei', 'jing wei ju', 'job https', 'job https skeptical', 'job join', 'job join thousand', 'job not', 'joel obi', 'join https', 'join https skeptical', 'join tag_1', 'join thousand', 'join thousand remind', 'jordan pickford', 'judge garland', 'judge garland recess', 'juice concentrate', 'juice drink', 'juice no', 'juice not', 'juice taste', 'junk food', 'k cup', 'k cup coffee', 'k cup keurig', 'k cup not', 'kane not', 'kane not score', 'kane score', 'kane score time', 'keep busy', 'kernel pop', 'kettle brand', 'kettle chip', 'keurig brewer', 'keurig coffee', 'keurig coffee maker', 'keurig k', 'keurig k cup', 'keurig machine', 'key lime', 'kick ball', 'kick kick', 'kick p', 'kick p m', 'kid confusion', 'kid eat', 'kid like', 'kid love', 'kid not', 'kind coffee', 'kind like', 'kiwi berry', 'knockout stage', 'know better', 'know buy', 'know come', 'know confusion', 'know dog', 'know eat', 'know exactly', 'know get', 'know go', 'know good', 'know happen', 'know https', 'know https skeptical', 'know know', 'know like', 'know love', 'know mean', 'know no', 'know not', 'know people', 'know product', 'know tag_1', 'know taste', 'know think', 'know try', 'know want', 'kool aid', 'lab mix', 'label say', 'lad proud', 'lad tag_1', 'lady grey', 'lamb barley', 'large bag', 'large box', 'large cup', 'large dog', 'large quantity', 'large size', 'last long', 'last long time', 'late night', 'laugh big', 'laugh big grin', 'laugh glass', 'lb bag', 'lb confusion', 'lb dog', 'leader job', 'leader job join', 'leader need', 'leader need hear', 'leaf tea', 'leave not', 'lemon juice', 'lemon lime', 'les bleus', 'let face', 'let honest', 'let hope', 'let know', 'let not', 'let sit', 'let start', 'let talk', 'let tell', 'let win', 'licorice flavor', 'lie https', 'lie https skeptical', 'lie lie', 'lie not', 'life not', 'light flavor', 'light fluffy', 'light not', 'light roast', 'light taste', 'like add', 'like agree', 'like agree reply', 'like better', 'like big', 'like bit', 'like black', 'like brand', 'like buy', 'like candy', 'like cardboard', 'like cat', 'like chew', 'like chicken', 'like chip', 'like chocolate', 'like coconut', 'like coffee', 'like come', 'like confusion', 'like cookie', 'like crazy', 'like dark', 'like dark chocolate', 'like dog', 'like drink', 'like dry', 'like eat', 'like england', 'like fact', 'like find', 'like fish', 'like flavor', 'like food', 'like football', 'like fresh', 'like get', 'like give', 'like go', 'like good', 'like great', 'like green', 'like have', 'like hot', 'like idea', 'like kid', 'like kind', 'like know', 'like light', 'like like', 'like little', 'like look', 'like lot', 'like love', 'like mix', 'like movie', 'like need', 'like new', 'like no', 'like normal', 'like not', 'like oatmeal', 'like old', 'like orange', 'like order', 'like organic', 'like peanut', 'like peanut butter', 'like people', 'like picture', 'like popcorn', 'like product', 'like real', 'like regular', 'like retweet', 'like reviewer', 'like rice', 'like salt', 'like say', 'like small', 'like smell', 'like spicy', 'like strong', 'like strong coffee', 'like stuff', 'like sugar', 'like sweet', 'like tag_1', 'like tag_2', 'like tag_3', 'like taste', 'like tea', 'like texture', 'like thing', 'like think', 'like time', 'like treat', 'like trump', 'like try', 'like use', 'like vanilla', 'like want', 'like water', 'like way', 'like well', 'like white', 'like year', 'lime flavor', 'line not', 'link https', 'link https skeptical', 'lionel messi', 'list ingredient', 'list not', 'little bit', 'little different', 'little dog', 'little dry', 'little expensive', 'little extra', 'little flavor', 'little girl', 'little go', 'little guy', 'little hard', 'little high', 'little like', 'little milk', 'little no', 'little piece', 'little pricey', 'little salty', 'little small', 'little strong', 'little sweet', 'little time', 'little water', 'little well', 'live hd', 'live hd https', 'live https', 'live https skeptical', 'live stream', 'live stream worldcup', 'live tag_1', 'liver treat', 'local grocer', 'local grocery', 'local grocery store', 'local health', 'local health food', 'local market', 'local pet', 'local pet store', 'local store', 'local supermarket', 'loftus cheek', 'long ago', 'long long', 'long not', 'long run', 'long term', 'long time', 'long way', 'look forward', 'look forward see', 'look forward try', 'look good', 'look great', 'look healthy', 'look ingredient', 'look like', 'look nice', 'look no', 'look not', 'look pretty', 'look product', 'look smell', 'look well', 'loop important', 'loop important fact', 'loose leaf', 'loose leaf tea', 'loose tea', 'los mexicanos', 'lose not', 'lose pound', 'lose weight', 'lot coffee', 'lot different', 'lot flavor', 'lot good', 'lot like', 'lot money', 'lot not', 'lot people', 'lot sugar', 'lot time', 'lot well', 'love amazon', 'love buy', 'love cat', 'love chew', 'love chicken', 'love chip', 'love chocolate', 'love coffee', 'love come', 'love confusion', 'love cookie', 'love country', 'love dark', 'love dark chocolate', 'love dog', 'love drink', 'love eat', 'love england', 'love fact', 'love flavor', 'love food', 'love football', 'love get', 'love go', 'love good', 'love great', 'love greenie', 'love happy', 'love hot', 'love like', 'love little', 'love love', 'love love love', 'love mix', 'love no', 'love not', 'love order', 'love organic', 'love peanut', 'love peanut butter', 'love play', 'love popcorn', 'love product', 'love salt', 'love stuff', 'love sweet', 'love tag_1', 'love taste', 'love tea', 'love thing', 'love toy', 'love treat', 'love try', 'love use', 'love want', 'love watch', 'love way', 'low acid', 'low acid coffee', 'low cal', 'low calorie', 'low carb', 'low carb diet', 'low fat', 'low glycemic', 'low price', 'low quality', 'low sodium', 'low sugar', 'lqn3jpjwpk live', 'lqn3jpjwpk live hd', 'luck england', 'luck tag_1', 'luck tonight', 'm m', 'mac cheese', 'maga https', 'maga https skeptical', 'main ingredient', 'major tournament', 'make difference', 'make easy', 'make excellent', 'make feel', 'make good', 'make great', 'make happy', 'make look', 'make nice', 'make no', 'make perfect', 'make sense', 'make sure', 'make want', 'man not', 'maple brown', 'maple brown sugar', 'maple flavor', 'maple syrup', 'market not', 'match day', 'match not', 'match tag_1', 'match today', 'match tonight', 'matter happen', 'max bet', 'max bet winning', 'maxwell house', 'maybe not', 'meal not', 'mean not', 'meat not', 'meat product', 'medium light_skin_tone', 'medium not', 'medium roast', 'meet radio', 'meet radio host', 'melt mouth', 'mental health', 'mental health illness', 'mexican president', 'mexico https', 'mexico https skeptical', 'mexico not', 'mexico pay', 'mg sodium', 'microwave minute', 'microwave popcorn', 'military army', 'military army navy', 'milk add', 'milk bone', 'milk chocolate', 'milk confusion', 'milk not', 'milk powder', 'milk sugar', 'milk taste', 'mind not', 'mint flavor', 'mint tea', 'minute not', 'miracle noodle', 'mix add', 'mix confusion', 'mix find', 'mix good', 'mix like', 'mix little', 'mix make', 'mix not', 'mix taste', 'mix try', 'mix use', 'mix water', 'mobile https', 'mobile https skeptical', 'money buy', 'money not', 'month ago', 'month confusion', 'month later', 'month not', 'month old', 'morning coffee', 'morning not', 'mountain coffee', 'mouth feel', 'mouth not', 'movie theater', 'movie theater popcorn', 'mr president', 'mr trump', 'n bake', 'n e', 'na na', 'na na na', 'nantucket blend', 'nation proud', 'national anthem', 'national football', 'national football team', 'national team', 'nato tag_2', 'nato tag_2 tag_3', 'natural balance', 'natural flavor', 'natural food', 'natural fruit', 'natural ingredient', 'natural no', 'natural not', 'natural product', 'natural sugar', 'navy usmc', 'nearly year', 'need add', 'need find', 'need good', 'need hear', 'need hear expect', 'need help', 'need know', 'need little', 'need not', 'need reassure', 'need reassure public', 'need start', 'need try', 'need use', 'need win', 'negative review', 'nevertrump https', 'nevertrump https skeptical', 'new customer', 'new customer 18', 'new customer offer', 'new customer t', 'new england', 'new favorite', 'new flavor', 'new food', 'new formula', 'new product', 'new york', 'new zealand', 'newman organic', 'newman organic dark', 'newman product', 'news conference', 'news not', 'news tag_1', 'nice change', 'nice flavor', 'nice little', 'nice not', 'nice smooth', 'nice statement', 'nice thing', 'nigeria not', 'nigeria supereagles', 'nigeria vs', 'night not', 'no add', 'no add sugar', 'no aftertaste', 'no artificial', 'no bad', 'no big', 'no bitter', 'no bitterness', 'no brainer', 'no calorie', 'no chance', 'no comparison', 'no complaint', 'no corn', 'no corn syrup', 'no difference', 'no doubt', 'no exception', 'no flavor', 'no good', 'no https', 'no https skeptical', 'no idea', 'no issue', 'no longer', 'no matter', 'no matter happen', 'no mess', 'no need', 'no no', 'no not', 'no plan', 'no preservative', 'no problem', 'no real', 'no reason', 'no risk', 'no risk bet', 'no salt', 'no sense', 'no sugar', 'no sugar add', 'no taste', 'no team', 'no time', 'no trans', 'no trans fat', 'no way', 'no well', 'no wheat', 'no wonder', 'no worry', 'non dairy', 'non organic', 'noodle not', 'noodle soup', 'normally not', 'north carolina', 'northern popcorn', 'not able', 'not able find', 'not accept', 'not actually', 'not add', 'not affect', 'not afford', 'not afford supreme', 'not afraid', 'not agree', 'not allow', 'not amazon', 'not answer', 'not anymore', 'not ask', 'not available', 'not away', 'not bad', 'not bad not', 'not beat', 'not believe', 'not big', 'not big deal', 'not big fan', 'not bite', 'not bitter', 'not blame', 'not bold', 'not bother', 'not break', 'not bring', 'not burn', 'not buy', 'not buy product', 'not call', 'not care', 'not carry', 'not case', 'not cat', 'not chance', 'not change', 'not cheap', 'not chew', 'not chocolate', 'not close', 'not coffee', 'not come', 'not come home', 'not comment', 'not compare', 'not complain', 'not completely', 'not confusion', 'not consider', 'not contain', 'not cook', 'not cost', 'not count', 'not cover', 'not crazy', 'not cup', 'not cut', 'not dark', 'not describe', 'not deserve', 'not disappoint', 'not disappointed', 'not dog', 'not drink', 'not drink coffee', 'not dry', 'not easily', 'not easy', 'not eat', 'not end', 'not end go', 'not england', 'not enjoy', 'not exactly', 'not expect', 'not expensive', 'not experience', 'not extra', 'not fair', 'not fake', 'not fall', 'not fan', 'not far', 'not fault', 'not favorite', 'not feed', 'not feel', 'not feel guilty', 'not feel like', 'not figure', 'not fill', 'not final', 'not find', 'not find local', 'not find store', 'not finish', 'not fit', 'not flavor', 'not follow', 'not fond', 'not food', 'not fool', 'not football', 'not forget', 'not fresh', 'not fry', 'not game', 'not get', 'not give', 'not gluten', 'not go', 'not good', 'not good not', 'not good thing', 'not greasy', 'not great', 'not handle', 'not happen', 'not happy', 'not hard', 'not hate', 'not have', 'not healthy', 'not hear', 'not heavy', 'not help', 'not hesitate', 'not high', 'not hold', 'not hope', 'not hot', 'not https', 'not https skeptical', 'not huge', 'not hurt', 'not imagine', 'not impressed', 'not include', 'not interested', 'not issue', 'not job', 'not kid', 'not know', 'not know not', 'not large', 'not leave', 'not let', 'not lie', 'not light', 'not like', 'not like flavor', 'not like not', 'not like taste', 'not list', 'not listen', 'not little', 'not live', 'not long', 'not look', 'not look like', 'not lose', 'not lot', 'not love', 'not low', 'not make', 'not match', 'not matter', 'not mean', 'not meet', 'not melt', 'not mention', 'not mess', 'not mind', 'not miss', 'not mix', 'not near', 'not nearly', 'not necessarily', 'not need', 'not nice', 'not no', 'not normally', 'not not', 'not notice', 'not open', 'not option', 'not order', 'not organic', 'not overly', 'not overly sweet', 'not overpower', 'not overpowering', 'not overwhelming', 'not particularly', 'not pass', 'not past', 'not pay', 'not people', 'not perfect', 'not pick', 'not picky', 'not plan', 'not play', 'not player', 'not pop', 'not price', 'not problem', 'not product', 'not proud', 'not purchase', 'not qualify', 'not racist', 'not read', 'not ready', 'not real', 'not realize', 'not receive', 'not recommend', 'not recommend product', 'not regret', 'not regular', 'not remember', 'not require', 'not resist', 'not result', 'not return', 'not rich', 'not right', 'not run', 'not salty', 'not say', 'not score', 'not seal', 'not see', 'not sell', 'not send', 'not share', 'not shit', 'not show', 'not sick', 'not single', 'not sit', 'not sleep', 'not smell', 'not soft', 'not sorry', 'not speak', 'not spicy', 'not stand', 'not star', 'not start', 'not stick', 'not stock', 'not stop', 'not stop eat', 'not store', 'not strong', 'not sugar', 'not super', 'not support', 'not suppose', 'not sure', 'not surprised', 'not sweet', 'not tag_1', 'not tag_2', 'not tag_3', 'not take', 'not talk', 'not taste', 'not taste good', 'not taste like', 'not tasty', 'not tea', 'not team', 'not tell', 'not tell difference', 'not thick', 'not thing', 'not think', 'not throw', 'not time', 'not tolerate', 'not touch', 'not treat', 'not true', 'not trump', 'not trust', 'not try', 'not turn', 'not understand', 'not upset', 'not use', 'not usually', 'not vote', 'not wait', 'not wait try', 'not want', 'not want eat', 'not waste', 'not waste money', 'not watch', 'not way', 'not weak', 'not well', 'not white', 'not win', 'not work', 'not world', 'not world cup', 'not worry', 'not worth', 'not write', 'not wrong', 'not year', 'note not', 'notice difference', 'notice not', 'nutrition fact', 'nutritional value', 'o n', 'o n e', 'oatmeal cookie', 'oatmeal raisin', 'obviously not', 'offer begambleaware', 'offer begambleaware eng', 'offer begambleaware engbel', 'offer begambleaware https', 'offer eng', 'offer eng bel', 'offer https', 'offer https skeptical', 'offer t', 'offer t c', 'oh not', 'oh wait', 'oh yeah', 'oil confusion', 'oil not', 'oil use', 'ok not', 'okay not', 'old cat', 'old confusion', 'old daughter', 'old dog', 'old fashioned', 'old lab', 'old love', 'old not', 'old son', 'olive oil', 'one not', 'onwards upwards', 'open bag', 'open box', 'open not', 'open package', 'opening game', 'opinion not', 'orange flavor', 'orange juice', 'orange soda', 'orange tangerine', 'order amazon', 'order arrive', 'order bag', 'order box', 'order case', 'order come', 'order item', 'order large', 'order month', 'order not', 'order online', 'order pack', 'order product', 'order soon', 'order tea', 'order time', 'organic baby', 'organic baby food', 'organic chocolate', 'organic dark', 'organic dark chocolate', 'organic food', 'organic green', 'organic ingredient', 'organic not', 'organic product', 'organic tea', 'original flavor', 'originally buy', 'otr greta', 'otr greta foxnews', 'ounce bag', 'ounce bottle', 'ounce can', 'ounce can pack', 'ounce confusion', 'overall good', 'overall great', 'overly sweet', 'oz bag', 'oz bottle', 'oz confusion', 'oz cup', 'oz pack', 'oz package', 'oz size', 'oz water', 'p m', 'p s', 'p2 cc', 'p2 cc tag_4', 'pack amazon', 'pack box', 'pack confusion', 'pack flavor', 'pack good', 'pack great', 'pack not', 'package arrive', 'package come', 'package confusion', 'package not', 'package pack', 'package pack confusion', 'package say', 'packaging not', 'paddy power', 'palm oil', 'pamela product', 'pan engpan', 'pan engpan threelions', 'panama eng', 'panama eng pan', 'panama today', 'panama today https', 'pancake mix', 'pancake waffle', 'paper bag', 'paper towel', 'particular flavor', 'past month', 'past week', 'past year', 'pasta not', 'pasta sauce', 'pay attention', 'pay extra', 'pay play', 'pay price', 'pay shipping', 'pay wall', 'peanut butter', 'peanut butter not', 'pena nieto', 'penalty not', 'penalty shoot', 'penalty shootout', 'people food', 'people know', 'people like', 'people love', 'people need', 'people not', 'people say', 'people tag_1', 'people think', 'people want', 'perfect balance', 'perfect blend', 'perfect condition', 'perfect cup', 'perfect not', 'perfect size', 'perfect snack', 'perfect time', 'period time', 'personal favorite', 'personal preference', 'personally like', 'personally not', 'pet food', 'pet store', 'petite cuisine', 'petition tell', 'petition tell tag_1', 'pg tip', 'picky eater', 'piece not', 'pig ear', 'pill pocket', 'pizza crust', 'pizza dough', 'place not', 'place order', 'place play', 'plan buy', 'plan try', 'plastic bag', 'plastic bottle', 'play better', 'play country', 'play croatia', 'play england', 'play football', 'play game', 'play good', 'play great', 'play heart', 'play like', 'play match', 'play not', 'play tag_1', 'play tag_2', 'play team', 'play win', 'play world', 'play world cup', 'player like', 'player not', 'player play', 'player team', 'player world', 'playful blow', 'playful blow raspberry', 'pleasantly surprised', 'pleased product', 'plus not', 'point not', 'pop chip', 'pop corn', 'pop not', 'popcorn good', 'popcorn great', 'popcorn machine', 'popcorn maker', 'popcorn not', 'popcorn pop', 'popcorn popper', 'popcorn taste', 'pork chop', 'pork rind', 'portion control', 'portion pack', 'portion size', 'positive review', 'pot coffee', 'pot pie', 'potato chip', 'potato flavor', 'pound bag', 'powder not', 'power https', 'power https skeptical', 'pre ground', 'premier league', 'president https', 'president https skeptical', 'president not', 'president tag_1', 'president trump', 'presidential debate', 'presidential debate otr', 'press conference', 'pretty darn', 'pretty good', 'pretty sure', 'pretty tasty', 'previous reviewer', 'price amazon', 'price bit', 'price boost', 'price buy', 'price cheap', 'price confusion', 'price find', 'price go', 'price good', 'price gouge', 'price gouge https', 'price great', 'price high', 'price increase', 'price little', 'price local', 'price new', 'price new customer', 'price not', 'price pay', 'price point', 'price product', 'price reasonable', 'price right', 'price well', 'pride passion', 'probably good', 'probably not', 'problem not', 'product amazon', 'product arrive', 'product available', 'product buy', 'product china', 'product come', 'product company', 'product confusion', 'product contain', 'product definitely', 'product description', 'product dog', 'product excellent', 'product find', 'product get', 'product give', 'product good', 'product great', 'product high', 'product highly', 'product know', 'product like', 'product line', 'product local', 'product look', 'product love', 'product make', 'product no', 'product not', 'product order', 'product price', 'product product', 'product purchase', 'product receive', 'product recommend', 'product review', 'product star', 'product taste', 'product think', 'product time', 'product try', 'product use', 'product want', 'product work', 'product year', 'protein bar', 'protein g', 'protein not', 'protein powder', 'protein shake', 'proud achieve', 'proud boy', 'proud country', 'proud eng', 'proud england', 'proud england team', 'proud english', 'proud far', 'proud lad', 'proud not', 'proud rate', 'proud rate star', 'proud tag_1', 'proud tag_1 team', 'proud tag_2', 'proud team', 'proud thank', 'proud threelion', 'proud threelions', 'proud young', 'prove wrong', 'public presidential', 'public presidential debate', 'pumpkin pie', 'pumpkin seed', 'puppy love', 'purchase amazon', 'purchase bag', 'purchase box', 'purchase brand', 'purchase case', 'purchase item', 'purchase local', 'purchase not', 'purchase pack', 'purchase product', 'puroast low', 'puroast low acid', 'quality coffee', 'quality control', 'quality food', 'quality good', 'quality ingredient', 'quality not', 'quality product', 'quality taste', 'quality tea', 'quarter final', 'que no', 'quick easy', 'quick meal', 'quick snack', 'radio host', 'radio host interview', 'raheem sterling', 'rally everett', 'raspberry https', 'raspberry https skeptical', 'rate star', 'rate star tag_1', 'rave review', 'rave review white', 'raw boost', 'reach final', 'reach semi', 'reach semi final', 'reach world', 'reach world cup', 'reach worldcup', 'read https', 'read https skeptical', 'read ingredient', 'read label', 'read review', 'readily available', 'real deal', 'real food', 'real madrid', 'real maple', 'real maple syrup', 'real thing', 'real treat', 'realdonaldtrump need', 'realdonaldtrump need reassure', 'realize not', 'reason give', 'reason give star', 'reason not', 'reasonable price', 'reasonably price', 'reassure public', 'reassure public presidential', 'receive box', 'receive order', 'receive package', 'receive product', 'receive shipment', 'recently purchase', 'recess https', 'recess https skeptical', 'recipe call', 'recipe not', 'recommend buy', 'recommend coffee', 'recommend dog', 'recommend food', 'recommend friend', 'recommend highly', 'recommend like', 'recommend not', 'recommend product', 'recommend tea', 'recommend try', 'red card', 'red devil', 'red mill', 'red pepper', 'red white', 'redtogether https', 'redtogether https skeptical', 'redtogether worldcup', 'refuse eat', 'regular basis', 'regular chip', 'regular coffee', 'regular pasta', 'regular peanut', 'regular peanut butter', 'regular potato', 'regular potato chip', 'regular soda', 'rein epipen', 'rein epipen price', 'relate single', 'relate single thing', 'release tax', 'release tax return', 'release taxis', 'remind https', 'remind https skeptical', 'reply yes', 'reply yes no', 'research find', 'rest world', 'restore faith', 'result not', 'return not', 'retweet https', 'retweet https skeptical', 'retweet join', 'retweet join https', 'review amazon', 'review not', 'review product', 'review say', 'review think', 'review white', 'review white supremacist', 'reviewer mention', 'reviewer say', 'reviewer state', 'rice cake', 'rice cereal', 'rice flour', 'rice noodle', 'rich flavor', 'rich taste', 'right away', 'right confusion', 'right door', 'right https', 'right https skeptical', 'right not', 'right size', 'right tag_1', 'right thing', 'right time', 'risk bet', 'risk bet bet', 'roar threelion', 'roast coffee', 'roast not', 'role model', 'room temperature', 'root beer', 'royal canin', 'rt bettngtips', 'rt greta', 'rt greta ingrahamangle', 'rt tag_1', 'rubber rope', 'run president', 'rush limbaugh', 'russia https', 'russia https skeptical', 'russia2018 https', 'russia2018 https skeptical', 'russia2018 worldcup', 's confusion', 's not', 'sad andry', 'sad andry pout', 'sad cry', 'sad https', 'sad https skeptical', 'sad not', 'sadly not', 'salad dressing', 'salt add', 'salt not', 'salt pepper', 'salt salt', 'salt taste', 'salt vinegar', 'salt vinegar chip', 'salty not', 'salty taste', 'sam club', 'satisfy craving', 'saturate fat', 'saturated fat', 'sauce not', 'saudi arabia', 'save lot', 'save money', 'save program', 'save time', 'say good', 'say great', 'say https', 'say https skeptical', 'say like', 'say lot', 'say love', 'say no', 'say not', 'say tag_1', 'say tag_2', 'say taste', 'science diet', 'score goal', 'score time', 'score time max', 'sea salt', 'sea salt vinegar', 'second cup', 'second half', 'second order', 'second time', 'see england', 'see tag_1', 'sell amazon', 'sell product', 'semi final', 'semi final time', 'semi final world', 'semi final year', 'senate leader', 'senate leader job', 'senate leader need', 'sensitive stomach', 'serve bag', 'serve size', 'sesame chicken', 'sesame oil', 'set piece', 'shake bake', 'shake n', 'shake n bake', 'shame not', 'share friend', 'shelf life', 'shih tzu', 'ship quickly', 'shipping amazon', 'shipping box', 'shipping charge', 'shipping confusion', 'shipping cost', 'shipping fast', 'shipping not', 'shirataki noodle', 'short handed', 'short handed https', 'short time', 'sign petition', 'sign petition tell', 'similar product', 'simply good', 'simply not', 'single cup', 'single serve', 'single serving', 'single thing', 'single thing specialreport', 'size bag', 'size dog', 'size not', 'size small', 'skeptical annoyed', 'skeptical annoyed undecided', 'skim milk', 'slightly sweet', 'small amount', 'small bag', 'small bottle', 'small can', 'small cup', 'small dog', 'small not', 'small oz', 'small package', 'small piece', 'small quantity', 'small size', 'smell bad', 'smell good', 'smell great', 'smell like', 'smell not', 'smell taste', 'smell wonderful', 'smile face', 'smiley 0pm', 'smooth flavor', 'smooth not', 'smooth rich', 'smooth taste', 'snack food', 'snack like', 'snack not', 'soarsupereagles https', 'soarsupereagles https skeptical', 'soarsupereagles team9jastrong', 'soarsupereagles worldcup', 'social medium', 'soda not', 'soda pop', 'sodium content', 'sodium mg', 'soft chewy', 'soft drink', 'son love', 'son not', 'soon possible', 'sorry not', 'sort like', 'sound good', 'sound like', 'soup not', 'sour cream', 'sour cream onion', 'south africa', 'south korea', 'southgate team', 'soy lecithin', 'soy milk', 'soy sauce', 'spaghetti sauce', 'sparkle water', 'special treat', 'specialreport https', 'specialreport https skeptical', 'speech get', 'speech get rave', 'spend money', 'spend time', 'spicy flavor', 'spicy food', 'spicy not', 'squad not', 'sri lanka', 'st george', 'star instead', 'star not', 'star rating', 'star review', 'star tag_1', 'star tag_1 impact', 'starbucks coffee', 'start buy', 'start day', 'start drink', 'start eat', 'start give', 'start look', 'start not', 'start world', 'start world cup', 'start xi', 'stash tea', 'state not', 'stay away', 'stay fresh', 'stay loop', 'stay loop important', 'steep minute', 'stick cheeky', 'stick cheeky playful', 'stick tooth', 'stir fry', 'stop buy', 'stop carry', 'stop eat', 'stop make', 'store amazon', 'store area', 'store brand', 'store buy', 'store carry', 'store confusion', 'store find', 'store good', 'store like', 'store love', 'store no', 'store not', 'store order', 'store price', 'store sell', 'store shelf', 'store stop', 'store try', 'strawberry flavor', 'stream worldcup', 'strong coffee', 'strong cup', 'strong flavor', 'strong not', 'strong taste', 'strong tea', 'strongly recommend', 'stuff good', 'stuff great', 'stuff like', 'stuff not', 'stuff taste', 'stuff try', 'subscribe save', 'subscribe save program', 'sugar add', 'sugar confusion', 'sugar content', 'sugar corn', 'sugar free', 'sugar g', 'sugar g protein', 'sugar like', 'sugar no', 'sugar not', 'sugar substitute', 'sugar taste', 'suggest try', 'sunflower seed', 'super eagle', 'super eagles', 'super easy', 'super saver', 'super sweet', 'supereagles https', 'supereagles https skeptical', 'supereagles nigeria', 'supereagles worldcup', 'support england', 'support tag_1', 'support tag_2', 'support tag_3', 'support team', 'support trump', 'supremacist https', 'supremacist https skeptical', 'supreme court', 'supreme court short', 'sure buy', 'sure good', 'sure like', 'sure not', 'surprised find', 'sweet flavor', 'sweet like', 'sweet little', 'sweet not', 'sweet potato', 'sweet spicy', 'sweet taste', 'sweet tooth', 'swiss miss', 'switch kiwi', 'switch kiwi berry', 'switch orange', 'switch orange tangerine', 'syrup not', 't c', 't c apply', 't co', 't cs', 't cs apply', 't shirt', 'table salt', 'tag _', 'tag _ https', 'tag _ tag', 'tag_1 america', 'tag_1 amp', 'tag_1 amp tag_2', 'tag_1 ask', 'tag_1 bad', 'tag_1 beat', 'tag_1 believe', 'tag_1 big', 'tag_1 boy', 'tag_1 bring', 'tag_1 call', 'tag_1 campaign', 'tag_1 come', 'tag_1 confusion', 'tag_1 country', 'tag_1 day', 'tag_1 donald', 'tag_1 eng', 'tag_1 england', 'tag_1 fake', 'tag_1 fan', 'tag_1 final', 'tag_1 football', 'tag_1 football team', 'tag_1 game', 'tag_1 get', 'tag_1 give', 'tag_1 go', 'tag_1 good', 'tag_1 good luck', 'tag_1 great', 'tag_1 guy', 'tag_1 head', 'tag_1 help', 'tag_1 hey', 'tag_1 hi', 'tag_1 hi 50', 'tag_1 hillary', 'tag_1 hillary clinton', 'tag_1 hope', 'tag_1 https', 'tag_1 https skeptical', 'tag_1 impact', 'tag_1 impact transparency', 'tag_1 itscominghome', 'tag_1 job', 'tag_1 know', 'tag_1 lad', 'tag_1 let', 'tag_1 lie', 'tag_1 like', 'tag_1 live', 'tag_1 look', 'tag_1 lose', 'tag_1 love', 'tag_1 make', 'tag_1 man', 'tag_1 match', 'tag_1 maybe', 'tag_1 mean', 'tag_1 mexico', 'tag_1 mr', 'tag_1 mr president', 'tag_1 nato', 'tag_1 nato tag_2', 'tag_1 need', 'tag_1 new', 'tag_1 nice', 'tag_1 no', 'tag_1 not', 'tag_1 not tag_2', 'tag_1 obama', 'tag_1 oh', 'tag_1 people', 'tag_1 plan', 'tag_1 play', 'tag_1 player', 'tag_1 president', 'tag_1 press', 'tag_1 press conference', 'tag_1 proud', 'tag_1 r', 'tag_1 rally', 'tag_1 reach', 'tag_1 remember', 'tag_1 right', 'tag_1 rush', 'tag_1 rush limbaugh', 'tag_1 s', 'tag_1 say', 'tag_1 score', 'tag_1 see', 'tag_1 semi', 'tag_1 semi final', 'tag_1 speak', 'tag_1 squad', 'tag_1 start', 'tag_1 stop', 'tag_1 support', 'tag_1 supporter', 'tag_1 sure', 'tag_1 tag_2', 'tag_1 tag_2 agree', 'tag_1 tag_2 england', 'tag_1 tag_2 get', 'tag_1 tag_2 go', 'tag_1 tag_2 good', 'tag_1 tag_2 great', 'tag_1 tag_2 hi', 'tag_1 tag_2 hillary', 'tag_1 tag_2 hope', 'tag_1 tag_2 https', 'tag_1 tag_2 know', 'tag_1 tag_2 let', 'tag_1 tag_2 like', 'tag_1 tag_2 look', 'tag_1 tag_2 love', 'tag_1 tag_2 need', 'tag_1 tag_2 no', 'tag_1 tag_2 not', 'tag_1 tag_2 oh', 'tag_1 tag_2 play', 'tag_1 tag_2 proud', 'tag_1 tag_2 rein', 'tag_1 tag_2 say', 'tag_1 tag_2 tag_3', 'tag_1 tag_2 team', 'tag_1 tag_2 tell', 'tag_1 tag_2 thank', 'tag_1 tag_2 think', 'tag_1 tag_2 time', 'tag_1 tag_2 trump', 'tag_1 tag_2 want', 'tag_1 tag_2 yeah', 'tag_1 tag_2 yes', 'tag_1 take', 'tag_1 talk', 'tag_1 team', 'tag_1 tell', 'tag_1 thank', 'tag_1 think', 'tag_1 threelion', 'tag_1 threelions', 'tag_1 time', 'tag_1 today', 'tag_1 tonight', 'tag_1 trump', 'tag_1 truth', 'tag_1 try', 'tag_1 v', 'tag_1 vote', 'tag_1 vs', 'tag_1 vs tag_2', 'tag_1 want', 'tag_1 watch', 'tag_1 way', 'tag_1 win', 'tag_1 world', 'tag_1 world cup', 'tag_1 worldcup', 'tag_1 wow', 'tag_1 y', 'tag_1 year', 'tag_1 yes', 'tag_10 tag_11', 'tag_10 tag_11 https', 'tag_10 tag_11 tag_12', 'tag_11 https', 'tag_11 https skeptical', 'tag_11 tag_12', 'tag_11 tag_12 tag_13', 'tag_12 tag_13', 'tag_12 tag_13 tag_14', 'tag_13 tag_14', 'tag_13 tag_14 tag_15', 'tag_14 tag_15', 'tag_14 tag_15 tag_16', 'tag_15 tag_16', 'tag_15 tag_16 tag_17', 'tag_16 tag_17', 'tag_16 tag_17 tag_18', 'tag_17 tag_18', 'tag_17 tag_18 tag_19', 'tag_18 tag_19', 'tag_18 tag_19 tag_20', 'tag_19 tag_20', 'tag_19 tag_20 tag_21', 'tag_2 agree', 'tag_2 amp', 'tag_2 amp tag_3', 'tag_2 come', 'tag_2 confusion', 'tag_2 england', 'tag_2 fan', 'tag_2 game', 'tag_2 get', 'tag_2 give', 'tag_2 go', 'tag_2 good', 'tag_2 great', 'tag_2 guy', 'tag_2 hey', 'tag_2 hi', 'tag_2 hillary', 'tag_2 hope', 'tag_2 https', 'tag_2 https skeptical', 'tag_2 know', 'tag_2 let', 'tag_2 lie', 'tag_2 like', 'tag_2 live', 'tag_2 look', 'tag_2 love', 'tag_2 need', 'tag_2 no', 'tag_2 not', 'tag_2 oh', 'tag_2 play', 'tag_2 player', 'tag_2 proud', 'tag_2 rein', 'tag_2 rein epipen', 'tag_2 s', 'tag_2 say', 'tag_2 squad', 'tag_2 sure', 'tag_2 tag_3', 'tag_2 tag_3 england', 'tag_2 tag_3 good', 'tag_2 tag_3 great', 'tag_2 tag_3 hillary', 'tag_2 tag_3 https', 'tag_2 tag_3 know', 'tag_2 tag_3 no', 'tag_2 tag_3 not', 'tag_2 tag_3 people', 'tag_2 tag_3 say', 'tag_2 tag_3 tag_4', 'tag_2 tag_3 thank', 'tag_2 tag_3 think', 'tag_2 tag_3 trump', 'tag_2 tag_3 want', 'tag_2 tag_3 yes', 'tag_2 talk', 'tag_2 team', 'tag_2 tell', 'tag_2 thank', 'tag_2 think', 'tag_2 time', 'tag_2 trump', 'tag_2 want', 'tag_2 watch', 'tag_2 win', 'tag_2 world', 'tag_2 world cup', 'tag_2 worldcup', 'tag_2 yeah', 'tag_2 yes', 'tag_20 tag_21', 'tag_20 tag_21 tag_22', 'tag_21 tag_22', 'tag_21 tag_22 tag_23', 'tag_22 tag_23', 'tag_22 tag_23 tag_24', 'tag_23 tag_24', 'tag_23 tag_24 tag_25', 'tag_24 tag_25', 'tag_24 tag_25 tag_26', 'tag_25 tag_26', 'tag_25 tag_26 tag_27', 'tag_26 tag_27', 'tag_26 tag_27 tag_28', 'tag_27 tag_28', 'tag_27 tag_28 tag_29', 'tag_28 tag_29', 'tag_28 tag_29 tag_30', 'tag_29 tag_30', 'tag_29 tag_30 tag_31', 'tag_3 amp', 'tag_3 amp tag_4', 'tag_3 come', 'tag_3 confusion', 'tag_3 england', 'tag_3 get', 'tag_3 go', 'tag_3 good', 'tag_3 great', 'tag_3 hillary', 'tag_3 hope', 'tag_3 https', 'tag_3 https skeptical', 'tag_3 know', 'tag_3 let', 'tag_3 like', 'tag_3 live', 'tag_3 look', 'tag_3 need', 'tag_3 no', 'tag_3 not', 'tag_3 p2', 'tag_3 p2 cc', 'tag_3 people', 'tag_3 play', 'tag_3 say', 'tag_3 tag_4', 'tag_3 tag_4 good', 'tag_3 tag_4 https', 'tag_3 tag_4 no', 'tag_3 tag_4 not', 'tag_3 tag_4 tag_5', 'tag_3 tag_4 think', 'tag_3 tag_4 trump', 'tag_3 team', 'tag_3 thank', 'tag_3 think', 'tag_3 time', 'tag_3 trump', 'tag_3 want', 'tag_3 win', 'tag_3 worldcup', 'tag_3 yes', 'tag_30 tag_31', 'tag_30 tag_31 tag_32', 'tag_31 tag_32', 'tag_31 tag_32 tag_33', 'tag_32 tag_33', 'tag_32 tag_33 tag_34', 'tag_33 tag_34', 'tag_33 tag_34 tag_35', 'tag_34 tag_35', 'tag_34 tag_35 tag_36', 'tag_35 tag_36', 'tag_4 good', 'tag_4 https', 'tag_4 https skeptical', 'tag_4 know', 'tag_4 no', 'tag_4 not', 'tag_4 tag_5', 'tag_4 tag_5 https', 'tag_4 tag_5 no', 'tag_4 tag_5 not', 'tag_4 tag_5 tag_6', 'tag_4 tag_5 zhong', 'tag_4 think', 'tag_4 trump', 'tag_5 https', 'tag_5 https skeptical', 'tag_5 no', 'tag_5 not', 'tag_5 tag_6', 'tag_5 tag_6 https', 'tag_5 tag_6 not', 'tag_5 tag_6 tag_7', 'tag_6 https', 'tag_6 https skeptical', 'tag_6 not', 'tag_6 tag_7', 'tag_6 tag_7 https', 'tag_6 tag_7 not', 'tag_6 tag_7 tag_8', 'tag_7 https', 'tag_7 https skeptical', 'tag_7 not', 'tag_7 tag_8', 'tag_7 tag_8 tag_9', 'tag_8 https', 'tag_8 https skeptical', 'tag_8 not', 'tag_8 tag_9', 'tag_8 tag_9 tag_10', 'tag_9 tag_10', 'tag_9 tag_10 tag_11', 'take away', 'take care', 'take chance', 'take day', 'take little', 'take long', 'take minute', 'take time', 'take week', 'tangerine flavor', 'taste add', 'taste amazing', 'taste awful', 'taste bad', 'taste better', 'taste bit', 'taste bitter', 'taste bud', 'taste buy', 'taste chocolate', 'taste coffee', 'taste confusion', 'taste delicious', 'taste difference', 'taste different', 'taste drink', 'taste exactly', 'taste exactly like', 'taste find', 'taste fine', 'taste flavor', 'taste fresh', 'taste go', 'taste good', 'taste good not', 'taste great', 'taste great not', 'taste horrible', 'taste like', 'taste like coffee', 'taste like real', 'taste like regular', 'taste little', 'taste look', 'taste lot', 'taste love', 'taste make', 'taste mouth', 'taste nice', 'taste no', 'taste not', 'taste ok', 'taste perfect', 'taste pretty', 'taste pretty good', 'taste product', 'taste regular', 'taste right', 'taste similar', 'taste smell', 'taste smooth', 'taste strong', 'taste sweet', 'taste taste', 'taste tea', 'taste terrible', 'taste test', 'taste texture', 'taste think', 'taste try', 'taste use', 'taste way', 'taste well', 'taste wonderful', 'tasting coffee', 'tasting not', 'tasting tea', 'tasty not', 'tax return', 'tea add', 'tea bag', 'tea brew', 'tea buy', 'tea coffee', 'tea come', 'tea confusion', 'tea day', 'tea delicious', 'tea drink', 'tea drinker', 'tea enjoy', 'tea favorite', 'tea find', 'tea flavor', 'tea good', 'tea great', 'tea help', 'tea hot', 'tea leave', 'tea like', 'tea love', 'tea no', 'tea not', 'tea strong', 'tea taste', 'tea tea', 'tea think', 'tea time', 'tea try', 'tea use', 'tea work', 'tea year', 'team beat', 'team bring', 'team come', 'team country', 'team england', 'team get', 'team give', 'team go', 'team good', 'team great', 'team https', 'team https skeptical', 'team like', 'team look', 'team lose', 'team no', 'team not', 'team play', 'team player', 'team proud', 'team spirit', 'team support', 'team tag_1', 'team tag_2', 'team tournament', 'team win', 'team world', 'team world cup', 'team worldcup', 'team year', 'tell difference', 'tell not', 'tell tag_1', 'tell tag_1 tag_2', 'tell truth', 'texture flavor', 'texture like', 'texture not', 'texture taste', 'thank amazon', 'thank england', 'thank gareth', 'thank god', 'thank goodness', 'thank great', 'thank make', 'thank tag_1', 'thank tag_2', 'theater popcorn', 'thecoveteur meet', 'thecoveteur meet radio', 'thing come', 'thing eat', 'thing find', 'thing go', 'thing happen', 'thing like', 'thing love', 'thing not', 'thing not like', 'thing notice', 'thing specialreport', 'thing specialreport https', 'thing taste', 'thing try', 'think bad', 'think bit', 'think buy', 'think come', 'think confusion', 'think eat', 'think england', 'think find', 'think flavor', 'think get', 'think go', 'think good', 'think great', 'think know', 'think like', 'think little', 'think maybe', 'think need', 'think not', 'think order', 'think people', 'think pretty', 'think product', 'think tag_1', 'think tag_2', 'think taste', 'think time', 'think try', 'think well', 'think win', 'think worth', 'think would', 'thousand remind', 'thousand remind https', 'threelion beat', 'threelion https', 'threelion https skeptical', 'threelion itscominghome', 'threelion tag_1', 'threelion tonight', 'threelion win', 'threelion worldcup', 'threelions comeonengland', 'threelions eng', 'threelions eng https', 'threelions eng worldcup', 'threelions engcro', 'threelions england', 'threelions england v', 'threelions engpan', 'threelions engpan worldcup', 'threelions https', 'threelions https skeptical', 'threelions itscominghome', 'threelions itscominghome https', 'threelions itscominghome worldcup', 'threelions worldcup', 'threelions worldcup https', 'threelions worldcup2018', 'thrilled find', 'throw away', 'thursday 28th', 'thursday 28th t', 'time ago', 'time buy', 'time come', 'time confusion', 'time cook', 'time day', 'time dog', 'time eat', 'time england', 'time favorite', 'time find', 'time get', 'time give', 'time go', 'time good', 'time great', 'time https', 'time https skeptical', 'time like', 'time long', 'time love', 'time max', 'time max bet', 'time need', 'time no', 'time not', 'time open', 'time order', 'time play', 'time purchase', 'time see', 'time start', 'time tag_1', 'time tag_2', 'time take', 'time taste', 'time think', 'time time', 'time try', 'time use', 'time want', 'time week', 'time win', 'time year', 'timely manner', 'tiny bit', 'today day', 'today england', 'today https', 'today https skeptical', 'today not', 'today p', 'today p m', 'today tag_1', 'today tag_2', 'tongue stick', 'tongue stick cheeky', 'tonight eng', 'tonight england', 'tonight game', 'tonight not', 'tonight tag_1', 'tooth clean', 'tooth look', 'tooth not', 'tortilla chip', 'total fat', 'tournament not', 'toy dog', 'toy not', 'trader joe', 'training session', 'trans fat', 'transparency https', 'transparency https skeptical', 'treat ball', 'treat cat', 'treat come', 'treat confusion', 'treat day', 'treat dog', 'treat eat', 'treat good', 'treat great', 'treat hard', 'treat like', 'treat love', 'treat not', 'treat small', 'treat think', 'treat time', 'treat treat', 'treat try', 'trouble find', 'truffle oil', 'trump campaign', 'trump extreme', 'trump extreme immigration', 'trump hillary', 'trump https', 'trump https skeptical', 'trump immigration', 'trump not', 'trump rally', 'trump say', 'trump supporter', 'trump tag_1', 'trump win', 'trump2016 https', 'trump2016 https skeptical', 'trumpwa https', 'trumpwa https skeptical', 'truth https', 'truth https skeptical', 'try add', 'try avoid', 'try bag', 'try brand', 'try buy', 'try coffee', 'try confusion', 'try couple', 'try cut', 'try different', 'try different brand', 'try different flavor', 'try dog', 'try drink', 'try eat', 'try far', 'try find', 'try flavor', 'try food', 'try get', 'try good', 'try hard', 'try kind', 'try like', 'try little', 'try look', 'try lot', 'try love', 'try mix', 'try new', 'try not', 'try open', 'try order', 'try product', 'try taste', 'try tea', 'try think', 'try time', 'try treat', 'try try', 'try use', 'try variety', 'tuesday 3rd', 'tug jug', 'turn nose', 'turn work', 'turn work relate', 'twice day', 'type coffee', 'type food', 'unable find', 'undecided uneasy', 'undecided uneasy hesitant', 'uneasy hesitant', 'uneasy hesitant bet', 'uneasy hesitant fngbarfjtt', 'uneasy hesitant https', 'uneasy hesitant j58e8aacre', 'uneasy hesitant lqn3jpjwpk', 'uneasy hesitant on63xojtus', 'uneasy hesitant t', 'uneasy hesitant tag_1', 'uneasy hesitant tag_2', 'uneasy hesitant tag_3', 'uneasy hesitant vienrt7ncc', 'unfortunately not', 'unite country', 'unite nation', 'united states', 'untreate time', 'untreate time https', 'upset stomach', 'usa https', 'usa https skeptical', 'usa not', 'use coffee', 'use good', 'use half', 'use little', 'use lot', 'use not', 'use product', 'use regular', 'use small', 'use sugar', 'use tea', 'use time', 'usually add', 'usually buy', 'usually drink', 'usually eat', 'usually like', 'usually not', 'usually use', 'v belgium', 'v belgium england', 'v colombia', 'v croatia', 'v england', 'v panama', 'v sweden', 'v tun', 'vacuum seal', 'van houtte', 'vanilla bean', 'vanilla caramel', 'vanilla chai', 'vanilla extract', 'vanilla flavor', 'vanilla ice', 'variety flavor', 'variety pack', 'vegetable oil', 'vending machine', 'version not', 'vet recommend', 'vet say', 'video https', 'video https skeptical', 'vienrt7ncc bet', 'vienrt7ncc bet account', 'vine program', 'vinegar chip', 'vinegar flavor', 'virgin olive', 'virgin olive oil', 'vitamin c', 'vitamin e', 'vitamin mineral', 'vote hillary', 'vote https', 'vote https skeptical', 'vote judge', 'vote judge garland', 'vote tag_1', 'vote tag_2', 'vote trump', 'vs belgium', 'vs colombia', 'vs croatia', 'vs england', 'vs panama', 'vs sweden', 'vs tag_2', 'waffle mix', 'wait till', 'wait try', 'wait year', 'wake morning', 'wal mart', 'walk away', 'wall not', 'want add', 'want buy', 'want drink', 'want eat', 'want england', 'want enjoy', 'want good', 'want know', 'want like', 'want not', 'want play', 'want tag_1', 'want taste', 'want try', 'want use', 'want want', 'want win', 'warm water', 'waste money', 'waste time', 'watch england', 'watch football', 'watch game', 'watch live', 'watch match', 'watch tag_1', 'watch tag_2', 'watch video', 'water add', 'water bottle', 'water confusion', 'water good', 'water like', 'water minute', 'water mix', 'water not', 'water taste', 'watermelon strawberry', 'way buy', 'way confusion', 'way eat', 'way expensive', 'way good', 'way like', 'way not', 'way play', 'way start', 'way sweet', 'way taste', 'way use', 'way well', 'weak not', 'web site', 'week ago', 'week later', 'week not', 'weekly join', 'wei ju', 'weight loss', 'weight watcher', 'well buy', 'well chance', 'well choice', 'well coffee', 'well deal', 'well flavor', 'well not', 'well price', 'well product', 'well quality', 'well regular', 'well taste', 'well tasting', 'well team', 'well way', 'wet food', 'wheat flour', 'wheat free', 'wheat gluten', 'wheat pasta', 'whip cream', 'white cheddar', 'white chocolate', 'white house', 'white rice', 'white sugar', 'white supremacist', 'white supremacist https', 'white tea', 'wife love', 'wild ride', 'win cup', 'win election', 'win england', 'win free', 'win free bet', 'win game', 'win goal', 'win good', 'win group', 'win https', 'win https skeptical', 'win lose', 'win match', 'win max', 'win max bet', 'win not', 'win penalty', 'win penalty shootout', 'win tag_1', 'win tag_2', 'win tag_3', 'win team', 'win today', 'win tonight', 'win wc', 'win win', 'win world', 'win world cup', 'win worldcup', 'wink smirk', 'winning free', 'winning free bet', 'wish amazon', 'wish come', 'wish good', 'wish not', 'wish tag_1', 'wolfgang puck', 'wonderful flavor', 'wonderful not', 'wonderful product', 'wonderful taste', 'word not', 'work better', 'work confusion', 'work day', 'work dog', 'work fine', 'work good', 'work great', 'work hard', 'work like', 'work not', 'work people', 'work perfectly', 'work relate', 'work relate single', 'work tag_1', 'work way', 'world champion', 'world class', 'world cup', 'world cup campaign', 'world cup come', 'world cup england', 'world cup fever', 'world cup final', 'world cup game', 'world cup good', 'world cup match', 'world cup no', 'world cup not', 'world cup russia', 'world cup semi', 'world cup squad', 'world cup start', 'world cup tag_1', 'world cup team', 'world cup win', 'world cup year', 'world football', 'world good', 'world motion', 'world not', 'worldcup bbcworldcup', 'worldcup campaign', 'worldcup comeonengland', 'worldcup eng', 'worldcup eng threelion', 'worldcup eng threelions', 'worldcup engcro', 'worldcup england', 'worldcup england columbia', 'worldcup final', 'worldcup football', 'worldcup game', 'worldcup https', 'worldcup https skeptical', 'worldcup itscominghome', 'worldcup match', 'worldcup new', 'worldcup new customer', 'worldcup not', 'worldcup quarter', 'worldcup quarter final', 'worldcup redtogether', 'worldcup redtogether https', 'worldcup rusia2018', 'worldcup russia', 'worldcup russia2018', 'worldcup semi', 'worldcup semi final', 'worldcup semifinal', 'worldcup supereagles', 'worldcup t', 'worldcup t cs', 'worldcup tag_1', 'worldcup tag_1 tag_2', 'worldcup threelion', 'worldcup threelions', 'worldcup threelions eng', 'worldcup threelions https', 'worldcup threelions itscominghome', 'worldcup wc2018', 'worldcup worldcup2018', 'worldcup worldcup2018 england', 'worldcup worldcuprussia2018', 'worldcup2018 england', 'worldcup2018 england panama', 'worldcup2018 https', 'worldcup2018 https skeptical', 'worldcup2018 russia2018', 'worldcup2018 worldcup', 'worth extra', 'worth money', 'worth penny', 'worth price', 'worth try', 'write review', 'wrong not', 'yang jing', 'yang jing wei', 'yeah not', 'year ago', 'year buy', 'year come', 'year confusion', 'year find', 'year good', 'year great', 'year https', 'year https skeptical', 'year hurt', 'year later', 'year love', 'year no', 'year not', 'year old', 'year old daughter', 'year old son', 'year round', 'year tag_1', 'year think', 'year time', 'year try', 'year year', 'yellow card', 'yes no', 'yes no https', 'yes not', 'yes yes', 'yes yes yes', 'yogi tea', 'you s', 'young lad', 'young lion', 'young player', 'young squad', 'young team', 'yr old', 'z barackobama', 'z barackobama https', 'zhong yang', 'zhong yang jing', 'zip lock']\n"
          ],
          "name": "stdout"
        }
      ]
    },
    {
      "cell_type": "code",
      "metadata": {
        "colab": {
          "base_uri": "https://localhost:8080/"
        },
        "id": "LspaleFlXVnU",
        "outputId": "e014398f-1ee3-42e0-f6f8-792e112c7fdb"
      },
      "source": [
        "import sklearn\n",
        "# NB on Ngram Level TF IDF Vectors\n",
        "clf = MultinomialNB()\n",
        "clf.fit(xtrain_tfidf_ngram, train_y)\n",
        "# print(\"SVM, N-Gram Vectors: \", accuracy)"
      ],
      "execution_count": 21,
      "outputs": [
        {
          "output_type": "execute_result",
          "data": {
            "text/plain": [
              "MultinomialNB(alpha=1.0, class_prior=None, fit_prior=True)"
            ]
          },
          "metadata": {
            "tags": []
          },
          "execution_count": 21
        }
      ]
    },
    {
      "cell_type": "code",
      "metadata": {
        "id": "pPojPaAoXxD4"
      },
      "source": [
        "accuracy = clf.score(xvalid_tfidf_ngram,valid_y)"
      ],
      "execution_count": 22,
      "outputs": []
    },
    {
      "cell_type": "code",
      "metadata": {
        "colab": {
          "base_uri": "https://localhost:8080/"
        },
        "id": "i4j6Qt_HZxP9",
        "outputId": "047c906e-a88b-4ae3-adc6-e23d48e24b66"
      },
      "source": [
        "accuracy"
      ],
      "execution_count": 23,
      "outputs": [
        {
          "output_type": "execute_result",
          "data": {
            "text/plain": [
              "0.86756"
            ]
          },
          "metadata": {
            "tags": []
          },
          "execution_count": 23
        }
      ]
    },
    {
      "cell_type": "code",
      "metadata": {
        "id": "yWMcqIFYcadt"
      },
      "source": [
        "y_pred = clf.predict(xvalid_tfidf_ngram)"
      ],
      "execution_count": 24,
      "outputs": []
    },
    {
      "cell_type": "code",
      "metadata": {
        "colab": {
          "base_uri": "https://localhost:8080/"
        },
        "id": "XNuVxAq9cpXm",
        "outputId": "c9e69288-2814-47d4-ec0e-c2b8608f542c"
      },
      "source": [
        "print(classification_report(valid_y, y_pred))\n"
      ],
      "execution_count": 25,
      "outputs": [
        {
          "output_type": "stream",
          "text": [
            "              precision    recall  f1-score   support\n",
            "\n",
            "         1.0       0.81      0.81      0.81      8214\n",
            "         2.0       0.97      0.98      0.97      8361\n",
            "         3.0       0.82      0.82      0.82      8425\n",
            "\n",
            "    accuracy                           0.87     25000\n",
            "   macro avg       0.87      0.87      0.87     25000\n",
            "weighted avg       0.87      0.87      0.87     25000\n",
            "\n"
          ],
          "name": "stdout"
        }
      ]
    },
    {
      "cell_type": "code",
      "metadata": {
        "id": "6tpvgaM_c78w"
      },
      "source": [
        "import pickle\n",
        "# save the classifier\n",
        "with open('/content/drive/MyDrive/multi_text_classifier_NB.pkl', 'wb') as fid:\n",
        "    pickle.dump(clf, fid)  \n"
      ],
      "execution_count": 28,
      "outputs": []
    },
    {
      "cell_type": "code",
      "metadata": {
        "id": "PO12YZ8fduQh"
      },
      "source": [
        "import pickle\n",
        "# load it again\n",
        "with open('/content/drive/MyDrive/multi_text_classifier_NB.pkl', 'rb') as fid:\n",
        "    NB_loaded = pickle.load(fid)"
      ],
      "execution_count": 29,
      "outputs": []
    },
    {
      "cell_type": "code",
      "metadata": {
        "colab": {
          "base_uri": "https://localhost:8080/"
        },
        "id": "j_14E5PGeEW_",
        "outputId": "af93c9bf-720b-4150-fe37-3d62cd3a182b"
      },
      "source": [
        "NB_loaded"
      ],
      "execution_count": 30,
      "outputs": [
        {
          "output_type": "execute_result",
          "data": {
            "text/plain": [
              "MultinomialNB(alpha=1.0, class_prior=None, fit_prior=True)"
            ]
          },
          "metadata": {
            "tags": []
          },
          "execution_count": 30
        }
      ]
    },
    {
      "cell_type": "code",
      "metadata": {
        "colab": {
          "base_uri": "https://localhost:8080/"
        },
        "id": "uBt9z-1KeFlf",
        "outputId": "26508ab8-00e4-4fe7-c077-1ee217fbd5e6"
      },
      "source": [
        "xvalid_tfidf_ngram[0]"
      ],
      "execution_count": 31,
      "outputs": [
        {
          "output_type": "execute_result",
          "data": {
            "text/plain": [
              "<1x5000 sparse matrix of type '<class 'numpy.float64'>'\n",
              "\twith 31 stored elements in Compressed Sparse Row format>"
            ]
          },
          "metadata": {
            "tags": []
          },
          "execution_count": 31
        }
      ]
    },
    {
      "cell_type": "code",
      "metadata": {
        "id": "YVZMMUFgeYP5"
      },
      "source": [
        "sample = ['love to watch football']"
      ],
      "execution_count": 54,
      "outputs": []
    },
    {
      "cell_type": "code",
      "metadata": {
        "id": "fr5_8wp2eiDn"
      },
      "source": [
        "sample_transform = tfidf_vect_ngram.transform(sample)\n"
      ],
      "execution_count": 55,
      "outputs": []
    },
    {
      "cell_type": "code",
      "metadata": {
        "colab": {
          "base_uri": "https://localhost:8080/"
        },
        "id": "oclOJtYbkKAE",
        "outputId": "0d7ff56a-1d95-4b67-c5c0-7df257976c9c"
      },
      "source": [
        "sample_transform"
      ],
      "execution_count": 56,
      "outputs": [
        {
          "output_type": "execute_result",
          "data": {
            "text/plain": [
              "<1x5000 sparse matrix of type '<class 'numpy.float64'>'\n",
              "\twith 1 stored elements in Compressed Sparse Row format>"
            ]
          },
          "metadata": {
            "tags": []
          },
          "execution_count": 56
        }
      ]
    },
    {
      "cell_type": "code",
      "metadata": {
        "id": "N2-Q2oQoewX6"
      },
      "source": [
        "sample_pred = NB_loaded.predict(sample_transform)"
      ],
      "execution_count": 57,
      "outputs": []
    },
    {
      "cell_type": "code",
      "metadata": {
        "colab": {
          "base_uri": "https://localhost:8080/"
        },
        "id": "J6LtQyR6etgi",
        "outputId": "83aed601-73a5-4152-8191-bfec789abc93"
      },
      "source": [
        "sample_pred"
      ],
      "execution_count": 58,
      "outputs": [
        {
          "output_type": "execute_result",
          "data": {
            "text/plain": [
              "array([1.])"
            ]
          },
          "metadata": {
            "tags": []
          },
          "execution_count": 58
        }
      ]
    },
    {
      "cell_type": "code",
      "metadata": {
        "id": "ZI8vGMn67eq8"
      },
      "source": [
        ""
      ],
      "execution_count": 36,
      "outputs": []
    }
  ]
}