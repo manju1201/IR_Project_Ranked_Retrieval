{
  "nbformat": 4,
  "nbformat_minor": 0,
  "metadata": {
    "colab": {
      "name": "IR_Search.ipynb",
      "provenance": [],
      "mount_file_id": "15vXmM1MZiBM-sp8YZ9a20leqoeAi_sAQ",
      "authorship_tag": "ABX9TyPGzH0qTY9YiYTarNsrjdrn",
      "include_colab_link": true
    },
    "kernelspec": {
      "name": "python3",
      "display_name": "Python 3"
    },
    "accelerator": "GPU"
  },
  "cells": [
    {
      "cell_type": "markdown",
      "metadata": {
        "id": "view-in-github",
        "colab_type": "text"
      },
      "source": [
        "<a href=\"https://colab.research.google.com/github/manju1201/IR_Project_Ranked_Retrieval/blob/main/IR_Search.ipynb\" target=\"_parent\"><img src=\"https://colab.research.google.com/assets/colab-badge.svg\" alt=\"Open In Colab\"/></a>"
      ]
    },
    {
      "cell_type": "markdown",
      "metadata": {
        "id": "S6Uy3KPHg7dD"
      },
      "source": [
        "**Importing Libraries**"
      ]
    },
    {
      "cell_type": "code",
      "metadata": {
        "colab": {
          "base_uri": "https://localhost:8080/"
        },
        "id": "AUoKdE7JhUUj",
        "outputId": "56296de5-7514-4aa6-f56a-ab9042ed746a"
      },
      "source": [
        "pip install wordninja"
      ],
      "execution_count": 3,
      "outputs": [
        {
          "output_type": "stream",
          "text": [
            "Collecting wordninja\n",
            "\u001b[?25l  Downloading https://files.pythonhosted.org/packages/30/15/abe4af50f4be92b60c25e43c1c64d08453b51e46c32981d80b3aebec0260/wordninja-2.0.0.tar.gz (541kB)\n",
            "\r\u001b[K     |▋                               | 10kB 24.6MB/s eta 0:00:01\r\u001b[K     |█▏                              | 20kB 17.2MB/s eta 0:00:01\r\u001b[K     |█▉                              | 30kB 15.2MB/s eta 0:00:01\r\u001b[K     |██▍                             | 40kB 15.1MB/s eta 0:00:01\r\u001b[K     |███                             | 51kB 11.5MB/s eta 0:00:01\r\u001b[K     |███▋                            | 61kB 11.6MB/s eta 0:00:01\r\u001b[K     |████▎                           | 71kB 11.6MB/s eta 0:00:01\r\u001b[K     |████▉                           | 81kB 12.4MB/s eta 0:00:01\r\u001b[K     |█████▌                          | 92kB 13.0MB/s eta 0:00:01\r\u001b[K     |██████                          | 102kB 12.8MB/s eta 0:00:01\r\u001b[K     |██████▋                         | 112kB 12.8MB/s eta 0:00:01\r\u001b[K     |███████▎                        | 122kB 12.8MB/s eta 0:00:01\r\u001b[K     |███████▉                        | 133kB 12.8MB/s eta 0:00:01\r\u001b[K     |████████▌                       | 143kB 12.8MB/s eta 0:00:01\r\u001b[K     |█████████                       | 153kB 12.8MB/s eta 0:00:01\r\u001b[K     |█████████▊                      | 163kB 12.8MB/s eta 0:00:01\r\u001b[K     |██████████▎                     | 174kB 12.8MB/s eta 0:00:01\r\u001b[K     |███████████                     | 184kB 12.8MB/s eta 0:00:01\r\u001b[K     |███████████▌                    | 194kB 12.8MB/s eta 0:00:01\r\u001b[K     |████████████                    | 204kB 12.8MB/s eta 0:00:01\r\u001b[K     |████████████▊                   | 215kB 12.8MB/s eta 0:00:01\r\u001b[K     |█████████████▎                  | 225kB 12.8MB/s eta 0:00:01\r\u001b[K     |██████████████                  | 235kB 12.8MB/s eta 0:00:01\r\u001b[K     |██████████████▌                 | 245kB 12.8MB/s eta 0:00:01\r\u001b[K     |███████████████▏                | 256kB 12.8MB/s eta 0:00:01\r\u001b[K     |███████████████▊                | 266kB 12.8MB/s eta 0:00:01\r\u001b[K     |████████████████▍               | 276kB 12.8MB/s eta 0:00:01\r\u001b[K     |█████████████████               | 286kB 12.8MB/s eta 0:00:01\r\u001b[K     |█████████████████▌              | 296kB 12.8MB/s eta 0:00:01\r\u001b[K     |██████████████████▏             | 307kB 12.8MB/s eta 0:00:01\r\u001b[K     |██████████████████▊             | 317kB 12.8MB/s eta 0:00:01\r\u001b[K     |███████████████████▍            | 327kB 12.8MB/s eta 0:00:01\r\u001b[K     |████████████████████            | 337kB 12.8MB/s eta 0:00:01\r\u001b[K     |████████████████████▋           | 348kB 12.8MB/s eta 0:00:01\r\u001b[K     |█████████████████████▏          | 358kB 12.8MB/s eta 0:00:01\r\u001b[K     |█████████████████████▉          | 368kB 12.8MB/s eta 0:00:01\r\u001b[K     |██████████████████████▍         | 378kB 12.8MB/s eta 0:00:01\r\u001b[K     |███████████████████████         | 389kB 12.8MB/s eta 0:00:01\r\u001b[K     |███████████████████████▋        | 399kB 12.8MB/s eta 0:00:01\r\u001b[K     |████████████████████████▏       | 409kB 12.8MB/s eta 0:00:01\r\u001b[K     |████████████████████████▉       | 419kB 12.8MB/s eta 0:00:01\r\u001b[K     |█████████████████████████▍      | 430kB 12.8MB/s eta 0:00:01\r\u001b[K     |██████████████████████████      | 440kB 12.8MB/s eta 0:00:01\r\u001b[K     |██████████████████████████▋     | 450kB 12.8MB/s eta 0:00:01\r\u001b[K     |███████████████████████████▎    | 460kB 12.8MB/s eta 0:00:01\r\u001b[K     |███████████████████████████▉    | 471kB 12.8MB/s eta 0:00:01\r\u001b[K     |████████████████████████████▍   | 481kB 12.8MB/s eta 0:00:01\r\u001b[K     |█████████████████████████████   | 491kB 12.8MB/s eta 0:00:01\r\u001b[K     |█████████████████████████████▋  | 501kB 12.8MB/s eta 0:00:01\r\u001b[K     |██████████████████████████████▎ | 512kB 12.8MB/s eta 0:00:01\r\u001b[K     |██████████████████████████████▉ | 522kB 12.8MB/s eta 0:00:01\r\u001b[K     |███████████████████████████████▌| 532kB 12.8MB/s eta 0:00:01\r\u001b[K     |████████████████████████████████| 542kB 12.8MB/s \n",
            "\u001b[?25hBuilding wheels for collected packages: wordninja\n",
            "  Building wheel for wordninja (setup.py) ... \u001b[?25l\u001b[?25hdone\n",
            "  Created wheel for wordninja: filename=wordninja-2.0.0-cp36-none-any.whl size=541553 sha256=b0ffe3a9be8559e8d31fb4ced9cc562e7a5418cc05a5d915257a7987287f0d39\n",
            "  Stored in directory: /root/.cache/pip/wheels/22/46/06/9b6d10ed02c85e93c3bb33ac50e2d368b2586248f192a2e22a\n",
            "Successfully built wordninja\n",
            "Installing collected packages: wordninja\n",
            "Successfully installed wordninja-2.0.0\n"
          ],
          "name": "stdout"
        }
      ]
    },
    {
      "cell_type": "code",
      "metadata": {
        "id": "u6xSeaK-O6R0"
      },
      "source": [
        "import nltk\r\n",
        "import numpy as np\r\n",
        "import pandas as pd\r\n",
        "import re\r\n",
        "\r\n",
        "from nltk.stem import WordNetLemmatizer\r\n",
        "from nltk.corpus import wordnet\r\n",
        "from nltk.corpus import stopwords\r\n",
        "from nltk.tokenize import RegexpTokenizer\r\n",
        "import wordninja"
      ],
      "execution_count": 4,
      "outputs": []
    },
    {
      "cell_type": "code",
      "metadata": {
        "colab": {
          "base_uri": "https://localhost:8080/"
        },
        "id": "InAZrzjBPe4q",
        "outputId": "00733714-3dd3-4e70-b373-a02292fd9b78"
      },
      "source": [
        "nltk.download('averaged_perceptron_tagger')\r\n",
        "nltk.download('wordnet')\r\n",
        "nltk.download('stopwords')"
      ],
      "execution_count": 5,
      "outputs": [
        {
          "output_type": "stream",
          "text": [
            "[nltk_data] Downloading package averaged_perceptron_tagger to\n",
            "[nltk_data]     /root/nltk_data...\n",
            "[nltk_data]   Package averaged_perceptron_tagger is already up-to-\n",
            "[nltk_data]       date!\n",
            "[nltk_data] Downloading package wordnet to /root/nltk_data...\n",
            "[nltk_data]   Package wordnet is already up-to-date!\n",
            "[nltk_data] Downloading package stopwords to /root/nltk_data...\n",
            "[nltk_data]   Package stopwords is already up-to-date!\n"
          ],
          "name": "stdout"
        },
        {
          "output_type": "execute_result",
          "data": {
            "text/plain": [
              "True"
            ]
          },
          "metadata": {
            "tags": []
          },
          "execution_count": 5
        }
      ]
    },
    {
      "cell_type": "markdown",
      "metadata": {
        "id": "aGiBaL6ShOvq"
      },
      "source": [
        "Removes Html codes"
      ]
    },
    {
      "cell_type": "code",
      "metadata": {
        "id": "TEA05n8DRdVW"
      },
      "source": [
        "def remove_htmlcodes(document):\r\n",
        "    replacement = {\r\n",
        "                    \"&ampnbsp\": ' ',\r\n",
        "                    \"&ampamp\": '&',\r\n",
        "                    \"&ampquot\": '\\'',\r\n",
        "                    \"&ampldquo\": '\\\"',\r\n",
        "                    \"&amprdquo\": '\\\"',\r\n",
        "                    \"&amplsquo\": '\\'',\r\n",
        "                    \"&amprsquo\": '\\'',\r\n",
        "                    \"&amphellip\": '...',\r\n",
        "                    \"&ampndash\": '-',\r\n",
        "                    \"&ampmdash\": '-'\r\n",
        "                  }\r\n",
        "    for str in replacement:\r\n",
        "        document = document.replace(str, replacement[str])\r\n",
        "        \r\n",
        "    return document"
      ],
      "execution_count": 6,
      "outputs": []
    },
    {
      "cell_type": "markdown",
      "metadata": {
        "id": "6RLAqbZThiCn"
      },
      "source": [
        "**Preprocessing**\r\n",
        "\r\n",
        "*   Parts of Speech tags,\r\n",
        "*   lemmatization,\r\n",
        "*   Tokenize, \r\n",
        "*   remove stopwords\r\n"
      ]
    },
    {
      "cell_type": "code",
      "metadata": {
        "id": "60C6tDi5PkhX"
      },
      "source": [
        "def get_wordnet_pos(word):\r\n",
        "    tag=nltk.pos_tag([word])[0][1][0].upper()\r\n",
        "    tag_dict={\"J\": wordnet.ADJ, \r\n",
        "              \"N\": wordnet.NOUN,\r\n",
        "              \"V\": wordnet.VERB,\r\n",
        "              \"R\": wordnet.ADV}\r\n",
        "    return tag_dict.get(tag,wordnet.NOUN)\r\n",
        "\r\n",
        "def lemma_stop(str):\r\n",
        "    lemmatizer = WordNetLemmatizer()\r\n",
        "    tokenizer = RegexpTokenizer('\\w+|\\$]\\d\\[+|\\S+,-')\r\n",
        "    tokenized = tokenizer.tokenize(str)\r\n",
        "    lemmatized = [lemmatizer.lemmatize(w,get_wordnet_pos(w)) for w in tokenized]\r\n",
        "    stop_words = set(stopwords.words('english'))\r\n",
        "    filtered_sentence = [w for w in lemmatized if w.lower() not in stop_words]\r\n",
        "    after_lemma_stop = ' '.join(w for w in filtered_sentence)\r\n",
        "    return filtered_sentence"
      ],
      "execution_count": 7,
      "outputs": []
    },
    {
      "cell_type": "code",
      "metadata": {
        "colab": {
          "base_uri": "https://localhost:8080/"
        },
        "id": "I822QChCQCvV",
        "outputId": "eaade0a9-cecf-46bb-b338-ee75280e0fbb"
      },
      "source": [
        "data = pd.read_csv(\"/content/drive/MyDrive/IR_domain_custom_dataset_processed.csv\")\r\n",
        "for column in data:\r\n",
        "    if data[column].isnull().any():\r\n",
        "        print('{0} has {1} null values'.format(column, data[column].isnull().sum()))"
      ],
      "execution_count": 10,
      "outputs": [
        {
          "output_type": "stream",
          "text": [
            "Text has 3 null values\n",
            "domain has 53555 null values\n",
            "word_count has 53558 null values\n"
          ],
          "name": "stdout"
        }
      ]
    },
    {
      "cell_type": "markdown",
      "metadata": {
        "id": "SSlOlJfAijkn"
      },
      "source": [
        "Droping Null values"
      ]
    },
    {
      "cell_type": "code",
      "metadata": {
        "id": "sa2X9OjvQF7w"
      },
      "source": [
        "data = data.dropna()"
      ],
      "execution_count": 11,
      "outputs": []
    },
    {
      "cell_type": "code",
      "metadata": {
        "colab": {
          "base_uri": "https://localhost:8080/"
        },
        "id": "ss1XWb8kQN2j",
        "outputId": "9fdd8cad-cf3f-4cc3-a8bc-208561accb40"
      },
      "source": [
        "for column in data:\r\n",
        "    if data[column].isnull().any():\r\n",
        "        print('{0} has {1} null values'.format(column, data[column].isnull().sum()))\r\n",
        "data['word_count'].count()"
      ],
      "execution_count": 12,
      "outputs": [
        {
          "output_type": "execute_result",
          "data": {
            "text/plain": [
              "99998"
            ]
          },
          "metadata": {
            "tags": []
          },
          "execution_count": 12
        }
      ]
    },
    {
      "cell_type": "code",
      "metadata": {
        "colab": {
          "base_uri": "https://localhost:8080/",
          "height": 195
        },
        "id": "RVlEMbzzQUFv",
        "outputId": "721c831a-1cb4-4858-8624-a05dbb266037"
      },
      "source": [
        "data.head()"
      ],
      "execution_count": 13,
      "outputs": [
        {
          "output_type": "execute_result",
          "data": {
            "text/html": [
              "<div>\n",
              "<style scoped>\n",
              "    .dataframe tbody tr th:only-of-type {\n",
              "        vertical-align: middle;\n",
              "    }\n",
              "\n",
              "    .dataframe tbody tr th {\n",
              "        vertical-align: top;\n",
              "    }\n",
              "\n",
              "    .dataframe thead th {\n",
              "        text-align: right;\n",
              "    }\n",
              "</style>\n",
              "<table border=\"1\" class=\"dataframe\">\n",
              "  <thead>\n",
              "    <tr style=\"text-align: right;\">\n",
              "      <th></th>\n",
              "      <th>Unnamed: 0</th>\n",
              "      <th>Unnamed: 0.1</th>\n",
              "      <th>Text</th>\n",
              "      <th>domain</th>\n",
              "      <th>word_count</th>\n",
              "    </tr>\n",
              "  </thead>\n",
              "  <tbody>\n",
              "    <tr>\n",
              "      <th>0</th>\n",
              "      <td>0</td>\n",
              "      <td>1</td>\n",
              "      <td>buy new socceroos jersey think bit excessive f...</td>\n",
              "      <td>1.0</td>\n",
              "      <td>43.0</td>\n",
              "    </tr>\n",
              "    <tr>\n",
              "      <th>1</th>\n",
              "      <td>1</td>\n",
              "      <td>6</td>\n",
              "      <td>england trip feel like dream assume lose germa...</td>\n",
              "      <td>1.0</td>\n",
              "      <td>32.0</td>\n",
              "    </tr>\n",
              "    <tr>\n",
              "      <th>2</th>\n",
              "      <td>2</td>\n",
              "      <td>7</td>\n",
              "      <td>&lt;tag_1&gt; not rate henderson england player stop...</td>\n",
              "      <td>1.0</td>\n",
              "      <td>30.0</td>\n",
              "    </tr>\n",
              "    <tr>\n",
              "      <th>3</th>\n",
              "      <td>3</td>\n",
              "      <td>9</td>\n",
              "      <td>awesome &lt;tag_1&gt; morning talk &lt;tag_2&gt; &lt;tag_3&gt; &amp;...</td>\n",
              "      <td>1.0</td>\n",
              "      <td>46.0</td>\n",
              "    </tr>\n",
              "    <tr>\n",
              "      <th>4</th>\n",
              "      <td>4</td>\n",
              "      <td>13</td>\n",
              "      <td>utterly shocked hear leroy sane axe germany sq...</td>\n",
              "      <td>1.0</td>\n",
              "      <td>45.0</td>\n",
              "    </tr>\n",
              "  </tbody>\n",
              "</table>\n",
              "</div>"
            ],
            "text/plain": [
              "   Unnamed: 0 Unnamed: 0.1  ... domain  word_count\n",
              "0           0            1  ...    1.0        43.0\n",
              "1           1            6  ...    1.0        32.0\n",
              "2           2            7  ...    1.0        30.0\n",
              "3           3            9  ...    1.0        46.0\n",
              "4           4           13  ...    1.0        45.0\n",
              "\n",
              "[5 rows x 5 columns]"
            ]
          },
          "metadata": {
            "tags": []
          },
          "execution_count": 13
        }
      ]
    },
    {
      "cell_type": "code",
      "metadata": {
        "colab": {
          "base_uri": "https://localhost:8080/"
        },
        "id": "N9ptQsG-QV8t",
        "outputId": "56b5d6b6-a283-46d1-eb74-13dff950a298"
      },
      "source": [
        "data.info()"
      ],
      "execution_count": 14,
      "outputs": [
        {
          "output_type": "stream",
          "text": [
            "<class 'pandas.core.frame.DataFrame'>\n",
            "Int64Index: 99998 entries, 0 to 153555\n",
            "Data columns (total 5 columns):\n",
            " #   Column        Non-Null Count  Dtype  \n",
            "---  ------        --------------  -----  \n",
            " 0   Unnamed: 0    99998 non-null  int64  \n",
            " 1   Unnamed: 0.1  99998 non-null  object \n",
            " 2   Text          99998 non-null  object \n",
            " 3   domain        99998 non-null  float64\n",
            " 4   word_count    99998 non-null  float64\n",
            "dtypes: float64(2), int64(1), object(2)\n",
            "memory usage: 4.6+ MB\n"
          ],
          "name": "stdout"
        }
      ]
    },
    {
      "cell_type": "code",
      "metadata": {
        "id": "wRxzEaYpQYHO"
      },
      "source": [
        "data = np.array(data)\r\n",
        "np.save(\"datan\",data)\r\n",
        "data = np.load(\"datan.npy\",allow_pickle = True)"
      ],
      "execution_count": 15,
      "outputs": []
    },
    {
      "cell_type": "code",
      "metadata": {
        "colab": {
          "base_uri": "https://localhost:8080/"
        },
        "id": "g51HFSjCQbVw",
        "outputId": "9188617b-7d69-4761-9e6a-cbb5be988db1"
      },
      "source": [
        "data"
      ],
      "execution_count": 16,
      "outputs": [
        {
          "output_type": "execute_result",
          "data": {
            "text/plain": [
              "array([[0, '1',\n",
              "        'buy new socceroos jersey think bit excessive figure wear game game great value worldcuprussia2018 aus # socceroos',\n",
              "        1.0, 43.0],\n",
              "       [1, '6',\n",
              "        'england trip feel like dream assume lose germany quarter penalty thank goodness not happen cheer <tag_1>',\n",
              "        1.0, 32.0],\n",
              "       [2, '7',\n",
              "        '<tag_1> not rate henderson england player stop shit oh solid blue # comeonengland # coyb',\n",
              "        1.0, 30.0],\n",
              "       ...,\n",
              "       [153553, '98920',\n",
              "        '<tag_1> <tag_2> <tag_3> <tag_4> nerp not buy alias invalidate claim responsibility',\n",
              "        3.0, 16.0],\n",
              "       [153554, '98921',\n",
              "        '<tag_1> oh leaker ok hillary talk wiki leak fbi leak hypocrite',\n",
              "        3.0, 23.0],\n",
              "       [153555, '98922',\n",
              "        '<tag_1> need convince people think great yesterday disturb',\n",
              "        3.0, 14.0]], dtype=object)"
            ]
          },
          "metadata": {
            "tags": []
          },
          "execution_count": 16
        }
      ]
    },
    {
      "cell_type": "markdown",
      "metadata": {
        "id": "e_Mnd-hHi9f1"
      },
      "source": [
        "##Creating Doc ID and index"
      ]
    },
    {
      "cell_type": "code",
      "metadata": {
        "id": "WtSBY8BUQdrx"
      },
      "source": [
        "get_docID = {}\r\n",
        "get_index = {}\r\n",
        "\r\n",
        "\r\n",
        "NN = len(data)\r\n",
        "for i in range(0, len(data)) :\r\n",
        "    get_docID[i] = data[i][0]\r\n",
        "    get_index[data[i][0]] = i\r\n",
        "print(get_docID)"
      ],
      "execution_count": null,
      "outputs": []
    },
    {
      "cell_type": "code",
      "metadata": {
        "id": "Ze8pEyF4Q_YA"
      },
      "source": [
        "def is_not_credible (text):\r\n",
        "    match = re.search(r'[!@#?&{}()]', text)\r\n",
        "    \r\n",
        "    if match:\r\n",
        "        return True\r\n",
        "    else:\r\n",
        "        return False"
      ],
      "execution_count": 20,
      "outputs": []
    },
    {
      "cell_type": "code",
      "metadata": {
        "id": "q9XlFf34RDEX"
      },
      "source": [
        "def scrub_words(text):\r\n",
        "    text = re.sub('[!@#?&{}()]', '', text)\r\n",
        "    text=re.sub(r'[^\\x00-\\x7F]',\" \",text)\r\n",
        "    return text"
      ],
      "execution_count": 21,
      "outputs": []
    },
    {
      "cell_type": "code",
      "metadata": {
        "id": "hIp3Zs79RFdX"
      },
      "source": [
        "def clean_document (document_string):\r\n",
        "    cleaned_doc = document_string\r\n",
        "    for word in document_string.split():\r\n",
        "      if is_not_credible(word):\r\n",
        "        temp= scrub_words(word)\r\n",
        "        split=wordninja.split(temp)\r\n",
        "        if len(split)>7:\r\n",
        "              cleaned_doc = cleaned_doc.replace(word,'')\r\n",
        "    return cleaned_doc"
      ],
      "execution_count": 22,
      "outputs": []
    },
    {
      "cell_type": "code",
      "metadata": {
        "colab": {
          "base_uri": "https://localhost:8080/"
        },
        "id": "MxEPwEMgRHxT",
        "outputId": "c9604e05-71cd-4cfc-a824-a1dcd5a24dca"
      },
      "source": [
        "subset = []\r\n",
        "counter = 0\r\n",
        "for document in data:\r\n",
        "    subset.append(document)\r\n",
        "    counter += 1\r\n",
        "    if counter == NN:\r\n",
        "        break\r\n",
        "print(len(subset))"
      ],
      "execution_count": 23,
      "outputs": [
        {
          "output_type": "stream",
          "text": [
            "99998\n"
          ],
          "name": "stdout"
        }
      ]
    },
    {
      "cell_type": "code",
      "metadata": {
        "id": "tm9oNY4MRKsv"
      },
      "source": [
        "from datetime import datetime\r\n",
        "def replace_dates(documentString):\r\n",
        "    \r\n",
        "    regEx = '(([0-9]+(/|\\\\.|-)[0-9]+(/|\\\\.|-)[0-9]+)|([0-9]+(/|\\\\.|-)[0-9]+))'\r\n",
        "    iterator = re.finditer(regEx, documentString)\r\n",
        "    listOfDates = [(m.start(0), m.end(0)) for m in iterator]\r\n",
        "    \r\n",
        "    for indices in listOfDates:\r\n",
        "        date = documentString[indices[0]:indices[1]]\r\n",
        "        tmp = date\r\n",
        "        date = date.replace('.', '/')\r\n",
        "        date = date.replace('-', '/')\r\n",
        "        count = date.count('/')\r\n",
        "        newDate = ''\r\n",
        "        if count == 2:\r\n",
        "            try:\r\n",
        "                newDate = datetime.strptime(date, '%m/%d/%Y').strftime('%d %b %Y')\r\n",
        "            except ValueError as ve:\r\n",
        "                newDate = date\r\n",
        "        else:\r\n",
        "            try:\r\n",
        "                newDate = datetime.strptime(date, '%m/%d').strftime('%d %b')\r\n",
        "            except ValueError as ve:\r\n",
        "                newDate = date\r\n",
        "                \r\n",
        "        newDate = newDate.replace(' ', '')\r\n",
        "        documentString = documentString.replace(tmp, newDate)\r\n",
        "        # print(newDate)\r\n",
        "    \r\n",
        "    return documentString"
      ],
      "execution_count": 24,
      "outputs": []
    },
    {
      "cell_type": "code",
      "metadata": {
        "colab": {
          "base_uri": "https://localhost:8080/"
        },
        "id": "a6brfqTNRNEy",
        "outputId": "40606ce0-0dfe-4920-fc4e-64b11c0e47bf"
      },
      "source": [
        "import time\r\n",
        "from tqdm import tqdm\r\n",
        "\r\n",
        "start = time.time()\r\n",
        "\r\n",
        "contents = []\r\n",
        "for document in tqdm(subset):\r\n",
        "    # actually modifying the document\r\n",
        "    document[2] = remove_htmlcodes(document[2])\r\n",
        "    \r\n",
        "    # not actually modifying the document\r\n",
        "    modifiedContent = replace_dates(document[2])\r\n",
        "    modifiedContent = lemma_stop(clean_document(modifiedContent))\r\n",
        "    \r\n",
        "    # case-folding\r\n",
        "    for i in range(len(modifiedContent)):\r\n",
        "        modifiedContent[i] = modifiedContent[i].lower()\r\n",
        "  \r\n",
        "    contents.append(modifiedContent)\r\n",
        "    \r\n",
        "print(time.time() - start)"
      ],
      "execution_count": 25,
      "outputs": [
        {
          "output_type": "stream",
          "text": [
            "100%|██████████| 99998/99998 [05:52<00:00, 283.73it/s]"
          ],
          "name": "stderr"
        },
        {
          "output_type": "stream",
          "text": [
            "352.4477972984314\n"
          ],
          "name": "stdout"
        },
        {
          "output_type": "stream",
          "text": [
            "\n"
          ],
          "name": "stderr"
        }
      ]
    },
    {
      "cell_type": "code",
      "metadata": {
        "colab": {
          "base_uri": "https://localhost:8080/"
        },
        "id": "DSf8JlksUzFg",
        "outputId": "08fca3ad-db7e-4a9e-a16c-16ae77fcc45d"
      },
      "source": [
        "pip install unidecode"
      ],
      "execution_count": 27,
      "outputs": [
        {
          "output_type": "stream",
          "text": [
            "Collecting unidecode\n",
            "\u001b[?25l  Downloading https://files.pythonhosted.org/packages/d0/42/d9edfed04228bacea2d824904cae367ee9efd05e6cce7ceaaedd0b0ad964/Unidecode-1.1.1-py2.py3-none-any.whl (238kB)\n",
            "\r\u001b[K     |█▍                              | 10kB 25.7MB/s eta 0:00:01\r\u001b[K     |██▊                             | 20kB 32.5MB/s eta 0:00:01\r\u001b[K     |████▏                           | 30kB 35.8MB/s eta 0:00:01\r\u001b[K     |█████▌                          | 40kB 30.3MB/s eta 0:00:01\r\u001b[K     |██████▉                         | 51kB 32.7MB/s eta 0:00:01\r\u001b[K     |████████▎                       | 61kB 35.4MB/s eta 0:00:01\r\u001b[K     |█████████▋                      | 71kB 27.9MB/s eta 0:00:01\r\u001b[K     |███████████                     | 81kB 23.4MB/s eta 0:00:01\r\u001b[K     |████████████▍                   | 92kB 25.0MB/s eta 0:00:01\r\u001b[K     |█████████████▊                  | 102kB 23.4MB/s eta 0:00:01\r\u001b[K     |███████████████▏                | 112kB 23.4MB/s eta 0:00:01\r\u001b[K     |████████████████▌               | 122kB 23.4MB/s eta 0:00:01\r\u001b[K     |█████████████████▉              | 133kB 23.4MB/s eta 0:00:01\r\u001b[K     |███████████████████▎            | 143kB 23.4MB/s eta 0:00:01\r\u001b[K     |████████████████████▋           | 153kB 23.4MB/s eta 0:00:01\r\u001b[K     |██████████████████████          | 163kB 23.4MB/s eta 0:00:01\r\u001b[K     |███████████████████████▍        | 174kB 23.4MB/s eta 0:00:01\r\u001b[K     |████████████████████████▊       | 184kB 23.4MB/s eta 0:00:01\r\u001b[K     |██████████████████████████▏     | 194kB 23.4MB/s eta 0:00:01\r\u001b[K     |███████████████████████████▌    | 204kB 23.4MB/s eta 0:00:01\r\u001b[K     |████████████████████████████▉   | 215kB 23.4MB/s eta 0:00:01\r\u001b[K     |██████████████████████████████▎ | 225kB 23.4MB/s eta 0:00:01\r\u001b[K     |███████████████████████████████▋| 235kB 23.4MB/s eta 0:00:01\r\u001b[K     |████████████████████████████████| 245kB 23.4MB/s \n",
            "\u001b[?25hInstalling collected packages: unidecode\n",
            "Successfully installed unidecode-1.1.1\n"
          ],
          "name": "stdout"
        }
      ]
    },
    {
      "cell_type": "code",
      "metadata": {
        "id": "yuLLNRdCRQIq"
      },
      "source": [
        "import unidecode\r\n",
        "contents_temp = contents\r\n",
        "\r\n",
        "\r\n",
        "for i in range(NN):\r\n",
        "    for j in range(len(contents[i])):\r\n",
        "        contents[i][j] = unidecode.unidecode(contents[i][j])"
      ],
      "execution_count": 28,
      "outputs": []
    },
    {
      "cell_type": "markdown",
      "metadata": {
        "id": "sYpW7BJZlMg4"
      },
      "source": [
        "##Trie "
      ]
    },
    {
      "cell_type": "code",
      "metadata": {
        "id": "9nKR8_-sVfWH"
      },
      "source": [
        "class Node:\r\n",
        "    \r\n",
        "    def __init__(self):\r\n",
        "        \r\n",
        "        self.prefixes = 0\r\n",
        "        self.words = 0\r\n",
        "        # self.children = [None for i in range (128)]\r\n",
        "        self.children = {}\r\n",
        "        \r\n",
        "    def add(self, suffix, currentIndex):\r\n",
        "\r\n",
        "        '''Adds suffix[currenIndex : ] to self'''\r\n",
        "\r\n",
        "        if currentIndex == len(suffix):\r\n",
        "            self.words = self.words + 1\r\n",
        "            self.prefixes = self.prefixes + 1\r\n",
        "        \r\n",
        "        else:\r\n",
        "            self.prefixes = self.prefixes + 1\r\n",
        "            firstChar = suffix[currentIndex]\r\n",
        "            # if self.children[ord(firstChar)] == None:\r\n",
        "            #     newNode = Node()\r\n",
        "            #     self.children[ord(firstChar)] = newNode\r\n",
        "            if ord(firstChar) not in self.children:\r\n",
        "                newNode = Node()\r\n",
        "                self.children[ord(firstChar)] = newNode\r\n",
        "            currentIndex += 1\r\n",
        "            self.children[ord(firstChar)].add(suffix, currentIndex)\r\n",
        "                \r\n",
        "    \r\n",
        "    def count_words(self, suffix, currentIndex):\r\n",
        "\r\n",
        "        '''Returns the count of words ending with suffix[currentIndex]'''\r\n",
        "        \r\n",
        "        if currentIndex == len(suffix):\r\n",
        "            return self.words\r\n",
        "        \r\n",
        "        else:\r\n",
        "            firstChar = suffix[currentIndex]\r\n",
        "            # if self.children[ord(firstChar)] == None:\r\n",
        "            #     return 0\r\n",
        "            if ord(firstChar) not in self.children:\r\n",
        "                return 0\r\n",
        "            else:\r\n",
        "                currentIndex += 1\r\n",
        "                return self.children[ord(firstChar)].count_words(suffix, currentIndex)\r\n",
        "            \r\n",
        "    def count_prefixes(self, suffix, currentIndex):\r\n",
        "\r\n",
        "        '''Returns the count of prefixes ending with suffix[currentIndex]'''\r\n",
        "        \r\n",
        "        if currentIndex == len(suffix):\r\n",
        "            return self.prefixes\r\n",
        "        \r\n",
        "        else:\r\n",
        "            firstChar = suffix[currentIndex]\r\n",
        "            # if self.children[ord(firstChar)] == None:\r\n",
        "            #     return 0\r\n",
        "            if ord(firstChar) not in self.children:\r\n",
        "                return 0\r\n",
        "            else:\r\n",
        "                currentIndex += 1\r\n",
        "                return self.children[ord(firstChar)].count_prefixes(suffix, currentIndex)\r\n",
        "            \r\n",
        "class CollectionNode(Node):\r\n",
        "    \r\n",
        "    def __init__(self):\r\n",
        "        super(CollectionNode,self).__init__()\r\n",
        "        self.documents = set()\r\n",
        "        self.titles = set()\r\n",
        "\r\n",
        "    def add_title(self, suffix, currentIndex, docID):\r\n",
        "\r\n",
        "        '''Adds suffix[currenIndex : ] to self and appends docID to self.titles\r\n",
        "        at the end of suffix'''\r\n",
        "\r\n",
        "        if currentIndex == len(suffix):\r\n",
        "            self.words = self.words + 1\r\n",
        "            self.prefixes = self.prefixes + 1\r\n",
        "            self.titles.add(docID)\r\n",
        "\r\n",
        "        else:\r\n",
        "            self.prefixes = self.prefixes + 1\r\n",
        "            firstChar = suffix[currentIndex]\r\n",
        "            # if self.children[ord(firstChar)] == None:\r\n",
        "            #     newNode = CollectionNode()\r\n",
        "            #     self.children[ord(firstChar)] = newNode\r\n",
        "            if ord(firstChar) not in self.children:\r\n",
        "                newNode = CollectionNode()\r\n",
        "                self.children[ord(firstChar)] = newNode\r\n",
        "            currentIndex += 1\r\n",
        "            self.children[ord(firstChar)].add_title(suffix, currentIndex, docID)\r\n",
        "\r\n",
        "        \r\n",
        "    def add_document(self, suffix, currentIndex, docID):\r\n",
        "\r\n",
        "        '''Adds docID to self.documents at the end of suffix'''\r\n",
        "        \r\n",
        "        if currentIndex == len(suffix):\r\n",
        "            self.words = self.words + 1\r\n",
        "            self.prefixes = self.prefixes + 1\r\n",
        "            self.documents.add(docID)\r\n",
        "        \r\n",
        "        else:\r\n",
        "            self.prefixes = self.prefixes + 1\r\n",
        "            firstChar = suffix[currentIndex]\r\n",
        "            # if self.children[ord(firstChar)] == None:\r\n",
        "            #     newNode = CollectionNode()\r\n",
        "            #     self.children[ord(firstChar)] = newNode\r\n",
        "            if ord(firstChar) not in self.children:\r\n",
        "                newNode = CollectionNode()\r\n",
        "                self.children[ord(firstChar)] = newNode\r\n",
        "            currentIndex += 1\r\n",
        "            self.children[ord(firstChar)].add_document(suffix, currentIndex, docID)\r\n",
        "            \r\n",
        "    def get_doc_list(self, suffix, currentIndex):\r\n",
        "\r\n",
        "        '''Returns list of documents containing suffix'''\r\n",
        "        \r\n",
        "        if currentIndex == len(suffix):\r\n",
        "            return self.documents\r\n",
        "        \r\n",
        "        else:\r\n",
        "            firstChar = suffix[currentIndex]\r\n",
        "            # if self.children[ord(firstChar)] == None:\r\n",
        "            #     return []\r\n",
        "            if ord(firstChar) not in self.children:\r\n",
        "                return []\r\n",
        "            else:\r\n",
        "                currentIndex += 1\r\n",
        "                return self.children[ord(firstChar)].get_doc_list(suffix, currentIndex)\r\n",
        "\r\n",
        "    def get_title_list(self, suffix, currentIndex):\r\n",
        "\r\n",
        "        '''Returns list of titles that contain suffix'''\r\n",
        "        \r\n",
        "        if currentIndex == len(suffix):\r\n",
        "            return self.titles\r\n",
        "        \r\n",
        "        else:\r\n",
        "            firstChar = suffix[currentIndex]\r\n",
        "            # if self.children[ord(firstChar)] == None:\r\n",
        "            #     return []\r\n",
        "            if ord(firstChar) not in self.children:\r\n",
        "                return []\r\n",
        "            else:\r\n",
        "                currentIndex += 1\r\n",
        "                return self.children[ord(firstChar)].get_title_list(suffix, currentIndex)"
      ],
      "execution_count": 29,
      "outputs": []
    },
    {
      "cell_type": "markdown",
      "metadata": {
        "id": "t2whedEblfXj"
      },
      "source": [
        "##### Create map from docID of the document to an object of class Node (i.e, the corresponding document trie structure)\r\n",
        "#####ex. if the docID of the document is 1, \r\n",
        "#####getReference[1] gives the object which is the trie structure of docID 1"
      ]
    },
    {
      "cell_type": "code",
      "metadata": {
        "id": "dNVi314_U2hs"
      },
      "source": [
        "import pickle \r\n",
        "\r\n",
        "getReference = {}\r\n",
        "documentRoot = []\r\n",
        "collection = CollectionNode()\r\n",
        "\r\n",
        "for i in range(NN):\r\n",
        "    newDocument = Node()\r\n",
        "    documentRoot.append(newDocument)\r\n",
        "    getReference[get_docID[i]] = newDocument"
      ],
      "execution_count": 30,
      "outputs": []
    },
    {
      "cell_type": "code",
      "metadata": {
        "colab": {
          "base_uri": "https://localhost:8080/"
        },
        "id": "2R_B3HvOVAbT",
        "outputId": "87df9e42-4d16-43fb-fe58-df28fbb2a307"
      },
      "source": [
        "max_tf = {}\r\n",
        "\r\n",
        "import time\r\n",
        "from tqdm import tqdm\r\n",
        "\r\n",
        "start = time.time()\r\n",
        "for i in tqdm(range(NN)):\r\n",
        "    for w in contents_temp[i]:\r\n",
        "        collection.add_document(w, 0, get_docID[i])\r\n",
        "        documentRoot[i].add(w, 0)\r\n",
        "        if get_docID[i] in max_tf:\r\n",
        "            max_tf[get_docID[i]] = max(documentRoot[i].count_words(w, 0), max_tf[get_docID[i]])\r\n",
        "        else:\r\n",
        "            max_tf[get_docID[i]] = documentRoot[i].count_words(w, 0)\r\n",
        "    \r\n",
        "        \r\n",
        "print(time.time() - start)  "
      ],
      "execution_count": 31,
      "outputs": [
        {
          "output_type": "stream",
          "text": [
            "100%|██████████| 99998/99998 [00:54<00:00, 1826.12it/s]"
          ],
          "name": "stderr"
        },
        {
          "output_type": "stream",
          "text": [
            "54.76555824279785\n"
          ],
          "name": "stdout"
        },
        {
          "output_type": "stream",
          "text": [
            "\n"
          ],
          "name": "stderr"
        }
      ]
    },
    {
      "cell_type": "code",
      "metadata": {
        "colab": {
          "base_uri": "https://localhost:8080/"
        },
        "id": "wbQh81D9VwxZ",
        "outputId": "a809c853-9818-4c37-8e9d-31a9e4fb08a5"
      },
      "source": [
        "import math\r\n",
        "import queue\r\n",
        "\r\n",
        "documentLength = {}\r\n",
        "N = len(documentRoot)\r\n",
        "\r\n",
        "\r\n",
        "for i in tqdm(range(len(documentRoot))):\r\n",
        "    \r\n",
        "    docID = get_docID[i]\r\n",
        "    length = 0\r\n",
        "    document = documentRoot[i]\r\n",
        "    q = queue.Queue()\r\n",
        "    q.put([document, ''])\r\n",
        "    \r\n",
        "    while q.qsize() > 0:\r\n",
        "\r\n",
        "        current = q.get()\r\n",
        "        reference = current[0]\r\n",
        "        word = current[1]\r\n",
        "\r\n",
        "        if reference.words > 0:\r\n",
        "            df = len(collection.get_doc_list(word, 0))\r\n",
        "            idf = math.log10(N/df)\r\n",
        "            # print(word, reference.words, df)\r\n",
        "            length += (reference.words * idf) ** 2\r\n",
        "\r\n",
        "        for i in range(256):\r\n",
        "            if reference.children.get(i) is not None:\r\n",
        "                new_word = word + chr(i)\r\n",
        "                q.put([reference.children[i], new_word])\r\n",
        "\r\n",
        "    # print(length**0.5)\r\n",
        "    documentLength[docID] = length**0.5\r\n",
        "    \r\n",
        "    \r\n",
        "    \r\n",
        "pickle_out = open(\"collection.pickle\",\"wb\")\r\n",
        "pickle.dump(collection,pickle_out)\r\n",
        "pickle_out.close()\r\n",
        "pickle_out1 = open(\"documentRoot.pickle\",\"wb\")\r\n",
        "pickle.dump(getReference,pickle_out1)\r\n",
        "pickle_out1.close()\r\n",
        "pickle_out2 = open(\"max_tf.pickle\",\"wb\")\r\n",
        "pickle.dump(max_tf,pickle_out2)\r\n",
        "pickle_out2.close()"
      ],
      "execution_count": 32,
      "outputs": [
        {
          "output_type": "stream",
          "text": [
            "100%|██████████| 99998/99998 [07:19<00:00, 227.54it/s]\n"
          ],
          "name": "stderr"
        }
      ]
    },
    {
      "cell_type": "code",
      "metadata": {
        "colab": {
          "base_uri": "https://localhost:8080/"
        },
        "id": "nE5vS3jaWR6X",
        "outputId": "30a944bc-e946-4a1d-f9fe-de841311b379"
      },
      "source": [
        "import sys\r\n",
        "print(sys.getsizeof(documentRoot))"
      ],
      "execution_count": 33,
      "outputs": [
        {
          "output_type": "stream",
          "text": [
            "824464\n"
          ],
          "name": "stdout"
        }
      ]
    },
    {
      "cell_type": "code",
      "metadata": {
        "colab": {
          "base_uri": "https://localhost:8080/"
        },
        "id": "hZlRwuKSZXtU",
        "outputId": "772b3afe-67e3-4281-fa95-5644acc4c998"
      },
      "source": [
        "query = input()\r\n",
        "final_query = replace_dates(query)\r\n",
        "final_query = lemma_stop(final_query)\r\n",
        "for i in range(len(final_query)):\r\n",
        "    final_query[i] = unidecode.unidecode(final_query[i])\r\n",
        "    \r\n",
        "    # case-folding\r\n",
        "    final_query[i] = final_query[i].lower()\r\n",
        "print(final_query)\r\n",
        "print(len(final_query))"
      ],
      "execution_count": 42,
      "outputs": [
        {
          "output_type": "stream",
          "text": [
            "world cup\n",
            "['world', 'cup']\n",
            "2\n"
          ],
          "name": "stdout"
        }
      ]
    },
    {
      "cell_type": "code",
      "metadata": {
        "id": "PIYskSpWZs0Y"
      },
      "source": [
        "tf_query = {}\r\n",
        "for w in final_query:\r\n",
        "    if w not in tf_query:\r\n",
        "        tf_query[w] = 1\r\n",
        "    else:\r\n",
        "        tf_query[w] += 1\r\n"
      ],
      "execution_count": 43,
      "outputs": []
    },
    {
      "cell_type": "code",
      "metadata": {
        "colab": {
          "base_uri": "https://localhost:8080/"
        },
        "id": "QvW9XCERZ1Pu",
        "outputId": "48aa6f52-9a85-4147-ede4-48e8878a361e"
      },
      "source": [
        "# scores[i] stores the dot product of the tf-idf score vectors of the query and document of docID i in the corpus\r\n",
        "scores = {}\r\n",
        "title_score = {}\r\n",
        "\r\n",
        "# N is the total number of documents in the corpus\r\n",
        "N = len(documentRoot)\r\n",
        "\r\n",
        "# wordsInDoc[i] is a sorted list of (word, score) tuples where\r\n",
        "# score is the tf-idf score for the (word, <ith doc>) pair\r\n",
        "wordsInDoc = {}\r\n",
        "\r\n",
        "factor = {}\r\n",
        "\r\n",
        "import math\r\n",
        "import bisect\r\n",
        "\r\n",
        "for query_term in tf_query:\r\n",
        "    \r\n",
        "    docs_having_query_term = collection.get_doc_list(query_term, 0)\r\n",
        "    print(docs_having_query_term)\r\n",
        "    df = len(docs_having_query_term)\r\n",
        "    idf = 0\r\n",
        "    \r\n",
        "    print('-------------------------------------')\r\n",
        "    print('Term in query = ', query_term)\r\n",
        "    # print('List of documents with this term=', docs_having_query_term)\r\n",
        "    print()\r\n",
        "    \r\n",
        "    if df == 0:\r\n",
        "        idf = 0\r\n",
        "    else:\r\n",
        "        idf = math.log10(N/df)\r\n",
        "        \r\n",
        "    docs_having_query_term_in_title = collection.get_title_list(query_term,0)\r\n",
        "    print(docs_having_query_term_in_title)\r\n",
        "    for docID in docs_having_query_term_in_title:\r\n",
        "        if docID in title_score:\r\n",
        "            title_score[docID] += idf\r\n",
        "        else:\r\n",
        "            title_score[docID] = idf\r\n",
        "        \r\n",
        "    print('df = ',df)\r\n",
        "    print('idf = ',idf)\r\n",
        "    \r\n",
        "    tfidf_query = tf_query[query_term] * idf\r\n",
        "        \r\n",
        "    for docID in docs_having_query_term:\r\n",
        "        # print(docID)\r\n",
        "        tf_doc = getReference[docID].count_words(query_term, 0)\r\n",
        "        tf_doc = 0.5 + 0.5*tf_doc/max_tf[docID]\r\n",
        "        # print('tf for doc',docID,'is',tf_doc)\r\n",
        "        # tfidf_doc_query = tf_doc * idf\r\n",
        "        # tfidf_doc = 1 + math.log10(tf_doc)\r\n",
        "        tfidf_doc = (tf_doc)\r\n",
        "        # tfidf_doc_query = (tf_doc)\r\n",
        "        \r\n",
        "        # print('tfidf for doc',doc,'is',tfidf_doc)\r\n",
        "        # print()\r\n",
        "        \r\n",
        "        if docID not in scores:\r\n",
        "            scores[docID] = (tfidf_query * tfidf_doc)\r\n",
        "            wordsInDoc[docID] = []\r\n",
        "            bisect.insort(wordsInDoc[docID], [-tfidf_query * tfidf_doc, query_term])\r\n",
        "            factor[docID] = idf\r\n",
        "        else:\r\n",
        "            scores[docID] += (tfidf_query * tfidf_doc)\r\n",
        "            bisect.insort(wordsInDoc[docID], [-tfidf_query * tfidf_doc, query_term])\r\n",
        "            factor[docID] += idf\r\n",
        "print(title_score)\r\n",
        "for docID in scores:\r\n",
        "    if documentLength[docID] != 0:\r\n",
        "#         scores[docID] = scores[docID]/ math.sqrt(documentLength[docID])\r\n",
        "        scores[docID] *= factor[docID]\r\n",
        "        if docID in title_score:\r\n",
        "            scores[docID] *= 1 + title_score[docID]\r\n",
        "\r\n",
        "\r\n",
        "sorted_scores = sorted(scores.items(), key = lambda kv : kv[1] , reverse = True)\r\n",
        "\r\n",
        "maxshow = min(10, len(scores))\r\n",
        "\r\n",
        "print('\\n\\n')\r\n",
        "print('============================================')\r\n",
        "\r\n",
        "for i in range(maxshow):\r\n",
        "    # print(i)\r\n",
        "    print()\r\n",
        "    docID = sorted_scores[i][0]\r\n",
        "    print('doc ID = ', docID)\r\n",
        "    cnt = 0\r\n",
        "    print('Keywords:')\r\n",
        "    print()\r\n",
        "    print(subset[get_index[sorted_scores[i][0]]][2])\r\n",
        "    print()\r\n",
        "    # if sorted_scores[i][0] not in title_score:\r\n",
        "    #     print('title score = ',0)\r\n",
        "    # else:\r\n",
        "    #     print('title score = ',title_score[sorted_scores[i][0]])\r\n",
        "    for j in range(len(wordsInDoc[docID])):\r\n",
        "        print(wordsInDoc[docID][j][1], wordsInDoc[docID][j][0], end = ' ')\r\n",
        "        print(getReference[docID].count_words(wordsInDoc[docID][j][1], 0))\r\n",
        "    print()\r\n",
        "    print()\r\n",
        "    count = 0\r\n",
        "    found = 0\r\n",
        "    words_before=queue.Queue()\r\n",
        "    at_start = 1\r\n",
        "    display = \"\"\r\n",
        "    for word in subset[get_index[docID]][2].split():\r\n",
        "            \r\n",
        "        check_with=replace_dates(word)\r\n",
        "        check_with = check_with.lower()\r\n",
        "        if len(lemma_stop(check_with)) > 0:\r\n",
        "            check_with=lemma_stop(check_with)[0]\r\n",
        "        else:\r\n",
        "            check_with=word\r\n",
        "        \r\n",
        "        if check_with == wordsInDoc[docID][0][1]:\r\n",
        "            found=1\r\n",
        "            \r\n",
        "        if found == 1:\r\n",
        "            display = display + word + \" \"\r\n",
        "            count += 1\r\n",
        "            if count == 50:\r\n",
        "                break\r\n",
        "        if found == 0:\r\n",
        "            words_before.put(word)\r\n",
        "            if words_before.qsize()>20:\r\n",
        "                remove=words_before.get()\r\n",
        "                at_start=0\r\n",
        "                \r\n",
        "    if not at_start:\r\n",
        "        print('...', end = ' ')\r\n",
        "    while words_before.qsize() > 0:\r\n",
        "        print(words_before.get(), end = ' ')\r\n",
        "    print(display, end = ' ')\r\n",
        "    print('...', end = ' ')\r\n",
        "    print('\\n')\r\n",
        "    print('tf-idf score=', sorted_scores[i][1])\r\n",
        "    print('\\n')\r\n",
        "    print('============================================')"
      ],
      "execution_count": 44,
      "outputs": [
        {
          "output_type": "stream",
          "text": [
            "{32771, 131075, 32775, 8, 11, 65551, 19, 20, 22, 26, 34, 32802, 32806, 65586, 51, 56, 32824, 32828, 63, 32831, 32832, 32837, 70, 72, 32841, 32843, 32849, 32850, 32851, 32852, 65624, 32861, 65629, 101, 32875, 32877, 110, 32880, 114, 32884, 32887, 120, 65655, 32891, 127, 32898, 131, 32900, 32904, 140, 141, 147, 131219, 149, 151, 153, 158, 159, 65694, 32930, 32931, 131237, 167, 168, 169, 32937, 174, 175, 176, 177, 178, 32945, 65722, 32957, 191, 32961, 32963, 32968, 32970, 65739, 207, 32982, 65752, 217, 32987, 225, 226, 229, 32998, 32999, 33002, 236, 33006, 239, 65774, 242, 243, 255, 33028, 33033, 33036, 269, 33043, 33050, 65821, 33054, 288, 291, 292, 294, 33063, 33064, 302, 303, 33070, 305, 33078, 33079, 321, 33090, 323, 33091, 65864, 33103, 336, 33105, 339, 33114, 347, 33115, 131420, 33119, 353, 33121, 356, 33125, 33126, 370, 33146, 33150, 33158, 33159, 394, 395, 33167, 65942, 33180, 33182, 415, 417, 418, 33188, 33196, 431, 33204, 439, 33214, 33217, 33220, 454, 455, 456, 33232, 33234, 33237, 33238, 472, 33249, 33250, 131557, 33255, 488, 489, 33263, 33264, 33266, 33275, 33277, 513, 131588, 517, 519, 33288, 33299, 66071, 542, 66080, 33313, 131618, 547, 33317, 33319, 555, 33344, 583, 588, 33357, 591, 596, 33376, 66147, 612, 613, 623, 624, 131707, 641, 661, 673, 676, 679, 685, 692, 693, 695, 66231, 66237, 131774, 712, 715, 33492, 66262, 730, 746, 33514, 752, 753, 754, 764, 775, 782, 786, 793, 794, 66329, 66331, 66335, 131871, 801, 802, 66345, 815, 818, 819, 131891, 824, 827, 828, 829, 830, 832, 833, 835, 842, 131914, 850, 852, 853, 859, 868, 878, 879, 884, 33659, 892, 894, 896, 905, 910, 916, 918, 919, 922, 131998, 935, 940, 132012, 943, 947, 66487, 962, 964, 971, 974, 979, 983, 33757, 999, 33767, 1005, 1008, 33780, 1015, 33785, 1019, 1037, 1039, 1042, 1046, 1047, 1056, 1062, 132143, 1076, 1077, 1079, 1086, 1090, 1093, 1104, 1110, 1115, 1119, 1120, 1125, 132204, 33903, 1138, 1139, 1145, 1153, 33922, 1157, 1161, 132233, 1166, 1167, 1172, 1173, 1177, 1179, 1181, 1186, 1187, 33954, 1189, 1191, 1198, 1211, 1217, 132289, 1223, 1229, 1244, 1245, 1254, 132327, 1257, 1276, 1279, 1282, 1283, 1292, 1298, 1300, 1304, 1309, 1310, 1312, 1316, 1320, 66876, 1342, 1351, 1353, 1354, 1359, 1369, 1378, 1387, 1396, 66933, 1404, 1405, 1406, 1408, 1412, 66949, 1420, 1427, 1441, 1453, 1457, 1458, 1471, 1476, 1478, 1487, 1492, 1514, 1515, 1550, 1554, 1555, 1557, 34328, 1564, 1567, 1574, 1576, 1578, 1585, 1586, 1593, 34362, 1595, 1596, 34372, 1608, 1616, 67152, 1620, 1626, 1635, 34409, 1644, 1647, 1654, 1659, 1668, 132751, 1681, 1685, 34455, 67227, 1701, 1704, 1708, 1717, 67258, 1741, 1743, 1745, 1749, 34519, 1757, 1759, 1761, 1768, 1771, 1782, 1785, 1792, 1794, 1795, 1800, 1803, 1807, 1809, 1816, 1818, 1820, 1823, 67364, 1835, 1837, 1849, 1856, 1861, 1862, 1863, 1867, 1873, 1877, 1884, 67424, 1891, 1892, 1899, 1902, 1908, 1909, 1914, 1916, 1936, 1940, 1943, 1944, 1954, 1955, 34726, 133031, 67497, 1962, 1973, 1979, 1988, 1990, 1993, 1994, 1996, 1997, 133076, 2005, 2012, 2018, 2019, 2031, 2032, 67568, 67575, 2043, 2044, 133118, 133139, 2070, 2073, 2078, 2082, 2097, 34869, 2108, 34877, 2114, 2116, 2118, 2122, 34890, 2130, 2137, 2142, 2146, 2149, 2151, 2152, 2153, 2159, 34933, 34940, 2180, 2182, 2184, 2185, 67723, 2188, 34958, 2196, 133278, 67752, 2229, 133301, 2236, 2239, 2241, 2246, 2248, 2250, 67786, 2264, 133342, 2272, 2289, 2293, 2297, 2314, 133397, 2326, 2329, 2330, 2349, 2353, 2363, 67899, 2372, 2376, 2378, 2384, 2392, 2395, 2396, 2400, 133486, 2417, 2426, 2435, 2437, 2441, 67978, 2458, 2476, 2478, 2482, 2485, 2493, 2498, 2511, 2516, 2520, 2531, 2536, 2541, 2542, 2546, 2549, 2554, 2566, 2574, 2586, 133660, 2594, 2597, 68136, 35372, 35376, 133682, 2612, 2624, 2627, 2628, 2631, 2638, 2643, 68182, 2648, 2666, 2670, 2678, 35447, 133751, 2681, 2682, 2689, 2691, 2693, 2694, 2699, 2708, 2722, 35497, 2731, 2732, 2735, 2750, 2754, 2759, 2764, 2778, 2782, 2790, 2808, 2809, 2813, 2814, 2823, 133896, 2832, 2834, 2837, 35606, 2840, 133914, 2852, 2855, 2859, 133933, 2862, 2873, 68416, 2888, 2898, 133980, 2914, 2916, 2938, 2960, 2961, 68499, 2969, 134044, 2978, 2981, 2986, 2988, 2991, 3010, 3012, 3015, 3019, 3023, 3025, 3035, 3041, 3048, 3064, 35834, 3069, 35848, 3083, 3093, 3102, 3103, 3104, 3108, 3118, 3120, 3121, 3134, 3141, 3156, 3159, 3163, 68704, 3170, 3171, 3177, 3186, 3197, 3200, 3202, 3204, 3214, 3217, 3218, 3231, 3238, 3240, 3244, 3247, 3260, 3263, 3269, 3274, 3279, 3283, 3287, 3290, 3301, 3307, 36077, 3324, 3326, 3328, 3331, 3334, 3338, 3342, 3343, 134421, 3358, 3360, 3362, 3363, 3367, 68904, 3372, 3377, 3380, 3386, 3388, 3389, 3399, 3410, 3411, 3416, 3421, 68961, 3433, 3438, 3440, 3441, 3442, 3443, 3451, 3452, 3453, 3454, 3460, 3470, 3475, 3476, 3480, 3485, 3486, 69026, 3494, 3502, 3505, 3507, 3512, 3516, 3518, 3525, 3532, 3536, 3537, 36307, 3542, 3546, 36315, 3551, 3554, 3556, 3568, 3569, 3574, 3589, 3599, 3601, 3604, 3606, 3647, 3648, 3651, 3660, 3664, 3671, 3672, 3679, 3684, 3688, 69226, 3705, 3707, 3708, 3722, 3739, 3743, 3745, 3746, 3759, 3763, 3765, 36534, 3774, 3775, 3779, 3783, 3786, 69328, 3793, 3799, 3802, 3811, 3814, 134886, 3821, 3826, 3833, 3834, 3838, 36608, 3841, 3843, 3868, 3871, 69409, 3875, 3876, 69411, 69412, 3880, 3883, 3884, 3887, 3898, 3901, 3911, 3912, 3919, 3922, 3923, 3926, 3928, 3929, 3948, 3949, 3955, 3974, 3976, 3978, 3980, 3982, 3993, 4002, 4006, 36774, 4011, 4016, 135092, 4030, 4033, 4036, 4037, 4043, 4052, 4057, 4065, 4067, 4068, 4072, 4074, 4077, 4078, 4080, 4081, 4082, 135155, 36856, 4089, 36857, 4100, 4105, 4112, 4114, 4134, 4143, 36919, 4155, 4168, 4169, 4175, 4179, 4182, 135258, 36956, 4190, 4193, 4196, 4203, 4212, 4214, 4218, 4219, 4220, 4224, 4232, 4235, 4236, 4237, 4244, 135317, 4248, 135333, 4262, 4263, 4270, 4271, 4281, 4282, 4283, 4291, 4293, 4294, 4311, 4327, 4332, 69869, 37113, 4347, 4348, 37116, 69887, 4358, 37138, 4379, 4381, 4387, 4389, 4398, 4405, 4407, 4409, 69950, 4415, 37183, 69952, 4418, 4420, 4422, 4430, 4441, 69982, 4449, 4451, 4453, 37228, 4463, 4473, 4476, 4478, 4480, 4482, 4485, 4489, 4493, 4495, 4497, 4505, 135584, 4524, 4528, 4532, 4534, 4535, 4541, 4545, 4546, 4550, 4552, 4563, 70104, 4582, 4585, 4586, 4589, 4591, 37364, 37376, 4613, 37381, 4617, 70155, 4629, 4640, 4641, 4658, 4662, 135735, 4668, 4669, 4676, 4678, 4679, 4692, 4694, 4699, 4700, 4713, 4715, 4721, 4722, 70264, 37500, 4743, 4745, 4746, 4750, 4751, 135831, 4763, 4768, 37552, 4798, 4802, 4807, 4810, 4812, 4820, 4823, 4835, 4837, 4839, 135913, 37610, 4846, 4848, 37623, 4856, 4869, 4872, 4876, 4887, 4891, 4894, 4895, 4896, 4904, 4907, 4910, 4912, 4913, 4914, 4916, 4923, 4924, 4926, 37708, 4941, 4946, 4955, 4962, 4964, 4977, 4979, 4981, 4983, 4987, 4993, 5004, 5006, 5007, 5014, 5019, 5028, 5031, 5034, 5036, 5037, 5038, 5040, 5041, 5046, 5052, 5055, 5063, 5075, 5077, 70615, 5086, 5089, 5100, 5101, 5108, 5124, 5125, 5126, 37894, 5148, 5157, 37931, 5165, 5170, 5178, 5180, 5210, 5227, 5235, 5236, 5237, 5240, 5246, 5247, 5253, 38040, 5280, 5281, 5286, 5290, 5291, 5304, 5305, 5307, 5308, 5314, 5318, 5321, 70864, 5334, 5340, 5342, 5355, 5356, 5368, 5374, 38145, 5384, 5393, 5395, 38169, 5407, 5413, 70950, 5415, 5422, 38196, 5430, 5434, 5435, 5437, 5441, 5445, 5448, 38222, 5459, 5467, 5468, 5473, 5474, 5489, 5490, 5491, 136570, 5502, 136582, 136587, 5516, 5525, 5527, 5528, 5531, 5535, 38305, 5543, 71082, 5553, 136626, 5556, 5558, 5561, 5563, 136644, 5576, 5584, 5589, 5609, 5614, 136686, 5617, 5623, 5630, 5632, 5634, 5641, 5652, 5668, 5676, 5679, 5683, 5688, 5691, 5700, 5706, 5712, 5724, 136797, 5726, 38494, 5735, 5738, 5742, 5750, 5753, 5757, 5763, 5767, 5786, 136860, 5789, 5790, 5796, 5797, 5800, 5812, 5816, 5822, 5824, 5829, 5835, 5849, 38618, 5852, 5853, 5857, 5870, 5871, 5873, 5874, 5875, 5878, 5881, 5886, 71423, 5889, 5890, 5897, 5901, 5905, 136980, 5909, 71446, 5912, 71448, 5921, 5938, 5951, 5953, 137046, 5983, 137056, 5985, 5996, 38774, 137081, 6012, 71566, 6039, 6042, 6043, 71580, 6049, 6053, 6064, 6071, 71612, 6080, 6081, 71617, 6086, 6098, 71645, 6110, 71656, 6124, 6129, 6133, 6134, 6136, 6138, 71674, 6159, 6161, 6169, 6172, 6181, 137260, 6207, 38980, 6225, 6230, 6231, 6237, 6244, 6248, 6251, 6261, 6262, 6271, 6272, 6273, 6282, 71820, 6286, 6292, 71830, 6297, 6298, 6313, 6314, 71851, 6316, 39084, 6318, 6324, 71874, 6343, 6346, 6354, 6365, 71901, 6370, 6375, 39147, 6384, 137457, 6389, 6390, 39160, 6393, 6400, 39176, 6410, 6418, 71963, 6432, 71970, 6437, 39205, 6441, 6443, 39215, 6449, 6451, 6455, 71991, 6459, 137532, 6465, 6468, 137549, 6488, 6490, 6491, 72029, 6496, 6498, 72034, 6508, 6509, 39278, 72049, 39283, 6526, 39297, 6538, 6540, 6542, 6545, 6555, 6557, 6562, 6563, 6566, 6569, 6578, 72119, 6585, 6589, 6592, 6593, 6601, 6615, 6634, 6638, 6640, 6642, 6653, 137726, 6655, 6656, 6659, 72197, 6662, 137737, 6666, 6667, 72231, 6696, 6719, 39496, 6729, 6736, 6739, 6750, 6756, 39530, 72304, 6775, 6776, 6780, 6781, 137859, 6791, 39563, 6798, 6804, 6812, 6814, 6819, 6820, 6829, 6832, 72369, 6845, 72386, 6868, 6875, 6878, 72416, 6881, 39649, 6887, 6889, 6891, 72427, 6898, 6899, 6902, 6915, 6932, 6935, 6940, 39708, 6945, 6951, 6952, 6964, 6967, 6968, 6970, 6971, 6972, 6973, 39741, 6985, 6990, 7001, 7002, 72542, 7010, 7015, 39783, 7023, 7031, 7039, 7040, 7042, 7043, 39815, 7050, 7053, 7061, 7072, 7081, 7084, 7085, 7094, 7100, 7101, 39868, 7112, 7113, 138189, 7118, 7120, 7126, 7127, 7131, 7134, 7135, 39905, 7138, 7145, 72683, 72686, 39921, 7169, 7170, 7171, 7174, 7178, 72714, 7180, 7187, 7204, 7207, 72745, 7210, 7212, 7226, 7229, 39999, 7233, 7237, 40005, 7246, 7251, 7258, 7265, 7267, 7275, 7276, 7278, 40060, 7296, 7300, 7308, 7317, 7318, 40101, 7338, 7354, 7355, 7359, 7360, 7365, 40136, 7371, 7385, 7386, 7410, 7412, 7420, 7423, 7426, 7433, 7436, 7439, 7440, 7443, 7447, 7454, 7460, 40231, 7466, 7471, 7475, 7476, 7490, 7499, 7503, 7509, 7514, 7516, 7519, 7525, 7532, 7533, 7536, 7537, 40312, 7554, 7578, 7586, 7595, 7605, 7609, 7612, 7615, 7620, 7622, 7626, 40397, 138705, 7635, 7647, 7659, 7663, 7673, 7679, 138752, 7682, 7691, 7695, 7697, 7699, 7702, 7712, 7715, 7722, 7724, 138796, 7730, 7731, 7732, 7741, 138815, 40516, 138821, 7750, 7758, 7761, 7773, 7781, 7784, 7785, 7796, 7797, 7798, 40570, 7807, 7808, 7809, 7811, 7813, 7816, 40586, 7831, 7834, 7836, 7844, 7848, 7853, 7854, 7855, 7859, 7870, 7871, 7874, 7881, 7888, 73433, 7901, 7919, 73462, 7930, 7935, 7949, 73486, 73495, 7962, 7963, 40734, 7969, 7973, 40741, 7977, 40747, 40760, 7995, 8005, 8007, 8013, 8014, 8017, 8019, 8029, 73565, 8031, 8032, 8035, 8038, 8039, 8046, 8052, 8053, 8056, 139131, 8060, 8072, 8080, 8084, 8087, 8088, 8090, 8093, 8097, 8114, 8125, 8127, 8139, 8143, 8148, 8149, 8151, 40919, 73688, 8156, 8171, 8179, 8181, 73729, 8201, 40971, 8208, 8210, 8215, 139288, 40993, 8230, 8235, 8239, 8244, 8257, 8264, 8269, 8271, 73818, 8288, 8293, 8294, 8300, 8305, 8310, 8333, 8334, 8337, 8340, 8341, 8350, 8352, 8354, 73900, 8365, 8366, 8369, 8374, 8375, 8376, 8382, 8383, 8386, 8403, 8404, 8417, 8419, 8420, 8422, 8423, 8425, 8431, 8434, 8435, 8437, 8442, 139520, 8455, 8456, 8457, 8459, 139533, 8464, 8465, 8467, 8472, 8480, 8482, 8485, 8488, 41260, 8493, 8494, 8502, 8507, 8509, 8510, 8517, 8518, 8520, 8529, 8530, 8531, 8538, 8539, 8540, 8543, 41329, 8564, 8571, 8599, 8600, 8602, 8610, 8613, 74153, 8627, 8638, 8639, 8641, 8644, 74183, 8648, 41429, 8678, 8679, 8680, 8683, 8686, 8688, 8699, 8718, 8720, 8728, 8733, 8738, 8740, 8742, 8749, 8751, 8753, 8754, 8755, 41521, 8759, 8766, 8770, 74310, 8780, 74316, 8785, 8801, 8803, 8808, 8810, 8813, 8814, 41583, 8816, 8817, 8818, 8831, 41603, 8840, 74381, 8848, 8849, 139931, 8870, 8873, 8876, 8877, 8878, 8880, 139964, 8893, 8894, 8899, 41671, 8905, 8908, 74452, 8923, 8925, 8928, 140005, 8940, 8942, 8946, 8956, 8958, 8963, 41733, 8966, 41743, 8981, 8990, 8992, 8993, 74531, 8997, 9004, 9005, 9014, 9020, 140097, 9027, 9029, 9030, 74570, 9039, 9047, 74583, 9062, 9077, 9079, 9088, 74624, 140162, 9093, 9101, 9102, 9108, 9119, 41897, 9132, 9133, 9136, 140210, 9147, 9148, 9152, 41921, 9159, 9162, 9164, 9169, 9170, 9172, 9173, 9179, 9187, 9188, 9189, 9192, 9200, 9201, 9204, 41978, 9212, 41983, 9216, 9220, 140300, 9242, 9249, 9250, 9256, 9261, 9262, 9264, 9268, 9269, 9272, 9281, 9287, 9289, 9294, 140368, 9301, 9317, 9328, 9329, 9342, 9358, 9382, 9390, 9394, 9395, 9410, 140484, 140485, 9419, 9421, 140498, 9446, 9451, 74989, 9463, 9468, 140542, 9476, 42249, 9489, 42263, 9502, 9510, 9517, 140589, 9519, 75060, 9530, 9536, 9542, 9543, 9547, 9549, 9550, 75089, 75090, 9557, 9560, 9563, 9573, 9578, 75115, 140655, 9584, 9588, 9589, 9591, 9594, 75133, 9598, 9601, 9603, 9621, 9630, 9634, 9635, 9639, 9660, 9661, 42433, 9671, 9681, 9682, 140758, 9687, 140761, 9699, 9700, 9703, 9704, 9706, 42475, 9716, 9721, 9723, 75260, 9736, 9737, 9738, 140809, 140811, 9743, 9752, 9755, 9757, 140830, 140831, 9760, 9762, 9763, 9764, 9771, 140848, 9780, 9817, 9825, 9826, 9829, 9839, 42609, 9843, 140925, 42622, 9861, 9866, 75409, 9875, 9883, 9885, 9886, 9887, 9890, 9896, 9897, 9899, 9904, 9911, 9921, 9922, 9923, 9926, 9928, 9935, 9938, 141012, 9941, 9944, 141028, 9960, 9964, 141036, 9972, 9975, 42745, 9982, 9983, 9987, 9988, 10009, 10012, 10013, 141086, 10015, 10017, 10021, 42791, 10031, 42804, 10038, 10042, 10049, 10051, 42825, 42828, 10073, 10085, 10090, 10091, 10093, 10100, 10102, 75641, 10114, 141186, 10117, 10121, 10124, 141202, 10146, 10151, 42921, 10161, 10162, 10165, 10166, 141241, 10173, 10175, 10180, 10190, 10193, 10198, 75738, 10203, 141276, 75741, 10224, 10226, 10235, 10243, 10248, 10257, 141330, 10270, 10272, 141345, 43044, 10290, 43064, 10298, 10312, 43085, 10319, 10320, 10323, 10324, 10327, 10328, 10331, 75868, 10333, 43105, 10341, 10342, 10345, 10347, 10348, 43115, 10353, 10355, 10356, 10358, 10363, 10366, 10370, 10374, 10390, 10398, 75937, 43172, 10410, 10415, 10416, 10421, 10424, 10426, 10429, 10435, 141514, 10453, 10455, 10457, 43226, 10460, 10469, 141542, 10472, 10475, 141554, 43251, 10484, 10499, 10505, 10511, 10532, 141605, 10539, 10550, 10551, 10562, 141635, 10570, 10572, 10579, 10580, 10583, 10594, 76130, 10596, 10614, 10615, 141702, 10649, 141723, 10654, 10657, 10663, 10676, 10687, 10689, 10690, 10691, 10697, 10702, 10705, 43478, 10712, 10718, 10722, 43492, 10727, 10735, 10742, 10747, 10749, 10750, 141827, 10757, 10759, 10762, 141842, 10775, 10776, 10779, 10783, 10785, 10789, 10790, 10792, 10796, 10801, 10804, 10810, 10814, 10815, 10824, 43593, 43596, 10830, 10838, 10839, 10849, 10850, 10852, 10853, 141928, 43629, 10866, 10867, 10871, 10872, 10882, 10887, 10888, 10894, 10900, 10907, 10914, 10916, 10924, 10927, 10929, 10933, 10934, 10935, 10943, 10946, 10953, 10956, 10957, 142031, 10962, 10971, 10976, 76526, 43760, 10994, 43762, 10997, 43766, 11000, 11001, 11004, 11007, 11015, 11019, 11020, 11025, 43812, 76586, 11051, 43819, 11058, 11065, 76606, 11072, 11073, 11079, 11085, 11098, 11106, 11107, 11111, 11119, 11120, 11123, 11127, 11133, 11135, 11137, 76673, 11141, 11145, 11147, 11152, 11155, 11160, 11161, 11162, 11174, 11177, 11180, 11183, 11184, 11186, 11188, 142265, 11205, 142278, 11207, 11210, 11212, 76750, 11216, 11217, 11228, 11229, 142300, 11232, 11234, 142329, 11259, 11261, 11264, 11265, 11266, 142341, 11273, 11288, 11312, 11319, 11320, 11325, 11327, 11331, 11333, 44101, 11337, 11349, 11350, 11357, 11364, 11378, 11380, 11385, 11387, 11390, 11397, 11401, 11414, 11424, 44194, 76962, 11434, 11439, 11443, 76993, 11464, 11475, 11492, 11494, 11495, 11503, 11507, 11514, 11522, 11524, 11534, 77072, 11549, 11554, 11559, 11571, 11572, 11578, 11580, 11584, 11589, 11593, 11596, 11609, 11613, 11620, 11631, 11645, 77186, 11653, 11667, 11677, 11679, 11690, 77229, 11695, 77238, 11703, 142779, 11713, 11714, 11715, 11723, 11727, 11728, 77264, 11734, 11744, 11747, 142820, 142824, 142831, 44536, 11772, 11776, 44552, 11790, 11793, 142908, 11838, 142910, 11840, 11845, 11866, 11869, 11870, 11876, 142951, 11883, 11890, 11891, 11892, 11899, 11903, 11920, 11923, 11925, 11928, 143010, 77477, 77481, 11952, 11953, 11965, 11968, 11971, 44739, 11977, 11982, 143062, 11994, 12001, 12004, 12005, 12007, 12024, 12027, 12029, 12032, 12034, 12043, 12047, 12055, 12071, 12085, 12086, 44870, 44878, 12114, 12124, 143201, 12140, 12147, 12151, 12156, 12160, 12164, 12177, 12186, 12187, 12191, 12195, 12198, 12200, 12205, 12217, 12230, 12235, 143314, 45017, 12252, 12271, 12280, 45051, 12284, 12297, 12300, 12303, 12309, 143382, 12313, 12319, 12324, 12328, 12330, 12331, 45104, 12351, 12364, 12379, 12382, 12383, 12386, 12395, 143467, 143478, 12407, 12420, 12425, 12433, 12434, 12435, 12441, 12444, 12450, 12462, 12465, 12470, 12477, 12498, 12509, 12544, 12545, 12551, 12553, 12554, 12555, 12556, 12559, 12560, 12561, 12569, 12572, 12577, 12578, 12581, 12584, 12596, 12598, 12601, 12602, 12603, 12607, 12610, 45380, 12620, 12622, 12630, 12632, 12648, 12654, 12655, 12663, 12666, 12667, 143738, 12681, 12685, 12689, 12690, 12696, 12699, 12713, 12716, 12719, 143791, 12727, 45503, 12736, 12740, 143828, 12758, 12765, 12769, 12778, 12782, 12786, 12790, 12791, 12795, 12799, 143886, 12816, 12832, 12833, 12848, 12849, 12855, 143932, 12866, 12881, 12882, 12883, 12889, 45666, 12900, 12901, 12912, 12913, 45687, 12924, 12925, 12927, 12935, 12941, 12944, 144016, 12950, 12953, 12957, 12960, 12963, 12967, 12970, 12971, 12972, 12978, 12984, 144061, 45759, 45760, 12994, 12997, 12999, 13001, 13002, 13008, 13010, 13011, 144084, 13013, 13016, 13018, 13023, 13028, 13033, 13034, 13046, 13052, 13060, 13063, 13066, 13068, 13074, 13081, 13082, 13084, 144160, 13092, 13093, 13097, 13109, 13116, 45884, 13118, 13126, 13127, 13128, 13130, 13135, 13136, 13138, 13139, 13150, 13155, 13162, 13165, 144249, 13184, 13187, 13190, 45959, 13198, 13200, 13202, 13204, 13206, 13210, 13212, 13216, 13221, 13223, 13228, 13229, 46007, 13240, 13242, 144318, 13247, 13249, 46039, 13275, 13281, 13285, 13287, 13294, 13297, 13300, 46068, 13311, 13315, 13317, 13320, 13323, 13345, 13349, 13351, 13360, 13365, 13366, 13367, 144440, 46138, 13373, 13381, 13383, 13402, 13421, 13424, 144498, 144500, 13431, 144505, 13446, 13449, 13454, 46235, 13472, 13483, 13488, 13490, 13495, 13500, 13510, 13519, 13528, 13536, 13537, 13543, 13548, 13556, 13561, 46336, 13572, 13575, 13576, 13577, 13578, 13579, 13587, 13592, 13601, 13602, 144673, 13607, 13613, 13621, 13623, 13657, 46433, 13671, 144747, 13676, 13681, 13687, 13696, 13713, 13724, 144805, 13738, 13740, 13741, 13745, 13752, 13753, 13754, 13755, 13758, 13762, 13777, 13784, 13785, 144857, 13788, 13795, 13797, 13811, 13814, 13819, 13821, 13824, 13837, 13839, 13842, 13844, 13850, 13852, 144926, 13857, 46625, 13860, 13863, 13865, 13867, 13872, 13877, 13880, 13888, 144961, 13894, 46669, 13908, 13922, 13951, 13961, 13971, 145051, 145052, 13982, 13984, 13995, 46766, 14004, 14009, 14018, 14029, 14038, 145117, 14059, 14061, 14063, 46839, 14080, 14081, 14088, 145162, 14091, 14097, 145171, 14106, 14116, 14124, 14127, 14133, 46901, 14142, 46913, 14153, 14154, 14161, 14163, 14171, 14178, 46948, 14195, 14196, 14198, 14203, 14206, 14211, 145284, 14215, 14221, 14222, 145293, 14225, 14227, 14230, 14253, 14254, 14267, 145340, 14269, 14271, 145345, 14288, 14290, 14299, 14314, 14316, 14317, 47084, 14319, 145400, 14329, 14330, 145402, 14340, 14341, 47109, 14356, 14362, 145435, 14365, 14394, 14395, 145468, 14397, 14402, 14409, 14415, 14417, 14418, 14422, 14425, 14428, 145508, 145510, 145514, 14443, 145515, 14448, 145521, 14450, 14457, 14468, 14471, 14472, 14473, 14480, 14486, 14487, 14496, 14499, 14500, 14501, 14502, 14516, 14521, 14525, 14538, 14539, 14551, 14567, 14572, 14577, 14584, 14588, 14591, 14593, 14600, 14601, 14603, 14614, 14619, 14620, 14632, 14640, 14647, 14654, 14660, 14675, 14679, 14690, 14700, 14701, 14702, 14704, 14706, 14725, 14730, 14734, 14736, 14740, 14747, 14748, 14752, 14753, 14754, 14759, 14763, 14782, 14783, 14785, 14786, 47558, 14797, 14801, 14805, 14808, 14810, 145882, 145892, 14832, 14846, 14847, 14855, 14862, 14866, 14874, 14880, 14887, 14888, 14889, 14900, 14901, 47686, 14929, 14933, 14946, 14957, 14959, 146038, 14969, 14971, 146044, 14976, 14982, 47751, 14992, 14996, 14998, 15001, 15004, 146076, 47774, 47775, 15016, 15018, 15020, 15037, 15043, 15044, 15047, 15053, 15054, 15060, 15062, 15063, 15067, 15069, 47839, 15072, 146146, 15075, 15077, 15079, 15089, 15090, 15091, 146166, 15100, 15114, 146190, 15123, 15124, 47894, 15134, 146213, 15152, 15153, 15160, 15161, 15164, 15175, 15176, 15186, 15190, 47958, 15192, 15194, 47964, 15200, 15204, 15205, 15210, 15212, 15216, 47989, 47990, 15227, 15235, 15236, 15252, 15259, 15260, 15264, 15265, 48039, 15272, 15290, 146363, 146368, 15302, 15308, 15310, 15324, 15329, 15334, 15347, 15356, 15357, 15394, 15397, 48165, 15411, 15413, 15417, 15427, 15430, 15434, 15442, 15447, 15453, 15455, 15457, 15462, 146541, 15470, 15478, 15484, 15491, 15492, 146572, 15503, 15516, 15517, 146589, 15520, 146611, 15554, 15563, 15565, 15571, 15573, 146647, 15581, 15615, 48383, 15622, 15632, 15634, 15637, 15644, 146727, 15668, 15671, 15675, 146748, 15677, 15679, 15684, 15694, 15698, 15701, 15708, 48484, 15717, 15737, 15738, 15740, 15749, 15751, 15756, 15760, 146835, 15765, 15789, 15798, 15800, 15801, 15815, 15819, 15820, 15825, 15827, 15829, 15833, 15835, 15840, 15848, 15857, 15858, 15861, 15866, 15872, 15875, 15878, 15882, 15891, 15893, 15900, 15901, 15911, 15922, 15924, 15931, 15939, 15947, 15948, 15949, 15956, 15958, 15961, 15962, 15965, 15976, 15979, 15984, 15986, 147066, 15995, 15998, 16014, 16025, 16026, 16035, 16043, 16045, 48820, 16060, 16065, 16066, 16068, 16069, 147145, 16079, 16088, 16090, 16095, 16098, 16099, 16102, 16105, 16109, 147182, 16114, 16118, 16121, 16129, 16136, 16140, 16142, 16145, 16147, 16153, 16155, 16161, 16163, 16165, 16166, 48934, 147256, 16186, 16189, 16191, 16198, 16200, 16210, 16211, 16225, 16228, 16235, 16238, 16240, 16243, 147318, 16248, 16250, 16251, 49023, 16258, 16270, 16273, 16275, 16280, 147360, 16290, 16291, 16296, 16303, 16305, 16311, 16319, 16320, 16324, 16326, 147407, 16344, 16347, 16359, 16361, 16366, 16368, 16372, 16375, 16396, 49165, 16404, 16409, 49177, 16412, 16413, 16425, 16426, 147503, 16433, 16438, 49209, 16442, 16447, 16458, 16483, 49267, 16501, 16502, 16521, 49290, 16529, 16533, 16538, 16542, 16544, 147618, 16553, 16568, 16570, 16571, 16593, 16595, 147668, 16608, 16620, 16622, 49390, 147696, 16629, 16643, 16647, 16657, 49426, 16674, 16675, 16676, 147751, 16684, 49462, 147772, 16701, 16706, 16712, 16717, 16721, 16729, 16730, 16731, 16732, 16740, 147812, 16742, 16743, 16748, 16751, 16753, 16755, 49527, 16764, 16770, 16773, 16781, 16788, 16792, 49564, 16798, 16807, 16810, 16815, 16816, 16818, 16840, 16844, 16846, 16851, 16866, 16872, 147951, 16892, 16894, 16898, 147979, 16911, 16916, 16918, 16920, 16930, 16931, 16937, 16942, 16944, 49727, 16960, 16968, 16969, 16974, 16978, 16985, 17016, 17022, 17036, 17046, 17050, 17054, 17055, 17059, 148131, 17066, 17070, 148156, 17086, 17091, 17094, 17098, 17103, 17107, 17115, 17122, 17123, 17126, 17129, 17130, 17133, 17137, 17144, 17146, 17148, 17154, 17155, 17173, 17183, 17184, 17186, 17188, 17190, 49958, 17197, 17198, 17204, 17206, 17207, 17209, 17215, 17219, 17227, 17232, 17238, 17240, 17254, 17261, 50032, 17272, 148356, 17287, 17296, 17301, 17305, 17314, 17323, 17328, 17332, 17333, 17338, 17344, 17348, 17350, 17362, 17363, 17364, 17365, 17366, 17368, 17369, 17371, 17389, 17400, 17402, 17406, 17412, 17415, 148494, 148497, 148504, 17433, 148514, 148523, 17452, 17455, 17460, 17463, 17466, 17469, 17470, 17477, 17479, 17491, 17494, 17498, 17506, 50275, 17513, 17521, 17523, 17528, 17538, 17545, 17546, 17548, 17550, 17553, 17554, 17569, 17570, 17576, 17583, 17603, 17608, 148683, 148687, 17619, 17627, 17633, 17635, 17636, 17646, 17647, 17648, 17649, 17650, 17660, 17662, 148738, 17667, 17670, 17671, 17673, 17686, 17691, 17694, 17695, 17696, 17722, 17723, 17728, 17730, 17734, 17741, 17746, 17748, 17749, 17750, 17761, 17765, 17768, 148848, 17790, 17794, 17798, 17799, 17802, 17815, 17835, 17839, 17841, 17844, 17856, 17878, 17887, 17891, 17897, 17902, 17904, 17915, 17919, 17933, 149009, 17939, 17945, 17964, 17966, 17970, 17976, 17978, 17979, 17982, 18000, 18004, 18005, 18007, 149079, 18014, 18016, 18017, 18021, 18027, 18030, 18038, 18039, 18044, 18051, 18061, 18064, 18071, 18076, 18093, 18104, 18106, 18110, 149188, 50885, 18120, 18126, 18127, 18130, 18134, 18146, 18156, 18158, 18160, 149233, 18186, 18196, 18204, 18210, 149284, 18219, 18221, 18235, 18237, 51009, 18242, 18250, 18255, 51029, 51031, 18266, 18277, 18291, 18303, 18304, 18306, 18310, 18317, 18318, 18319, 18327, 18345, 18346, 18364, 18393, 18396, 18404, 18406, 18411, 18419, 18436, 18440, 51214, 18450, 18460, 18468, 18471, 18473, 18474, 18475, 18477, 18489, 18494, 18497, 18504, 18510, 149582, 18515, 18519, 51289, 18525, 51293, 18532, 18548, 18550, 18553, 18556, 18557, 18562, 18568, 18573, 18574, 149646, 18578, 149651, 51348, 18582, 18587, 18589, 18594, 149674, 18603, 18611, 51382, 149691, 51389, 18642, 18646, 18659, 18663, 18668, 18686, 51460, 18699, 51468, 18702, 18713, 18715, 18723, 18725, 18729, 18736, 18742, 18743, 18747, 51515, 18753, 51526, 149832, 18771, 18778, 18779, 149855, 149858, 18796, 18805, 18814, 18819, 18823, 18826, 18830, 18837, 18854, 18855, 18856, 18857, 18858, 18866, 18873, 18885, 18890, 149965, 18899, 18902, 18908, 18916, 18929, 18934, 18949, 18953, 18957, 18965, 18971, 18976, 18986, 18991, 18995, 18997, 150070, 19005, 19016, 19017, 19022, 19030, 19031, 19032, 19036, 19037, 19043, 19050, 19054, 150128, 19062, 19065, 19069, 19070, 19074, 19081, 19084, 19093, 19096, 19097, 19115, 51884, 19120, 19121, 19124, 19126, 19127, 51897, 19143, 19144, 19149, 150228, 19162, 19166, 19168, 19169, 19174, 19175, 19176, 19177, 150261, 19190, 19194, 19195, 19210, 19219, 19221, 19222, 19230, 19231, 19234, 52002, 19236, 19243, 19247, 19248, 19250, 19254, 19255, 19266, 19270, 19280, 19284, 19288, 19298, 19300, 19307, 19310, 19311, 52081, 150386, 19323, 19324, 19325, 19338, 19347, 19367, 19388, 19391, 19399, 19401, 150492, 19429, 19436, 19437, 19440, 19447, 19450, 19461, 19462, 19476, 19481, 19482, 19485, 19489, 19496, 19505, 19509, 19511, 19512, 19529, 19531, 19532, 19537, 19539, 19541, 19544, 19549, 19554, 19560, 19566, 19571, 19582, 19592, 19605, 19607, 19610, 19616, 19617, 19627, 52408, 19643, 19650, 19660, 19668, 19669, 19670, 19673, 19676, 19677, 19680, 19688, 19705, 19709, 19717, 19729, 19743, 19750, 19754, 19755, 19756, 52524, 19773, 19786, 19789, 19790, 19795, 150871, 19801, 19806, 19807, 19808, 19811, 19814, 19815, 19826, 19827, 19828, 19829, 19831, 19833, 19839, 19842, 19849, 19855, 19860, 19868, 150942, 19875, 19878, 19881, 19882, 19887, 19888, 19890, 19894, 19896, 19899, 19911, 19914, 19920, 19922, 19923, 19930, 19931, 19933, 151010, 19941, 19951, 19960, 19963, 19965, 19967, 19969, 19973, 19976, 19981, 19983, 19985, 19991, 19994, 151068, 20002, 20007, 52779, 20012, 20015, 20025, 20031, 20043, 20045, 20052, 20063, 20066, 20071, 20073, 20084, 20088, 20091, 20092, 20094, 20098, 20105, 20111, 20119, 20129, 20130, 20136, 20143, 20145, 20146, 20150, 20153, 20160, 20167, 20169, 20170, 20180, 20182, 20184, 20185, 20187, 20196, 20206, 20209, 20210, 20212, 20213, 20214, 20225, 20232, 151324, 20262, 20268, 20280, 20282, 20288, 20294, 20302, 20303, 20310, 20330, 20345, 20353, 20356, 53126, 151453, 20384, 20401, 20429, 53203, 20438, 20442, 20448, 20449, 20450, 20451, 20453, 20455, 20456, 20465, 20476, 20480, 20483, 20485, 20490, 20504, 53273, 20508, 20516, 20522, 20532, 20538, 20547, 20550, 53319, 20552, 20554, 20564, 20570, 20577, 20582, 20585, 20589, 20598, 53374, 20632, 20634, 20638, 20643, 20645, 20653, 20664, 20666, 20667, 20668, 20674, 20682, 20689, 20690, 20694, 20695, 20712, 151790, 20726, 53510, 20744, 20752, 53522, 20755, 20761, 20763, 20767, 20791, 20792, 20802, 20812, 20826, 20827, 20830, 20834, 151908, 20839, 20844, 20845, 151924, 20875, 53643, 53647, 20881, 20886, 20887, 151959, 20890, 20896, 20898, 20904, 20906, 20910, 20920, 20927, 20930, 20935, 152016, 20945, 20948, 20951, 20956, 20957, 53727, 20961, 20963, 20965, 20976, 20981, 20985, 20993, 21000, 152073, 152083, 21015, 21021, 21023, 21027, 21033, 53801, 21046, 21050, 53819, 21053, 21059, 21066, 21067, 21069, 21099, 21111, 21117, 21123, 21128, 21132, 21140, 21144, 21146, 21147, 21149, 21155, 21163, 21168, 21173, 21180, 21184, 21190, 21193, 53966, 21199, 53970, 21204, 21208, 21209, 21210, 21215, 152291, 21230, 21232, 21237, 21244, 21247, 21249, 21252, 21255, 54030, 54031, 21264, 21267, 21279, 21283, 21287, 21292, 21293, 21299, 21302, 21305, 21317, 21318, 21320, 21323, 21325, 54095, 21331, 21336, 152411, 21342, 21343, 152414, 21345, 54118, 21354, 21355, 152433, 21366, 21372, 21380, 21382, 21388, 21393, 21398, 21401, 21407, 54179, 21412, 21425, 21442, 21449, 21454, 21455, 21459, 21470, 54268, 21503, 21510, 21515, 21521, 21522, 21524, 152598, 21531, 152612, 21544, 152636, 21567, 152641, 21570, 21576, 21580, 21581, 21583, 21589, 21591, 21593, 21604, 21605, 152680, 152681, 21612, 21618, 152693, 21643, 21652, 21663, 21666, 21667, 21671, 21674, 21693, 21694, 21699, 21703, 21707, 21719, 21740, 21749, 21750, 54520, 21754, 21756, 21775, 21784, 21785, 21788, 54563, 21798, 152872, 21802, 21803, 21807, 21816, 21819, 21835, 21836, 21840, 21842, 21845, 21854, 152926, 21859, 21865, 21866, 21868, 21874, 21875, 21881, 21884, 21891, 21898, 21909, 54684, 21929, 21934, 21936, 54711, 21945, 21946, 21959, 21963, 21964, 21965, 21966, 21972, 54741, 21979, 21980, 21983, 21986, 21993, 21996, 22000, 22003, 54771, 22010, 22021, 22024, 153096, 22027, 22028, 22033, 22048, 22059, 22063, 22070, 22077, 22080, 153153, 22089, 54859, 22093, 54861, 22095, 22100, 22102, 22112, 22114, 153190, 22119, 22124, 22138, 22148, 22161, 22167, 22169, 22176, 22178, 22182, 22186, 22187, 22188, 54956, 22204, 22207, 22208, 22212, 22214, 54983, 22218, 22225, 22230, 54998, 22241, 22247, 22248, 22253, 22255, 22256, 22260, 22263, 22269, 22271, 22274, 22293, 55062, 22296, 22298, 22300, 22301, 55069, 22304, 22311, 22312, 55098, 22331, 55111, 22352, 22363, 22366, 22368, 22371, 22372, 22373, 55147, 22384, 22387, 22390, 22399, 55167, 22414, 55187, 22433, 22435, 22444, 22446, 22454, 22456, 22461, 22465, 22469, 22470, 22475, 22491, 22500, 22501, 22502, 22514, 22520, 55291, 22525, 22528, 22529, 22536, 22537, 22538, 22547, 22548, 22549, 22571, 22579, 22582, 22596, 22601, 22622, 22634, 22638, 22650, 22658, 22662, 22664, 22678, 22684, 22685, 22698, 22700, 22706, 22712, 22718, 22720, 22722, 22728, 22749, 22754, 22759, 22760, 22772, 22776, 22779, 22783, 22791, 22792, 22799, 22800, 22801, 22802, 22803, 22805, 22811, 22816, 22822, 22833, 22834, 55608, 22843, 22844, 22852, 22862, 22869, 22872, 22880, 22900, 22903, 22906, 22910, 22911, 22916, 22918, 22919, 22922, 22926, 22932, 22947, 22973, 22974, 22982, 22983, 22984, 22992, 23010, 23012, 23019, 23038, 23040, 23042, 23044, 23045, 23049, 23052, 23055, 23058, 55829, 23062, 23063, 23066, 23069, 23070, 23100, 55868, 23102, 23108, 23109, 23113, 23115, 23118, 23123, 23149, 23157, 23160, 23161, 23165, 23168, 23181, 23184, 23189, 23213, 23217, 23218, 23220, 23224, 23228, 23229, 23236, 23241, 23249, 23256, 23259, 23261, 23262, 23265, 56035, 23272, 23274, 23275, 23295, 23296, 23305, 23313, 23315, 23321, 23323, 23331, 23337, 23344, 23349, 23352, 23360, 23381, 23382, 23383, 23391, 23396, 23405, 23410, 23425, 23432, 23433, 23440, 23441, 23443, 23445, 23446, 23448, 23457, 23458, 23465, 23466, 56233, 23468, 23474, 23481, 23491, 23492, 23494, 23495, 23502, 23504, 23507, 23518, 23519, 23531, 23532, 23549, 23552, 23561, 23563, 23564, 23575, 23580, 23582, 23591, 23595, 23601, 23613, 23623, 23638, 23640, 23653, 23657, 23660, 23663, 23667, 23669, 23670, 23671, 23684, 23690, 23691, 23693, 23699, 23702, 23704, 23725, 23729, 23734, 23736, 23744, 23745, 23747, 23752, 23754, 23769, 23798, 23808, 23812, 23818, 23826, 23828, 23829, 23840, 23844, 23845, 23854, 23869, 23880, 23883, 23886, 56665, 23900, 23904, 23914, 23916, 23919, 23920, 23923, 23932, 23934, 23935, 23939, 23945, 23946, 23949, 23951, 23958, 23974, 23982, 23998, 24001, 24002, 24006, 24007, 24008, 24016, 24017, 24032, 24038, 24039, 24047, 24053, 24056, 24072, 24076, 24081, 24092, 24097, 24100, 24101, 24103, 24107, 24124, 24131, 24133, 24148, 56922, 24155, 24156, 56925, 24159, 56931, 24181, 24185, 24215, 24217, 24222, 24225, 24232, 24233, 24236, 24237, 24241, 24244, 24247, 24259, 24264, 24275, 24276, 24277, 24279, 24284, 24289, 57057, 57058, 57059, 24295, 24339, 24351, 24356, 24363, 24364, 24367, 24374, 24378, 24379, 24388, 24390, 24391, 24392, 24394, 24395, 24406, 24414, 24421, 24423, 24427, 24436, 24437, 24440, 24443, 24466, 24472, 24479, 24483, 24484, 57257, 57263, 24500, 24505, 24508, 24512, 24513, 24519, 57291, 24526, 24531, 24541, 24546, 24551, 24552, 57332, 24569, 24582, 24595, 24596, 24597, 24599, 24601, 24608, 24610, 24615, 24632, 24640, 24642, 24645, 24655, 24661, 24666, 24672, 24676, 24678, 24680, 57457, 24698, 24702, 24707, 24720, 24721, 24725, 24731, 24742, 24744, 24745, 24751, 24754, 57529, 24763, 24772, 24773, 24777, 24784, 24785, 24788, 24789, 24797, 24804, 24823, 24831, 24832, 24834, 24837, 24843, 24851, 24856, 24861, 24862, 24877, 24878, 24886, 24894, 24898, 24903, 24912, 24917, 24919, 24924, 24927, 24929, 24930, 24931, 24932, 24933, 24934, 24936, 24949, 24950, 24953, 24975, 24987, 24992, 24995, 24998, 25004, 25018, 25020, 25028, 25038, 25047, 25049, 25062, 25063, 25083, 25085, 25088, 25089, 57856, 25094, 25101, 25105, 25107, 57877, 25111, 25113, 25133, 25138, 25140, 25141, 25146, 25149, 25153, 25156, 25163, 25165, 25174, 25179, 25186, 25187, 25191, 25197, 57972, 25221, 25222, 25224, 25225, 25229, 25244, 25253, 25256, 25261, 25263, 25267, 25272, 25274, 25280, 25283, 25285, 25300, 25310, 25313, 25325, 25338, 25339, 25343, 25352, 25356, 25360, 25364, 25383, 25391, 25392, 25396, 25400, 25406, 25412, 25413, 25425, 25436, 25437, 25441, 25443, 25445, 25456, 25457, 25461, 25468, 25469, 25475, 25481, 25484, 25492, 25493, 25503, 25507, 25508, 25514, 25534, 25538, 25539, 25540, 25546, 25553, 25555, 25564, 25565, 58335, 25569, 25588, 25594, 25595, 25600, 58371, 25604, 25607, 25609, 25611, 25620, 25621, 25627, 25630, 25635, 25638, 25641, 25652, 25655, 58432, 25666, 25668, 25676, 25679, 25686, 25693, 25694, 25700, 25707, 25712, 25713, 25715, 25737, 25749, 25752, 25768, 25789, 25792, 25793, 25797, 58565, 25805, 25807, 25808, 25810, 25813, 25817, 25822, 25827, 25828, 25832, 25834, 25844, 25845, 25852, 25862, 25863, 25867, 25876, 58644, 25879, 25880, 25881, 25901, 25903, 25916, 25918, 25919, 25925, 25929, 25930, 25931, 25940, 25943, 25957, 25960, 25961, 25967, 25968, 25972, 25979, 25992, 26006, 26010, 26013, 26017, 26024, 26026, 26034, 26041, 26042, 26045, 26063, 58832, 26068, 26070, 26071, 26073, 26076, 26099, 58878, 58880, 26114, 26115, 26121, 26122, 26123, 26127, 26141, 26149, 26153, 26155, 26158, 26168, 26171, 26176, 26179, 26184, 26185, 26191, 26192, 26196, 26205, 26210, 26214, 26217, 26219, 26222, 26224, 26226, 26229, 26234, 26237, 26245, 26249, 26250, 26274, 26276, 26280, 26288, 26310, 26311, 59085, 26320, 26321, 26324, 26329, 59103, 26339, 26354, 59133, 26372, 26377, 26386, 26395, 26403, 26413, 26420, 26421, 26423, 26431, 26437, 26439, 26460, 26471, 26475, 26479, 26485, 26489, 26505, 26511, 26522, 59298, 26544, 26545, 26548, 26563, 59332, 26568, 59336, 26571, 26582, 26596, 26597, 26598, 26599, 26600, 26601, 26605, 26615, 26617, 26618, 26641, 59413, 26654, 26659, 26664, 26671, 26676, 26687, 26695, 26704, 26711, 26714, 26732, 26755, 26766, 59537, 26771, 26776, 59548, 59552, 26791, 26799, 26803, 26807, 26813, 26820, 26829, 26831, 26832, 26833, 26839, 26841, 26843, 26844, 26851, 26852, 26853, 26855, 59630, 26863, 26865, 26866, 26872, 26874, 26877, 59647, 26882, 26891, 26899, 26900, 26907, 59684, 26919, 26927, 26956, 59735, 26969, 26976, 26978, 26984, 26988, 26990, 59758, 27001, 27002, 27003, 27009, 59779, 27013, 27025, 27033, 27036, 27040, 27045, 27053, 27057, 27058, 27061, 27066, 27067, 27081, 27082, 27083, 27085, 27097, 27107, 27114, 27136, 27143, 59911, 27155, 27156, 27159, 27160, 27161, 27171, 27175, 27180, 27198, 27202, 27212, 27213, 27224, 27226, 27235, 60004, 27239, 27247, 60015, 27250, 27256, 27260, 27261, 27272, 27276, 27277, 27285, 27291, 27297, 27301, 27302, 27310, 27319, 27321, 27329, 27339, 27343, 27344, 27353, 27366, 27383, 27386, 27389, 27391, 27394, 27395, 27403, 27409, 27417, 27430, 27431, 27433, 27434, 27436, 27442, 60224, 27463, 27469, 27470, 27471, 27472, 27476, 27484, 27489, 27497, 27498, 27506, 27507, 27508, 27509, 27516, 27520, 27525, 60294, 27531, 27534, 27545, 27556, 27559, 27561, 27568, 27572, 27581, 60360, 27594, 27599, 27600, 27603, 27612, 60380, 27625, 27628, 27629, 60397, 27638, 27644, 27649, 60423, 60427, 27668, 27672, 27675, 27678, 27679, 27687, 60458, 27702, 27705, 27713, 27716, 27718, 27727, 27732, 27734, 27735, 27736, 27737, 27741, 27759, 27764, 27767, 27773, 27774, 27778, 27781, 27787, 27788, 27792, 27800, 27805, 27809, 27810, 27815, 27816, 27819, 27828, 27829, 27832, 27851, 27853, 27855, 27860, 27862, 27866, 27882, 27886, 27898, 27914, 27923, 27939, 27950, 27958, 27962, 27966, 27972, 27984, 60752, 27987, 27988, 27989, 28013, 28014, 28016, 28021, 28026, 28029, 28033, 60803, 28040, 28049, 28050, 28060, 28062, 28068, 28072, 28089, 28091, 28093, 28099, 60869, 28104, 28113, 28116, 28117, 28126, 28128, 28142, 28146, 28154, 28157, 28159, 28163, 28168, 28173, 28174, 28189, 28191, 28195, 28196, 28197, 28199, 28218, 28219, 28223, 28227, 28231, 28232, 28237, 28249, 28253, 28254, 28260, 28262, 28265, 28274, 28275, 28278, 28283, 28284, 28287, 28292, 28293, 28294, 28299, 28303, 28306, 28315, 28317, 28328, 28336, 28340, 28343, 28344, 28346, 28351, 28353, 28362, 28365, 28372, 28384, 28394, 28397, 28406, 28412, 28419, 28422, 28434, 28435, 28448, 28462, 28480, 28481, 28484, 61252, 28492, 28493, 28495, 28502, 28504, 28521, 28523, 28528, 28538, 28539, 28542, 28550, 61324, 28560, 28564, 28566, 28570, 28580, 28588, 28589, 28596, 28601, 28607, 61376, 28614, 28624, 28634, 28635, 28642, 28652, 28656, 28668, 28671, 61445, 28689, 28692, 28698, 61467, 28703, 28707, 28708, 28711, 28713, 28717, 28720, 28730, 28757, 28760, 28770, 28772, 28777, 28795, 28798, 28799, 28802, 28804, 61572, 28813, 28822, 28828, 28834, 28842, 28850, 28851, 28852, 28856, 28861, 61629, 28865, 28866, 28868, 28890, 28898, 28904, 28910, 61694, 28931, 28932, 28933, 28951, 28954, 28958, 28966, 28986, 28995, 28999, 61781, 29023, 29027, 29028, 29032, 29039, 29041, 29089, 29090, 29094, 61862, 29097, 29100, 29103, 29111, 29115, 61893, 29132, 29134, 29139, 29148, 29155, 29166, 29172, 29173, 29174, 29175, 29181, 29185, 29188, 29191, 29192, 29197, 29198, 29199, 29208, 29217, 29218, 29228, 29233, 29237, 29242, 29244, 29248, 29249, 29266, 29268, 29270, 29274, 29276, 29291, 29296, 29299, 29301, 29303, 29315, 29316, 29317, 29320, 29323, 29330, 29335, 29344, 29361, 29367, 29377, 29384, 29385, 29388, 29391, 29395, 29400, 29412, 29413, 29418, 29433, 29438, 62208, 29441, 29442, 62209, 62215, 29448, 29453, 29457, 29458, 29460, 29467, 29468, 29479, 29485, 29489, 29492, 29500, 29509, 29510, 29511, 29514, 29518, 29527, 29528, 29532, 29541, 29552, 29554, 29557, 29563, 29567, 29581, 29589, 29595, 29602, 29606, 29607, 29614, 62384, 29618, 29625, 29639, 29641, 29646, 29652, 29653, 62428, 29664, 29670, 29677, 29678, 29682, 29689, 29696, 29710, 29715, 29722, 29726, 29733, 29734, 29748, 62529, 29777, 29778, 29781, 29782, 29792, 29796, 29807, 29816, 29820, 29823, 29829, 62604, 29840, 29842, 29844, 29846, 29848, 29849, 29850, 29854, 29856, 29857, 29863, 29864, 29873, 29874, 29879, 29883, 29890, 29891, 29896, 29901, 29911, 62702, 29939, 29942, 29949, 29975, 29978, 29981, 29984, 29986, 29995, 29998, 30001, 30004, 30016, 30043, 62811, 62815, 30050, 30051, 30053, 30061, 30067, 30070, 30079, 30081, 30091, 30093, 30096, 30099, 30102, 30103, 30104, 30105, 30125, 62895, 30130, 30135, 30138, 30140, 30157, 30158, 30160, 30168, 30173, 30175, 30180, 30190, 30194, 30202, 30207, 30212, 30221, 30224, 30226, 30229, 30241, 30246, 30249, 63024, 30257, 63025, 30259, 30263, 30268, 30269, 30271, 30274, 30279, 30282, 30284, 30297, 30308, 30309, 30310, 30313, 30319, 30322, 30330, 30335, 30346, 63115, 30352, 30364, 30373, 30375, 30376, 30379, 30392, 30403, 30408, 30410, 30420, 30437, 30439, 30445, 30482, 30485, 30489, 30497, 63266, 30499, 30505, 30511, 30525, 30538, 63306, 30542, 30559, 30564, 30568, 30570, 63340, 30582, 30586, 30593, 30598, 30603, 30604, 30622, 30625, 30627, 30632, 30633, 63402, 30635, 30636, 30638, 30641, 30657, 63428, 30677, 30681, 30682, 30684, 30685, 30703, 30708, 30709, 30732, 30735, 30744, 30746, 30749, 30750, 30758, 30767, 30768, 30777, 30779, 30788, 30792, 30794, 30800, 30807, 30812, 30817, 30819, 30832, 30834, 30835, 30841, 30855, 30856, 30869, 30874, 30881, 30892, 30895, 63680, 30918, 30921, 30949, 30952, 30954, 30958, 30964, 30971, 30973, 30975, 30976, 30979, 30980, 30983, 30984, 30996, 31000, 31008, 31013, 31022, 31024, 63795, 31037, 31058, 31062, 31065, 31069, 31070, 31073, 31080, 63848, 31093, 31097, 31129, 31140, 31142, 31145, 31149, 31151, 31156, 31158, 31163, 31168, 31169, 31175, 31180, 31186, 31187, 31189, 31192, 31201, 31202, 31203, 31208, 31212, 31219, 31226, 31228, 31236, 31237, 31241, 31242, 64012, 31245, 64016, 31251, 31259, 31272, 31275, 31281, 64055, 31288, 31295, 31301, 31309, 31313, 31317, 64085, 31319, 64095, 31329, 31330, 31339, 31340, 31345, 31362, 31369, 31381, 31387, 31389, 31393, 31394, 31420, 31424, 31446, 31447, 31449, 31461, 31466, 31467, 64243, 31485, 31525, 31549, 31564, 31569, 31570, 64343, 31583, 31590, 31597, 31604, 31609, 31611, 31614, 31622, 31624, 31627, 31644, 31649, 64423, 64424, 31662, 31674, 31680, 31690, 31692, 31700, 31702, 31717, 31719, 31721, 31735, 31737, 31742, 64515, 31749, 31764, 31777, 31783, 31797, 31809, 31826, 31827, 31847, 31853, 31856, 31857, 31858, 31861, 31866, 31869, 31870, 31872, 31887, 31891, 31896, 31900, 64671, 31906, 31911, 31913, 31927, 31929, 31945, 31950, 31953, 31959, 31969, 31971, 31972, 31975, 64750, 31986, 31995, 31997, 32023, 32025, 32027, 32033, 32040, 32050, 32053, 64829, 32062, 32067, 32089, 32106, 32108, 32120, 32127, 32172, 32176, 32180, 32190, 32193, 32195, 32205, 32207, 32233, 32239, 32240, 32241, 32244, 32268, 32270, 32292, 32302, 32308, 32313, 32318, 32321, 32323, 32336, 32338, 32344, 32345, 32361, 32366, 32368, 32375, 32381, 32387, 32406, 32440, 32460, 32463, 32467, 32477, 32478, 32481, 32482, 65251, 32489, 32492, 32502, 32507, 32512, 32513, 32515, 32520, 32526, 32533, 32540, 32554, 32556, 32558, 32563, 32567, 32570, 32585, 32587, 32589, 32600, 32603, 32604, 32625, 32626, 32637, 32642, 32644, 32660, 32670, 32671, 32672, 32674, 32676, 32685, 32697, 32708, 32714, 32715, 65503, 32748, 32751, 32758, 32763}\n",
            "-------------------------------------\n",
            "Term in query =  world\n",
            "\n",
            "set()\n",
            "df =  6320\n",
            "idf =  1.1992742357411168\n",
            "{32771, 6, 32775, 8, 11, 65549, 19, 20, 22, 65563, 34, 32802, 32806, 51, 32828, 63, 32831, 32832, 32837, 70, 32841, 32843, 32851, 32852, 32861, 101, 32875, 32877, 110, 32880, 114, 32884, 117, 120, 32891, 32898, 131, 32904, 140, 141, 147, 149, 153, 157, 32930, 32931, 167, 168, 169, 32937, 174, 175, 176, 177, 178, 32945, 32954, 32957, 191, 32963, 32970, 207, 32982, 217, 32985, 65756, 225, 32998, 32999, 33002, 65771, 33006, 239, 242, 243, 249, 65787, 255, 33028, 33033, 33036, 269, 33043, 65811, 33050, 65820, 33054, 292, 294, 33063, 33064, 302, 303, 33070, 305, 33078, 33079, 65851, 321, 33090, 323, 33091, 325, 65860, 331, 33103, 33105, 339, 347, 33115, 33119, 353, 33121, 356, 33125, 33126, 65903, 370, 33150, 383, 65921, 33158, 33159, 65926, 65928, 65929, 395, 65931, 65932, 33167, 65935, 65944, 411, 33180, 65947, 33182, 415, 65952, 417, 418, 65954, 33188, 65958, 65960, 65961, 33196, 431, 65968, 65972, 65974, 439, 65977, 65981, 33214, 33217, 33220, 454, 455, 33234, 33237, 33238, 472, 33249, 33250, 33255, 488, 66029, 33264, 33266, 33275, 513, 517, 519, 33288, 33299, 542, 33313, 547, 33317, 33319, 555, 33324, 583, 66120, 588, 33356, 591, 66145, 612, 613, 623, 624, 33402, 641, 650, 661, 33435, 673, 676, 685, 692, 693, 695, 712, 715, 33502, 33506, 746, 752, 753, 754, 33530, 764, 773, 786, 66322, 33556, 793, 66329, 66330, 66332, 66333, 801, 802, 66340, 66341, 66345, 33579, 66347, 66349, 815, 33584, 66352, 818, 819, 33586, 33589, 66353, 66356, 824, 66359, 827, 828, 66364, 830, 66367, 832, 833, 66368, 835, 837, 66375, 842, 66378, 66379, 33613, 66382, 66383, 850, 852, 853, 33621, 33622, 66388, 66391, 66394, 859, 66397, 66399, 66400, 66401, 66402, 868, 66405, 871, 66408, 33643, 878, 66414, 33648, 66415, 66418, 884, 33653, 66421, 66422, 66424, 66426, 892, 894, 896, 66432, 66433, 66434, 66435, 66436, 66437, 66440, 905, 66442, 66444, 910, 66447, 916, 918, 919, 66456, 922, 66459, 66461, 66463, 66464, 66469, 935, 66474, 940, 66480, 66482, 947, 962, 964, 66503, 971, 66509, 974, 66510, 983, 999, 1005, 1008, 1015, 1019, 1039, 1042, 1046, 1056, 1062, 33841, 1076, 1077, 1079, 33847, 66616, 1086, 1090, 66627, 1093, 66632, 66633, 66636, 66639, 1104, 66640, 66642, 66643, 1110, 66648, 66650, 1115, 66652, 66653, 1120, 66657, 66658, 66660, 1125, 66661, 66665, 66667, 1138, 1139, 1142, 1153, 1161, 33931, 33932, 1166, 33935, 1172, 1177, 33952, 1186, 1191, 33960, 33961, 33964, 33965, 1198, 33966, 1217, 1223, 1229, 1244, 1245, 1254, 1257, 1276, 34044, 1279, 1282, 1292, 1298, 1300, 1303, 1304, 1309, 1310, 34079, 1316, 1320, 34098, 34099, 1342, 1351, 1353, 1354, 1359, 1369, 34142, 1378, 1396, 34165, 1404, 1405, 1406, 1408, 34179, 1412, 1420, 1427, 1432, 1441, 34219, 1453, 1457, 1458, 1478, 1487, 1492, 1514, 1515, 1550, 1554, 1555, 34330, 34331, 1564, 1567, 1574, 1576, 1578, 1586, 1593, 1595, 1596, 1608, 1620, 1626, 1635, 34411, 1647, 34420, 1654, 1659, 34429, 1668, 34440, 34446, 1681, 34452, 1685, 1701, 1704, 34474, 1708, 1721, 34489, 34491, 34498, 1741, 1743, 1745, 1749, 34523, 34524, 1757, 34526, 1759, 34527, 1761, 34532, 34533, 34538, 1771, 1773, 1782, 1785, 34554, 1792, 1794, 1795, 1800, 1803, 1809, 1816, 1818, 1823, 1835, 1837, 1849, 1856, 1861, 1862, 1863, 1867, 1877, 1884, 1892, 1908, 1914, 1916, 1927, 1936, 1944, 1954, 1955, 1962, 1979, 1988, 1991, 1993, 1994, 1996, 1997, 34771, 2005, 2012, 2018, 2031, 2032, 2044, 34827, 34836, 34837, 2070, 2073, 2078, 2097, 2108, 34881, 2114, 34882, 2116, 34883, 2118, 34884, 34885, 2122, 34894, 34895, 2130, 2137, 2142, 2146, 2149, 2151, 34919, 2159, 2167, 34943, 2180, 2182, 2184, 2185, 2188, 2196, 34966, 34967, 34971, 34973, 2206, 34974, 34975, 34977, 2239, 2246, 2248, 2250, 2264, 35038, 2272, 35051, 35053, 2289, 2291, 2297, 2326, 2329, 2330, 2340, 2349, 2353, 2363, 35132, 35133, 35136, 2376, 2378, 35146, 35147, 35148, 2395, 35165, 2399, 2400, 2411, 2417, 2426, 35195, 35196, 35197, 35198, 35201, 2435, 35203, 2437, 2441, 35213, 35214, 2447, 35217, 35221, 35223, 35224, 35225, 2458, 35226, 35227, 35229, 35230, 35231, 35232, 35234, 35235, 35239, 35240, 35241, 35242, 35243, 2476, 35244, 35248, 35249, 35252, 35254, 35256, 35257, 35258, 2493, 2498, 2511, 2516, 2531, 35300, 2536, 2542, 2546, 2549, 2554, 2566, 2574, 2586, 35360, 2594, 35362, 2597, 35370, 2612, 2627, 2628, 2638, 2643, 2648, 35430, 2666, 2670, 2678, 2681, 2689, 2691, 35459, 2693, 2694, 35465, 2699, 35467, 2708, 2722, 2731, 2732, 35499, 2735, 2754, 2759, 2764, 35544, 2782, 2808, 2809, 2813, 2814, 2823, 2832, 2840, 35608, 35611, 35612, 35613, 35614, 35615, 35616, 35617, 133920, 2852, 2855, 2862, 2873, 2888, 35659, 2892, 35665, 2908, 2912, 2914, 2916, 35687, 2938, 2944, 35713, 35715, 35716, 35717, 35727, 2960, 2961, 2969, 35745, 2978, 2981, 2986, 2988, 35756, 2991, 35760, 35761, 3010, 3012, 3015, 3019, 3023, 3025, 35800, 3035, 35803, 35805, 3041, 3048, 3064, 3069, 3071, 3072, 3083, 3093, 35867, 3103, 3104, 35873, 3108, 35879, 35880, 35881, 35882, 35883, 35884, 3118, 35886, 3121, 35889, 35890, 35891, 35892, 35894, 35895, 35897, 35899, 3134, 35907, 35908, 3141, 35909, 35911, 35912, 3146, 35916, 35917, 35919, 35921, 35922, 3156, 35926, 3159, 3163, 35933, 35934, 35935, 35937, 35938, 3171, 35939, 35940, 35941, 35942, 35943, 3177, 35946, 35947, 35948, 35944, 35945, 35949, 35952, 35953, 3186, 35954, 35955, 35958, 35959, 35960, 35961, 35963, 35964, 35965, 35966, 35967, 35969, 35970, 3202, 3204, 35972, 35974, 35977, 35980, 35981, 3214, 35983, 3217, 3218, 35985, 35986, 35987, 35990, 35992, 35993, 35995, 35997, 35998, 35999, 36000, 3231, 36002, 36003, 36005, 3238, 3240, 36009, 36011, 3244, 36013, 36012, 3247, 36015, 36016, 36017, 36018, 36021, 36024, 36026, 3260, 36030, 36031, 3264, 36032, 36033, 3269, 36039, 36040, 3274, 36043, 36045, 3279, 36047, 36051, 3283, 36052, 36055, 3287, 36056, 3290, 36059, 36061, 36062, 36063, 36064, 36065, 36067, 3301, 36069, 36070, 36071, 36072, 36073, 36075, 36079, 36081, 36082, 36084, 36086, 36088, 36090, 36091, 3324, 36093, 3326, 36094, 3328, 36096, 3331, 36101, 36102, 36103, 36105, 3338, 36106, 36107, 3343, 36125, 3358, 3360, 3362, 3363, 3364, 3367, 3372, 3377, 3380, 3386, 3388, 36165, 3399, 3410, 3411, 36179, 3416, 3421, 3433, 3438, 3440, 3442, 3443, 3453, 3454, 36222, 3460, 3470, 3475, 3476, 36243, 3485, 3486, 36254, 3490, 36258, 36259, 36260, 3494, 36262, 36265, 36267, 36269, 36270, 36272, 36273, 3507, 3516, 3518, 3519, 3525, 3532, 3536, 3537, 3542, 3546, 3551, 36321, 36324, 3568, 3569, 3574, 3599, 3601, 3604, 36372, 36373, 36374, 36376, 36377, 36379, 3635, 3647, 3648, 36417, 3651, 3660, 36430, 3664, 3672, 3679, 3684, 3688, 3705, 3707, 3708, 36481, 36484, 36493, 3739, 3743, 3746, 3763, 3765, 3774, 3775, 3779, 3793, 3799, 3802, 3810, 3811, 3814, 3821, 3826, 3832, 3833, 3834, 3843, 36620, 3868, 3871, 3875, 3876, 36645, 3878, 3880, 3883, 3884, 3887, 36663, 3898, 36668, 3901, 3911, 3919, 3922, 3923, 3928, 3929, 36700, 3948, 3949, 3955, 3974, 36743, 3976, 36745, 3978, 3980, 3982, 36751, 3989, 3993, 4002, 36770, 4006, 36777, 4011, 4016, 4030, 4033, 4037, 36808, 4043, 4052, 4057, 4065, 4067, 4068, 4077, 4078, 4082, 4089, 4105, 36877, 4112, 4114, 36888, 36889, 36890, 36891, 36893, 36896, 36899, 36900, 4134, 36906, 36908, 36909, 4143, 36911, 36912, 36913, 36914, 36916, 36917, 36918, 36919, 36922, 36923, 36925, 36930, 4168, 4169, 36940, 36941, 36942, 4175, 36943, 36946, 4179, 36949, 4182, 36950, 36954, 36956, 36957, 4190, 4193, 36961, 4196, 36966, 4203, 36971, 36972, 36973, 36974, 36975, 36976, 36979, 4212, 36981, 36982, 36984, 4218, 4220, 36990, 4224, 36994, 4232, 4236, 4237, 37004, 37007, 4244, 4262, 4263, 4270, 4271, 37047, 4281, 4282, 4283, 37049, 4291, 4293, 4294, 4327, 4332, 4348, 4358, 4379, 4381, 4387, 4389, 4398, 37167, 4405, 4407, 4409, 4415, 4418, 4420, 4422, 69965, 4430, 37201, 37203, 37206, 4441, 37211, 4449, 4451, 4453, 37224, 37225, 37226, 37228, 37230, 4463, 37232, 37241, 37242, 4476, 4478, 4482, 4485, 4493, 4495, 4497, 37267, 4505, 4524, 4528, 4534, 4535, 4541, 4545, 4546, 4550, 4582, 4585, 4586, 4589, 4591, 4613, 4617, 37395, 4629, 4640, 4641, 37411, 37422, 4655, 4658, 37428, 4662, 37433, 4669, 4676, 4679, 37450, 37457, 4692, 4694, 4699, 4700, 4715, 37484, 4721, 4722, 4739, 4743, 4745, 4746, 4747, 4750, 4768, 37554, 37557, 37561, 4807, 4810, 4812, 4823, 4835, 4837, 4839, 4856, 4872, 4876, 4881, 4887, 37658, 4891, 4895, 4896, 4904, 4907, 4910, 4912, 4913, 4914, 4916, 4923, 4924, 4926, 4941, 4946, 4962, 37731, 4964, 37733, 4977, 4979, 4981, 4983, 4987, 37759, 4993, 5004, 5006, 5007, 37780, 37783, 5019, 5028, 5031, 5034, 5036, 5038, 5040, 5041, 5055, 5063, 37840, 5075, 37847, 37852, 5086, 5089, 5100, 5101, 5108, 37876, 5124, 5125, 5126, 5148, 5150, 5157, 37925, 5170, 5178, 5180, 37970, 5210, 37980, 37987, 5227, 37999, 5235, 5236, 5240, 5242, 5246, 5247, 5253, 38034, 38038, 38039, 5280, 5281, 5286, 5290, 5291, 5304, 5305, 5307, 5314, 5318, 5321, 5322, 38094, 38100, 5334, 38103, 38104, 5340, 5355, 5356, 5368, 38141, 5374, 38144, 38149, 38151, 38152, 5393, 38162, 5395, 38163, 38166, 38167, 38169, 5403, 5407, 5413, 5415, 5422, 5430, 5434, 5435, 5437, 5441, 5445, 5448, 38222, 5459, 5461, 5467, 5473, 5474, 5489, 5490, 5491, 5502, 38273, 38276, 38280, 5516, 5527, 5528, 5535, 38305, 38308, 38309, 5543, 38312, 5553, 5556, 5558, 5561, 5563, 5576, 38346, 5584, 5589, 5609, 5614, 5617, 5623, 5630, 5632, 5641, 5652, 5668, 5676, 5679, 5683, 5691, 5700, 5706, 5712, 5724, 5726, 5735, 5738, 5742, 5750, 5757, 5763, 5767, 38542, 38543, 38545, 38547, 38549, 38550, 38552, 5786, 5789, 5796, 5797, 5800, 5804, 5812, 5816, 5822, 136895, 5829, 5835, 5844, 38613, 5849, 5852, 5853, 5870, 5871, 5873, 5874, 5875, 5878, 5881, 5886, 5889, 5890, 5897, 5901, 5905, 5909, 5912, 5967, 5983, 5985, 5991, 6012, 6031, 6039, 6042, 6043, 6049, 6053, 38830, 6064, 6071, 6080, 6081, 6086, 6110, 38878, 6124, 38895, 6129, 6133, 6134, 6136, 6138, 38911, 6144, 6159, 6169, 38939, 6172, 38941, 38942, 38943, 38946, 38948, 6181, 38949, 38951, 38952, 38953, 38954, 38955, 38957, 38958, 38959, 38960, 38961, 38963, 38964, 38965, 38966, 38969, 38970, 38971, 38972, 38973, 38974, 38975, 38976, 38977, 38978, 38979, 38980, 38981, 38982, 38983, 38984, 38986, 38987, 38988, 38989, 38990, 38992, 6225, 38993, 38994, 38995, 38996, 6230, 6231, 39000, 39001, 39002, 38997, 39003, 6237, 39005, 39006, 39007, 39009, 39010, 6244, 39012, 39014, 39015, 6248, 39016, 39017, 6251, 39019, 39018, 39022, 39023, 39020, 39021, 39027, 39028, 6261, 6262, 39029, 39030, 39031, 39034, 39032, 39033, 39037, 39035, 6271, 6272, 6273, 39041, 39038, 39044, 39039, 39046, 39040, 39048, 39049, 39050, 39042, 39043, 39047, 6286, 39054, 39056, 39051, 39058, 39055, 6292, 39057, 39062, 39059, 39061, 39065, 6298, 39063, 39064, 39069, 39070, 39071, 39066, 39067, 39068, 39072, 39073, 39078, 39080, 39081, 6313, 39083, 39084, 6314, 6316, 39087, 39088, 6318, 39082, 39085, 6324, 39093, 39086, 39089, 39090, 39092, 39094, 39096, 39098, 39101, 39099, 39103, 39100, 39102, 6346, 6354, 6365, 39134, 6370, 6375, 6384, 6389, 6390, 6393, 39172, 39173, 39177, 6410, 39179, 39182, 6418, 6432, 6437, 39205, 6441, 6443, 6449, 39217, 6451, 6455, 39225, 39234, 6468, 6488, 6490, 6491, 6493, 39262, 39266, 39269, 39270, 39272, 6508, 6509, 39281, 6526, 39299, 39302, 6538, 6540, 6542, 6545, 39315, 39317, 39319, 39324, 6557, 6562, 6563, 6566, 6569, 6578, 6585, 6589, 6592, 6601, 6610, 6615, 39384, 39385, 6634, 6638, 6642, 6653, 6656, 6659, 6662, 6666, 6667, 39441, 39460, 6696, 6710, 6719, 6729, 39500, 6736, 6739, 6750, 39519, 6756, 39527, 39532, 39535, 39536, 6775, 6776, 6781, 6791, 39563, 6804, 6812, 6814, 6819, 6820, 39592, 39593, 6829, 6845, 39618, 39621, 6875, 6878, 6881, 39650, 6887, 6889, 6891, 6898, 39674, 39675, 39676, 6915, 6932, 6940, 6945, 6951, 6952, 6954, 39723, 39724, 39725, 39726, 39727, 39729, 39730, 6964, 39732, 39733, 6967, 39734, 39737, 39738, 39739, 6972, 6973, 39742, 39745, 39746, 39748, 39749, 6990, 39766, 7001, 7002, 39769, 7010, 7015, 7023, 7030, 7031, 7039, 7040, 7042, 7050, 7053, 39839, 39845, 7081, 7084, 7085, 7094, 7100, 7101, 39868, 39872, 7112, 7113, 7118, 7126, 7127, 39894, 39897, 7130, 7134, 7135, 7138, 7145, 7169, 7170, 7171, 7180, 7187, 7194, 39967, 7204, 7210, 7212, 39987, 39988, 39989, 39991, 39993, 7226, 39995, 39996, 7229, 39997, 39998, 40000, 7233, 40001, 40003, 7237, 40005, 40006, 40007, 40008, 7246, 40014, 40015, 40016, 40017, 7251, 7253, 40021, 40022, 7258, 40026, 40027, 40031, 7265, 40033, 7267, 40034, 40035, 40036, 40037, 40038, 40039, 40040, 7275, 7276, 40042, 7278, 40043, 40044, 40045, 40047, 40049, 40050, 40052, 40054, 40056, 40057, 40058, 40059, 40060, 40062, 7296, 40064, 40065, 40067, 40068, 40069, 40070, 40071, 40074, 7308, 40076, 40079, 40081, 40083, 40084, 7317, 7318, 40086, 40087, 40088, 40090, 40091, 40092, 40093, 40098, 40099, 40101, 40103, 40104, 40105, 7338, 40107, 40109, 40111, 40112, 40114, 40115, 40117, 7354, 40124, 40125, 40127, 7360, 40128, 40129, 40130, 40131, 7365, 40133, 40135, 7368, 40136, 7371, 40140, 40142, 40143, 40145, 40147, 40148, 40150, 40153, 7386, 40155, 40156, 40157, 40158, 40159, 40160, 40161, 40162, 40163, 40166, 40170, 40171, 40174, 40175, 40176, 40177, 7410, 40178, 7412, 40179, 40182, 40183, 40184, 40185, 7420, 40190, 40192, 40193, 7426, 40194, 40195, 40198, 40199, 40200, 7433, 40201, 40202, 7436, 40203, 40205, 7439, 7440, 40207, 40209, 7443, 40210, 40211, 40212, 7447, 40213, 40214, 40215, 40216, 40217, 40218, 7454, 40220, 40221, 40223, 40225, 40226, 7460, 40230, 40231, 7466, 40234, 40236, 40237, 7471, 40240, 40241, 40242, 40244, 40245, 40247, 40251, 40252, 40254, 40255, 7490, 40259, 40261, 40264, 40265, 40266, 7499, 40268, 40270, 40271, 40272, 40273, 40274, 40276, 7509, 40277, 40279, 7512, 40281, 7514, 40282, 7516, 40283, 40285, 7519, 40286, 40288, 40290, 40291, 40292, 40293, 40295, 40296, 7532, 7533, 40301, 40303, 7536, 7537, 40304, 40305, 40307, 40308, 40309, 40312, 40329, 40332, 7567, 40335, 7578, 7581, 7586, 7595, 7596, 40369, 40370, 40371, 7605, 40373, 7609, 7612, 7615, 40387, 7622, 40392, 7626, 7635, 7647, 40416, 40422, 7659, 7660, 40428, 7663, 40433, 40439, 7673, 7679, 7682, 7684, 40458, 7695, 7697, 7699, 7712, 7715, 7722, 7724, 7731, 7732, 40516, 40517, 7750, 40520, 40524, 7758, 40527, 7761, 40531, 7764, 40536, 40541, 40543, 40545, 40546, 40548, 7781, 40551, 7784, 7797, 7798, 40569, 7807, 7808, 7809, 7811, 7813, 7816, 7831, 7834, 7836, 7844, 7848, 7854, 7855, 7859, 40633, 40634, 7869, 40638, 7871, 7874, 7881, 40653, 7888, 7901, 7919, 7930, 7935, 7949, 7962, 7963, 7969, 7973, 40757, 40760, 40762, 7995, 40773, 8007, 40775, 40778, 8013, 8014, 40782, 8017, 8019, 40788, 40789, 40796, 8031, 8032, 40799, 8035, 8038, 8039, 8046, 8053, 8056, 8060, 40828, 8072, 8074, 8080, 8084, 8087, 8088, 8090, 8097, 40875, 40878, 8114, 40884, 40887, 8125, 8127, 8139, 40907, 8143, 8148, 8149, 8151, 8156, 40926, 40934, 40935, 8179, 8181, 8201, 40972, 40974, 8208, 8210, 40979, 40980, 8215, 40985, 40986, 40987, 8235, 8239, 8244, 8257, 8264, 8269, 8271, 8288, 8293, 8294, 8300, 8305, 8310, 8333, 8334, 8337, 8340, 8341, 8346, 8350, 8352, 8354, 8365, 8366, 8369, 41142, 8375, 8376, 8382, 8386, 8404, 8417, 8419, 8420, 8422, 8423, 8425, 8431, 8434, 8435, 8437, 8442, 8455, 8456, 8459, 8464, 8465, 8480, 8482, 8485, 8493, 8497, 8502, 41274, 8507, 8508, 8509, 8512, 8517, 8518, 8520, 8530, 8531, 8538, 8539, 8540, 8543, 41324, 8564, 41348, 8599, 41374, 41377, 41380, 8613, 41387, 8636, 8638, 8639, 8641, 8644, 41416, 8678, 8679, 8680, 8683, 8684, 8686, 8688, 41457, 41458, 41459, 41460, 41461, 41463, 41464, 41465, 41467, 41469, 41470, 41471, 41472, 41473, 41476, 41477, 41478, 41479, 41480, 41482, 41484, 41485, 8718, 41487, 8720, 41488, 41490, 41491, 41492, 41493, 41494, 8728, 8733, 8738, 8740, 8742, 8749, 8751, 8754, 8759, 41530, 8763, 41532, 8766, 41534, 8770, 41540, 41541, 41542, 8785, 8801, 8803, 8808, 8810, 8813, 8814, 8816, 8818, 8831, 8840, 8849, 41627, 41638, 8873, 41642, 41643, 8876, 8877, 8878, 41650, 41657, 8893, 8894, 41661, 41666, 8899, 41668, 8905, 8906, 8908, 41687, 8923, 8925, 8928, 41707, 8940, 8942, 41712, 41713, 8946, 41716, 8956, 8958, 8963, 8992, 8997, 9004, 9005, 9014, 9020, 9027, 9029, 9030, 41797, 9047, 41829, 9062, 9077, 9079, 9088, 9093, 9101, 9102, 9108, 41882, 9119, 41891, 9132, 9133, 9136, 9147, 9148, 9152, 41920, 9159, 41928, 9162, 41930, 9164, 41932, 41934, 41935, 9169, 9170, 41938, 9172, 9173, 41941, 41944, 9179, 41948, 41951, 9187, 9188, 9189, 9192, 9200, 9201, 9204, 9212, 41983, 9216, 42003, 9237, 9242, 9249, 9250, 9261, 9262, 9264, 9268, 9269, 9272, 9281, 9289, 42061, 9294, 9301, 42076, 42077, 9311, 9317, 9328, 9342, 9358, 42135, 42136, 9390, 9394, 9395, 42181, 9419, 9421, 9446, 9451, 9452, 9463, 9468, 42241, 9476, 9489, 9502, 9510, 9517, 9530, 9536, 42304, 42309, 9542, 9543, 9544, 42311, 42313, 9547, 42314, 9549, 9550, 42315, 42316, 42319, 42323, 9557, 42325, 42326, 9560, 42327, 42328, 9563, 42331, 42332, 42333, 42334, 42335, 42336, 42337, 42338, 42340, 42341, 42343, 42345, 9578, 42346, 42347, 42348, 42349, 42350, 9584, 42351, 42352, 9588, 9589, 42356, 42357, 42359, 9594, 42363, 42364, 42365, 9598, 42366, 42367, 9601, 42368, 9603, 42371, 42372, 42373, 42375, 42376, 42377, 42378, 42379, 42380, 9621, 42393, 9630, 9634, 9639, 42420, 9660, 9661, 9671, 9682, 9687, 42465, 9699, 9700, 9703, 9704, 9706, 9710, 9721, 9723, 9736, 9737, 9752, 42520, 9755, 9757, 9762, 9764, 42538, 9771, 42554, 9791, 9817, 9825, 9826, 9829, 9839, 9843, 9861, 9862, 9866, 9875, 9883, 9885, 9887, 9896, 9899, 9904, 9911, 9921, 9922, 9923, 9926, 9928, 9935, 42711, 9944, 9956, 9964, 9972, 9975, 9982, 9987, 9988, 10006, 10009, 10012, 42780, 10017, 10021, 42797, 10031, 10042, 10049, 42817, 10051, 10073, 10085, 10090, 10091, 10093, 10100, 10114, 10117, 42886, 10121, 10124, 42897, 10146, 10151, 42932, 10165, 10166, 10173, 42941, 10175, 10180, 10190, 10193, 42964, 10203, 10224, 10226, 10230, 10235, 43003, 10248, 10257, 10270, 10272, 43046, 43051, 10290, 43073, 10310, 10319, 10320, 10323, 10324, 10328, 10331, 10341, 10342, 10345, 10347, 10348, 10355, 10356, 10358, 10361, 10363, 10365, 43135, 10370, 43144, 10390, 10398, 10399, 10403, 10415, 10416, 43187, 10421, 10424, 10426, 10429, 43202, 43204, 43214, 10453, 10457, 10460, 10469, 10470, 10472, 10475, 10484, 43252, 43253, 43266, 10499, 10505, 10511, 10539, 43308, 10550, 10551, 43320, 10562, 43331, 43335, 43337, 10570, 43339, 10572, 43346, 10579, 10580, 10583, 43356, 43360, 10594, 43362, 10596, 43364, 43365, 43366, 43367, 43369, 43371, 43372, 43376, 43377, 10614, 10615, 43382, 43384, 43385, 43388, 43394, 43395, 43399, 43400, 43402, 43403, 43407, 43409, 43411, 43412, 43419, 10654, 43423, 10657, 43425, 43426, 43427, 43430, 10663, 43431, 43433, 43435, 43442, 43443, 10676, 43446, 43447, 43450, 10687, 10689, 10690, 10691, 10697, 10702, 43482, 43483, 43484, 43485, 10718, 43486, 43488, 43489, 10722, 43490, 43491, 43492, 43493, 43494, 43497, 43498, 43499, 43500, 43501, 43502, 10735, 43503, 43506, 43507, 10742, 10747, 10749, 10750, 10757, 10759, 10762, 10775, 10776, 10779, 10783, 10785, 10789, 10790, 10796, 10798, 10801, 10804, 10808, 10810, 10814, 10815, 10830, 10838, 10839, 10849, 10850, 10852, 10853, 10866, 10867, 43638, 10871, 10872, 10882, 10887, 10888, 43659, 43664, 10900, 43673, 10907, 43675, 10914, 10916, 43688, 10927, 10929, 10933, 10935, 10943, 43711, 43713, 10946, 43718, 10953, 10956, 10957, 10962, 10976, 10984, 10997, 43767, 11000, 11001, 11004, 11007, 43776, 43777, 43779, 11015, 43783, 43784, 43786, 11019, 43787, 43789, 43790, 11025, 43793, 43794, 43795, 43797, 43798, 43799, 43802, 11051, 43820, 11058, 43830, 43831, 11065, 11072, 11073, 11079, 11085, 43859, 43863, 11098, 11106, 11107, 43880, 43885, 11120, 11123, 11127, 43900, 11135, 11137, 11141, 43909, 43910, 11145, 11147, 11152, 43921, 11155, 43925, 11160, 11162, 43936, 11174, 11176, 11177, 43947, 11180, 43948, 11183, 11184, 11186, 43965, 11207, 11210, 11212, 43982, 11216, 11217, 11229, 11232, 44004, 11259, 11261, 11264, 11265, 11266, 11273, 44064, 44072, 44073, 44075, 11319, 11320, 11325, 11331, 11333, 11337, 11349, 11357, 11364, 11380, 11387, 11390, 11397, 11401, 11414, 11424, 11434, 11439, 11443, 11464, 11475, 11492, 11494, 11503, 11507, 11514, 44283, 11522, 11524, 11534, 11554, 11559, 11571, 11572, 11578, 11580, 11589, 11593, 44365, 77135, 44370, 11609, 11613, 11620, 11631, 11645, 11653, 11667, 11677, 11679, 11690, 11695, 11703, 44477, 44479, 11713, 11714, 11723, 44493, 11727, 11728, 44499, 11734, 44505, 11744, 44512, 11747, 44517, 44520, 44521, 44523, 44531, 44532, 44537, 11772, 44540, 44541, 44544, 44545, 44547, 11790, 11793, 44565, 44566, 44567, 44568, 44569, 44570, 44571, 44572, 44574, 44575, 44577, 44579, 44580, 44582, 11815, 44583, 44584, 44588, 44590, 44591, 44592, 44593, 44594, 44595, 11828, 44597, 44598, 44599, 44600, 44601, 44602, 44603, 44604, 44605, 11838, 44606, 11840, 44607, 44608, 44609, 44610, 44611, 44612, 44613, 44614, 44615, 44616, 44618, 44619, 44620, 44621, 44622, 44624, 44625, 44626, 44627, 44628, 44630, 44631, 44632, 11866, 44635, 44636, 11869, 11870, 44637, 44638, 44640, 11876, 44644, 44645, 44650, 11883, 44652, 44654, 44655, 44657, 11890, 11891, 11892, 44658, 44659, 44660, 44661, 44663, 44664, 11908, 44680, 11923, 44695, 11928, 44699, 11944, 11952, 11953, 44725, 11965, 11968, 11977, 11982, 11987, 44761, 44764, 44765, 12001, 44769, 44771, 12004, 44772, 44774, 12007, 12021, 44789, 12024, 44792, 12027, 12029, 12032, 12034, 44804, 12043, 12047, 12055, 12071, 44841, 44848, 12085, 12086, 12114, 12124, 44914, 12147, 44915, 44917, 12156, 12160, 12164, 12177, 12186, 12187, 12191, 12195, 12198, 12200, 12205, 12217, 45007, 12252, 12261, 12271, 12272, 12280, 12284, 12297, 12300, 12303, 12309, 12313, 12319, 12324, 12328, 12331, 12351, 12364, 12382, 12383, 12386, 45154, 45155, 12395, 12407, 12420, 12425, 45195, 12433, 12434, 12435, 45204, 12437, 45207, 12444, 12445, 12450, 12465, 45236, 12470, 45241, 12477, 45254, 45257, 12498, 45266, 45273, 12509, 45278, 45280, 12514, 45284, 45291, 12544, 12545, 12551, 12554, 12555, 12556, 12559, 12560, 12569, 12572, 12577, 12578, 12580, 12581, 12584, 12596, 12598, 12601, 12603, 12607, 12610, 12620, 12622, 12630, 12632, 12648, 12654, 12655, 45427, 12663, 12666, 12667, 12681, 12685, 12689, 12690, 12696, 12699, 45477, 45478, 45480, 12713, 45482, 12716, 45484, 45485, 12719, 45486, 12721, 45487, 45488, 45489, 45492, 45493, 12727, 45494, 45495, 45497, 45498, 45501, 45502, 45503, 45504, 45505, 45507, 12740, 45508, 45511, 45512, 45513, 45519, 45522, 45526, 45527, 45528, 45531, 12765, 45533, 45534, 45535, 12769, 45536, 45537, 45539, 45540, 45541, 45542, 12778, 45546, 45547, 45548, 12782, 45549, 45550, 45552, 12786, 45553, 45556, 45557, 45558, 12791, 12795, 45565, 12799, 45567, 45568, 45569, 45570, 45571, 45572, 45576, 45578, 45579, 45580, 45581, 45583, 12816, 45584, 45585, 45587, 45589, 45592, 45593, 12832, 12833, 12848, 12866, 12881, 12882, 12883, 12889, 12900, 12912, 12913, 12925, 12927, 12935, 12941, 12944, 12950, 45719, 45720, 12953, 12957, 45726, 45728, 45730, 12963, 12967, 12970, 45740, 45741, 45742, 45744, 12978, 45746, 45747, 12984, 45752, 45759, 12994, 12999, 13001, 13008, 13010, 13011, 13013, 13018, 45786, 13033, 13034, 45802, 13046, 13052, 13060, 13063, 13066, 13074, 45843, 13078, 13081, 13082, 45849, 13084, 45851, 45856, 45857, 45858, 45859, 45860, 13093, 45862, 45864, 45867, 45868, 45872, 45875, 13109, 45877, 45879, 45880, 45881, 45882, 45883, 45884, 45885, 13118, 45886, 45887, 45888, 45889, 45890, 45891, 45892, 13126, 45894, 13128, 45895, 13130, 45896, 45898, 45901, 13135, 13136, 13138, 45908, 45909, 45911, 45912, 45915, 45916, 45920, 45921, 45922, 45923, 45924, 45925, 45926, 45928, 45929, 13162, 45930, 45931, 13165, 45932, 45933, 45934, 45935, 45936, 45937, 45939, 45940, 45942, 45943, 45944, 45945, 45946, 45949, 45950, 45951, 13184, 45953, 13187, 45956, 45957, 13190, 45958, 45959, 45961, 45963, 45965, 13198, 13200, 45968, 13202, 45969, 13204, 45970, 13206, 45972, 45974, 45975, 13210, 45976, 13212, 45978, 13216, 45985, 45986, 45988, 13221, 13223, 45991, 45992, 13228, 13229, 45999, 13239, 13240, 13242, 13249, 13250, 46026, 13261, 46034, 46036, 13275, 46046, 13281, 13285, 13287, 13294, 13297, 13300, 13310, 13311, 13315, 13317, 13345, 13349, 13351, 13360, 13365, 13367, 46138, 13373, 13383, 46151, 13402, 13421, 13424, 13446, 46221, 13468, 13472, 13488, 13490, 13495, 13519, 13528, 13536, 13537, 13542, 13543, 13548, 13556, 13561, 13572, 13576, 13577, 13578, 13579, 46348, 13587, 13592, 13601, 13607, 13621, 13657, 46433, 13676, 46447, 13681, 46451, 13687, 13696, 46464, 46487, 13724, 46493, 46495, 46498, 46499, 13738, 13741, 13745, 13752, 13753, 13754, 13755, 46528, 13762, 46536, 13777, 13784, 13785, 46554, 46562, 13795, 13797, 13811, 13814, 13819, 13821, 13837, 13839, 46609, 13842, 46611, 13844, 46616, 46617, 13850, 13852, 46621, 13860, 13863, 13865, 13867, 13872, 13888, 13894, 13908, 13919, 46688, 13922, 46692, 46695, 46696, 46702, 46718, 46724, 13961, 13971, 13982, 13984, 13995, 14004, 14009, 46781, 14018, 46796, 14029, 46798, 46800, 46801, 46803, 46804, 46805, 14038, 46806, 46808, 46809, 46811, 46812, 46813, 46814, 46817, 46818, 46819, 46822, 46823, 46826, 14059, 14061, 46830, 14063, 46831, 46833, 46834, 46836, 46837, 46838, 46839, 46842, 46843, 46844, 46846, 46847, 14080, 14081, 46848, 46849, 46851, 46853, 46854, 46855, 14088, 46857, 14091, 46859, 46860, 46861, 46862, 46864, 46865, 46866, 46868, 46872, 14106, 46875, 46876, 46878, 46879, 46881, 46883, 14116, 14124, 46897, 46898, 46899, 14133, 14134, 46903, 46907, 14142, 46915, 46916, 14153, 14154, 14161, 46929, 14163, 46935, 46936, 46937, 14171, 46939, 46944, 14178, 46948, 46951, 14195, 14196, 14198, 14203, 46972, 14206, 14211, 14215, 14225, 14227, 14230, 46999, 47003, 47004, 47005, 47007, 47009, 47013, 14253, 47025, 14264, 14269, 14288, 14299, 47069, 47071, 14314, 14316, 14317, 47086, 14319, 14329, 14362, 47147, 47158, 47159, 14394, 14395, 14397, 47165, 14402, 47171, 47176, 47180, 14417, 14418, 47185, 47186, 47187, 14425, 14428, 14443, 47215, 14448, 14450, 14457, 47229, 14468, 14471, 14472, 14473, 47243, 14480, 14486, 14487, 47261, 14496, 14499, 14500, 14501, 47275, 14516, 47284, 14521, 14525, 47304, 14539, 14551, 14567, 14572, 14577, 47351, 14584, 14588, 14591, 14593, 47366, 47367, 14600, 14601, 14603, 14614, 14619, 14620, 14632, 14640, 14647, 47419, 14654, 14660, 47430, 14672, 14675, 14700, 14701, 14702, 14706, 47482, 47484, 47490, 47492, 14725, 14730, 14734, 14740, 14748, 14753, 14754, 14759, 14763, 47531, 14782, 14783, 14785, 14786, 47558, 47562, 14797, 47572, 14805, 14808, 14810, 47578, 47580, 47582, 14832, 14846, 14847, 14855, 14866, 14874, 14880, 14887, 14889, 14900, 14929, 14933, 47724, 14957, 14959, 47730, 47734, 47736, 14969, 14970, 14971, 14976, 47746, 47749, 14982, 47756, 14996, 14998, 15001, 15016, 15018, 15020, 15022, 15037, 15043, 15044, 15053, 15067, 15069, 15072, 47842, 15075, 47843, 15077, 47844, 15079, 47845, 47846, 47847, 47850, 47852, 15089, 15090, 15091, 47862, 47863, 47865, 15100, 47875, 15123, 15134, 15152, 15160, 15164, 15175, 15176, 47946, 47949, 47951, 15186, 15190, 47958, 15192, 15200, 47968, 15204, 15210, 15212, 15214, 15216, 47985, 47988, 15227, 47997, 47998, 15235, 48012, 15252, 15259, 15264, 15272, 15282, 48055, 48056, 48058, 48074, 15308, 15310, 15325, 15329, 15334, 15347, 15356, 15357, 15364, 48148, 15394, 48162, 48164, 15397, 48165, 48167, 48174, 48176, 15411, 48179, 15413, 48182, 48184, 48185, 15427, 48198, 48201, 15434, 48202, 15442, 15447, 15453, 48222, 15455, 48223, 15457, 48225, 48229, 15462, 48230, 48234, 48236, 48237, 15470, 48239, 48240, 48241, 48242, 48243, 15478, 48249, 15484, 48255, 48256, 48257, 48258, 15491, 15492, 48261, 48264, 48266, 48267, 48270, 15503, 48273, 48275, 48276, 48280, 15517, 48305, 48307, 48318, 48323, 15565, 15573, 48384, 48392, 48399, 15632, 15634, 15637, 15644, 48434, 15668, 15671, 15675, 15677, 15684, 48453, 15694, 15701, 15708, 15717, 48493, 48503, 15737, 15738, 15740, 48515, 48516, 15749, 15756, 15765, 48533, 15789, 15798, 15800, 15801, 15815, 15819, 15820, 15825, 15827, 15829, 15833, 15835, 15840, 15845, 15848, 15858, 15861, 15866, 15872, 15875, 15878, 15882, 15891, 15893, 15900, 15901, 15911, 15924, 15931, 15935, 15939, 15947, 15948, 15956, 15958, 15961, 15962, 48732, 15965, 48733, 48734, 48736, 48737, 48738, 48739, 48740, 48741, 48742, 48743, 15976, 48744, 48746, 15979, 48747, 48748, 48749, 48751, 48752, 48753, 15986, 48754, 48755, 48756, 48757, 48758, 48759, 48760, 48761, 15995, 48762, 48763, 15998, 48764, 48765, 48766, 48767, 48768, 48769, 48770, 48771, 48772, 48773, 48774, 48776, 48777, 48778, 48779, 16014, 48780, 48781, 48782, 48783, 48784, 48785, 48786, 48789, 48790, 48791, 16025, 16026, 48792, 48793, 48794, 48795, 48797, 48798, 48799, 48800, 16035, 48802, 48803, 48804, 48805, 48806, 48807, 48808, 16043, 48809, 16045, 48810, 48811, 48812, 48813, 48814, 48815, 48816, 48817, 48818, 48820, 48821, 16060, 16065, 16066, 48835, 16068, 16069, 16079, 16088, 16090, 48859, 16095, 16098, 16099, 48869, 16102, 16105, 16107, 16109, 16118, 16121, 16136, 16140, 16142, 16145, 16147, 16153, 16163, 16165, 16166, 48939, 16186, 16187, 16189, 16191, 16198, 16200, 16210, 48992, 16225, 16228, 48998, 16235, 16238, 16243, 16248, 16250, 16251, 16270, 16273, 16280, 16290, 16291, 16296, 16303, 16305, 16311, 16319, 16320, 16344, 16359, 16368, 16372, 16375, 16396, 16404, 16412, 16413, 16426, 16433, 16438, 16442, 16447, 16452, 16458, 16464, 16483, 49253, 147560, 49261, 16501, 49269, 49272, 49281, 49282, 49286, 16521, 49294, 16529, 49297, 16533, 16542, 16544, 16553, 16568, 16570, 16571, 49350, 16593, 16595, 16608, 16620, 16622, 49397, 49398, 49399, 49400, 49403, 16643, 16657, 16674, 16675, 16684, 16686, 49460, 49461, 16701, 16706, 16712, 49481, 16717, 16729, 16730, 16731, 16732, 49497, 49498, 16735, 49500, 16737, 16740, 16742, 16743, 16748, 16751, 16753, 16755, 49527, 16764, 16770, 16773, 49543, 16781, 49549, 16788, 16792, 49560, 49562, 49564, 49565, 16798, 16807, 16810, 49581, 16816, 16818, 49594, 49607, 16840, 49608, 16844, 16851, 16866, 49634, 16872, 16892, 16894, 16898, 16911, 16916, 16918, 16920, 16930, 16931, 16937, 16944, 16960, 16969, 16974, 16985, 17007, 17016, 17022, 17036, 17042, 17046, 17050, 17054, 17059, 17070, 17086, 17094, 148169, 17103, 17107, 17115, 17122, 17123, 17126, 17130, 17133, 17137, 17144, 17146, 17148, 17154, 17155, 17170, 17183, 17184, 17188, 17190, 17195, 17197, 17198, 17204, 17206, 17209, 17215, 17232, 17236, 17238, 17240, 17254, 17261, 17266, 17272, 17287, 17292, 17301, 17313, 17314, 17323, 17328, 17332, 17333, 17338, 17344, 17348, 17350, 17351, 17362, 17363, 17364, 17365, 17366, 50133, 17368, 17369, 50136, 17371, 17377, 17389, 17400, 50169, 17406, 17409, 17415, 50199, 17433, 50205, 50210, 50213, 17452, 17455, 17460, 17463, 50236, 17469, 17470, 17477, 50246, 17479, 50254, 50256, 17491, 17494, 17498, 50267, 17506, 50280, 17513, 50287, 17521, 17523, 50301, 17538, 17546, 17548, 17550, 17554, 17569, 17570, 17576, 50344, 50364, 50374, 17608, 50382, 17619, 17627, 17633, 50403, 17636, 17646, 17647, 17648, 17649, 17650, 50420, 50425, 17660, 17662, 17667, 17670, 17671, 50452, 17686, 17694, 17695, 17696, 50478, 17720, 17722, 17723, 17728, 17734, 50504, 17746, 17748, 17749, 17750, 17765, 17768, 17769, 17790, 17794, 17798, 17799, 17815, 17835, 17841, 17844, 17856, 50631, 50633, 50634, 50641, 17878, 17887, 17897, 17902, 17915, 17919, 17927, 17933, 17939, 17945, 50724, 17966, 17970, 17976, 17978, 17982, 18000, 18004, 18005, 18007, 50776, 50779, 50782, 18016, 18017, 50786, 18021, 50789, 18027, 18030, 18038, 18044, 18051, 18061, 18064, 18071, 18076, 18093, 50865, 18104, 18106, 18110, 50878, 18120, 50889, 50891, 50892, 18127, 18134, 50903, 18146, 50917, 18156, 18158, 18160, 50935, 50940, 50947, 18186, 50956, 18196, 18204, 18210, 18219, 18221, 51000, 51003, 18242, 51010, 51014, 51017, 18250, 18255, 51029, 51035, 18277, 18280, 18291, 18303, 18304, 18306, 18310, 18317, 18318, 18319, 18321, 18327, 51108, 51109, 18346, 18348, 18357, 18364, 51147, 51150, 18393, 18396, 18406, 18411, 18419, 51195, 51196, 51197, 51199, 51201, 51204, 51210, 51211, 51213, 51216, 18450, 51218, 51219, 51221, 18460, 51228, 51229, 51230, 51232, 18468, 51236, 18471, 51240, 18473, 18474, 51242, 51245, 51247, 51248, 51249, 51251, 51252, 51254, 18489, 51257, 51259, 51261, 18497, 51267, 51268, 51269, 18504, 51273, 51276, 51278, 51279, 51282, 51285, 18519, 51288, 51289, 51291, 18525, 51294, 51295, 51299, 51300, 51302, 51305, 18539, 51311, 51313, 18548, 51316, 18550, 51317, 51319, 51322, 51323, 18556, 18557, 51324, 51327, 51329, 18562, 51330, 51333, 51334, 51339, 51340, 18574, 18578, 51347, 18582, 51350, 51353, 18587, 51355, 51357, 51360, 18594, 51363, 51365, 51368, 51369, 51370, 18603, 51371, 51373, 51374, 51375, 51376, 51377, 18611, 51380, 51381, 51382, 51386, 51393, 51394, 51396, 51399, 51401, 51403, 51404, 51405, 51408, 51409, 18642, 51410, 51411, 51413, 18646, 51415, 51417, 51418, 51419, 51420, 51421, 51426, 18659, 51428, 51429, 18663, 51432, 51433, 51434, 51437, 51439, 51442, 18677, 51445, 51446, 51450, 51452, 18686, 51454, 51456, 51459, 51465, 51466, 18699, 51468, 51470, 51474, 51475, 18710, 18713, 18715, 51484, 51485, 51488, 51489, 18723, 18725, 51493, 51494, 51495, 18729, 51497, 51499, 51503, 18736, 51508, 51509, 18742, 51510, 18747, 18753, 18778, 18779, 51553, 18801, 51569, 18805, 18819, 18823, 18830, 18837, 18846, 18855, 18857, 18858, 18866, 18873, 18875, 18885, 18890, 18899, 18902, 18916, 18929, 18934, 18949, 18953, 18957, 18965, 18976, 18986, 18991, 18995, 18997, 19005, 19016, 19017, 51788, 19022, 51796, 51797, 19030, 19031, 19032, 19033, 19036, 19037, 51810, 19050, 19054, 51822, 51823, 51826, 51827, 51828, 51829, 19062, 51830, 51832, 19065, 51833, 51834, 51835, 19069, 19070, 51836, 51840, 51842, 51843, 51844, 51846, 51848, 51849, 51857, 19093, 19096, 19097, 51877, 51879, 51880, 19115, 51883, 51884, 19120, 19121, 19124, 19126, 19127, 51894, 51896, 51897, 19143, 19144, 19162, 19168, 19169, 19174, 19175, 19176, 19190, 19194, 19210, 19219, 19221, 19222, 19230, 19231, 19234, 19236, 19243, 19247, 19248, 19250, 19254, 19266, 19270, 19284, 19288, 19293, 19300, 19307, 19310, 19311, 19323, 19324, 19325, 19326, 19338, 19347, 19352, 19357, 19367, 19380, 19391, 19399, 19401, 19421, 19428, 19436, 19437, 19447, 19450, 19462, 19476, 19481, 19482, 19485, 19489, 19511, 19512, 19529, 19531, 19532, 19537, 19539, 19544, 19549, 52326, 19560, 19566, 19571, 52349, 19582, 52352, 52357, 52359, 19592, 19605, 19607, 19610, 19616, 19617, 19626, 19627, 19628, 19632, 19643, 19650, 19656, 19660, 19668, 19669, 19670, 19673, 19676, 19677, 19680, 52454, 19688, 52472, 19705, 19717, 52489, 52498, 19743, 52514, 52515, 19750, 52519, 19754, 19755, 19756, 52523, 52528, 52529, 19773, 19786, 19789, 19790, 19795, 19801, 19806, 19807, 19808, 19811, 19815, 19826, 19827, 19828, 19829, 19831, 19833, 19836, 19839, 19842, 19849, 19860, 19868, 19881, 19882, 19887, 19888, 19890, 19894, 19899, 19911, 19920, 19922, 19923, 19930, 19931, 19933, 19941, 19951, 19958, 19960, 19967, 19969, 52740, 19973, 19976, 19981, 19985, 19989, 19991, 19994, 52766, 20002, 20007, 20012, 52780, 20015, 20025, 20031, 52807, 20043, 20045, 20052, 52826, 52827, 52829, 52830, 20063, 52831, 20066, 52836, 20071, 52841, 52842, 52843, 52844, 52845, 52846, 52847, 52849, 20084, 52853, 52854, 52855, 20088, 20090, 20091, 20092, 52860, 20094, 52861, 52862, 52863, 20098, 52864, 52865, 52867, 52868, 20105, 52874, 52875, 52876, 52877, 20111, 52879, 52880, 52881, 52882, 52883, 52885, 52886, 20119, 52887, 52888, 52889, 52890, 52894, 52895, 52896, 20129, 20130, 52901, 52903, 20136, 52904, 52905, 20143, 52911, 20145, 52913, 52915, 52916, 20150, 52918, 52920, 20153, 52921, 52922, 52923, 52924, 52927, 20160, 52931, 20167, 52935, 20169, 52940, 52942, 20178, 52947, 52949, 20182, 20184, 20185, 52952, 20187, 52953, 52955, 52957, 52962, 20196, 52964, 52965, 52973, 52975, 20209, 20210, 52978, 20212, 20213, 52983, 52985, 20225, 52994, 52995, 52996, 20232, 53015, 53018, 20251, 53029, 20262, 53031, 20268, 53037, 20280, 20288, 53060, 20294, 20303, 20310, 20330, 20345, 20353, 20356, 53130, 53133, 53139, 53141, 53143, 53144, 20384, 20401, 53196, 20429, 53205, 20438, 53209, 20448, 20449, 53220, 20455, 20456, 20465, 20476, 20483, 20485, 20490, 20504, 20508, 53282, 53283, 20516, 53286, 53287, 20522, 53293, 20532, 20538, 20547, 20550, 20552, 20564, 53342, 53346, 20582, 53350, 20585, 20623, 20634, 20638, 20641, 20643, 20645, 20664, 20666, 20667, 20668, 20674, 20690, 20694, 53473, 53475, 53478, 20711, 53481, 53484, 53487, 53488, 53490, 53491, 53492, 20744, 53516, 20752, 20755, 20761, 20767, 20791, 20792, 20802, 20806, 53579, 20826, 20827, 53598, 20834, 20839, 20844, 53625, 53627, 53628, 53629, 53631, 53632, 53635, 53639, 53640, 53641, 20875, 53643, 53644, 20881, 20886, 20887, 20890, 20896, 20898, 53668, 20920, 20927, 20930, 20939, 20945, 20951, 20955, 20956, 20957, 20961, 20963, 20965, 53733, 53741, 20976, 20981, 20985, 20993, 53763, 21000, 21015, 21021, 21023, 21027, 21033, 21046, 21050, 21053, 21059, 21066, 21067, 53835, 21069, 21099, 21111, 21117, 21123, 21128, 21132, 21134, 21140, 21144, 21147, 21149, 21155, 21163, 21168, 21173, 53947, 21180, 21184, 21190, 21193, 21199, 21204, 21208, 21209, 21210, 21215, 21230, 21232, 21237, 21244, 21247, 21249, 21250, 21252, 21255, 21267, 54044, 21279, 21283, 21287, 54056, 21291, 21292, 21293, 21299, 21302, 21305, 21317, 21318, 54088, 21323, 21325, 21331, 21342, 21343, 21345, 54117, 21355, 21366, 21372, 54147, 21382, 54159, 54161, 54176, 21412, 21425, 54210, 54211, 54215, 21449, 54221, 21454, 21455, 54225, 21459, 54227, 54235, 21470, 54248, 54249, 21487, 54255, 54256, 54259, 21503, 21510, 21515, 21522, 54291, 54292, 21531, 54304, 54308, 54309, 21544, 54314, 54325, 54331, 54333, 21567, 21570, 21581, 21583, 54352, 21589, 54360, 21593, 21604, 21605, 21612, 21618, 21652, 21663, 54431, 54432, 21666, 21667, 54435, 21671, 54441, 21674, 54443, 54444, 54445, 54446, 54447, 54448, 54451, 54452, 54454, 54455, 54456, 54457, 54458, 54459, 54460, 21693, 21694, 54462, 54463, 54464, 21707, 21719, 54495, 54497, 21740, 21749, 21750, 21754, 21756, 54528, 54531, 54533, 21775, 54546, 21784, 21785, 54564, 54565, 21798, 21802, 21803, 21807, 21816, 21819, 54601, 54603, 21836, 54606, 21842, 54610, 21845, 21854, 21859, 21865, 21868, 54642, 21875, 54646, 21881, 21884, 21885, 21898, 21909, 54680, 21921, 21929, 54697, 21936, 21946, 54716, 54719, 21952, 21959, 54729, 21963, 21964, 21965, 21966, 54731, 21972, 21979, 21983, 21986, 54759, 21996, 22000, 22003, 22010, 54784, 54785, 22021, 54790, 22024, 54792, 22027, 22033, 22048, 54817, 22059, 22063, 54836, 22077, 22089, 22093, 22095, 22100, 22102, 22112, 22119, 22124, 22148, 22153, 22161, 54934, 22167, 22169, 54937, 22176, 22178, 22186, 22187, 22188, 54966, 22207, 54978, 22212, 54980, 22214, 22218, 54991, 22230, 22241, 55010, 22247, 22248, 22255, 22256, 22260, 22263, 22269, 22271, 55050, 22293, 22296, 22300, 22301, 55078, 22311, 22312, 22328, 22331, 22333, 55115, 22350, 22352, 22363, 22366, 55134, 22371, 22372, 22373, 22384, 22387, 55157, 55162, 22399, 55176, 22414, 55182, 55183, 22435, 55210, 22446, 55216, 55219, 22454, 22456, 55225, 22461, 55232, 22465, 22470, 22475, 22481, 22491, 22500, 22501, 22514, 22520, 22528, 22529, 22536, 22537, 22538, 55304, 55314, 22547, 22548, 22549, 55317, 55319, 55321, 55333, 55335, 55336, 55338, 22571, 55342, 55343, 55347, 22582, 55350, 55352, 55353, 22596, 22601, 55376, 22622, 55395, 55396, 55397, 55400, 22634, 55402, 55404, 22638, 55406, 55407, 55411, 55412, 55414, 55415, 55416, 22650, 55421, 22658, 22662, 55430, 22664, 55431, 22678, 22684, 22685, 22686, 55461, 55462, 55463, 55466, 22700, 55470, 55472, 22706, 55479, 22712, 55480, 55481, 55482, 55484, 22718, 55486, 22720, 55487, 22722, 22728, 55510, 22749, 22759, 22772, 22776, 22779, 22783, 55553, 55554, 55557, 55558, 22791, 55559, 22799, 22800, 22801, 22802, 22803, 22811, 22816, 22822, 22833, 22834, 22843, 22844, 22852, 22855, 22862, 22869, 22872, 22880, 22900, 22906, 22910, 22911, 22916, 22918, 55688, 22922, 22926, 55697, 22932, 55702, 22947, 55731, 22973, 22974, 22983, 22984, 22992, 55762, 23010, 23012, 23019, 23021, 55799, 23034, 23038, 23040, 23042, 23044, 55819, 23052, 23055, 23058, 23062, 23066, 23069, 23070, 55856, 23090, 55858, 23100, 23102, 23109, 23113, 23118, 55890, 23123, 23149, 23157, 23160, 23161, 23165, 23181, 23184, 23189, 23209, 23213, 23218, 23220, 55988, 23224, 23228, 23229, 23236, 56004, 23241, 23249, 23256, 23261, 23262, 23265, 56033, 23275, 23295, 23296, 23305, 23313, 23315, 23321, 23323, 56097, 23331, 23337, 23344, 23352, 23381, 23383, 23391, 23393, 23396, 23405, 23408, 23410, 56182, 23425, 56197, 23432, 23433, 56206, 23440, 23443, 23457, 23458, 56229, 23465, 23466, 23468, 23469, 23474, 56246, 23481, 56249, 56250, 56257, 23491, 23494, 23495, 56269, 23502, 23504, 23507, 56276, 56278, 23518, 23519, 23531, 23532, 56300, 56311, 56313, 56314, 23552, 56327, 23561, 56329, 23563, 23564, 56339, 23575, 56343, 23580, 23591, 23595, 56366, 23610, 23613, 56384, 56388, 23623, 56394, 56395, 23638, 23640, 23653, 56421, 23657, 23660, 23663, 23667, 23669, 23670, 23671, 56450, 23684, 23690, 23691, 56459, 56462, 23699, 23702, 23704, 23713, 56491, 23725, 23729, 56502, 23736, 23744, 23745, 23747, 23752, 23754, 23769, 56557, 23798, 23808, 56577, 23812, 56580, 23818, 56591, 23826, 23828, 23837, 23840, 23845, 23854, 56623, 56627, 23869, 56637, 56639, 23883, 56651, 23886, 56661, 23900, 23904, 23914, 23916, 23919, 23923, 23934, 23935, 23939, 23945, 23946, 23947, 23949, 23951, 56719, 23958, 23974, 23981, 23982, 24002, 24006, 24016, 24017, 24026, 24032, 24038, 24039, 24047, 56816, 56819, 56820, 24053, 56821, 24056, 56824, 24072, 24076, 24081, 24086, 24092, 56862, 24101, 24103, 24107, 56878, 56882, 24124, 24125, 56892, 24131, 24148, 24155, 24156, 24181, 56950, 56951, 56953, 56954, 56955, 56956, 56957, 56958, 56959, 56960, 56963, 56965, 56966, 56968, 56971, 56972, 56973, 56974, 56975, 24215, 24217, 24222, 24225, 24232, 24236, 24237, 57006, 24244, 24247, 24257, 24264, 24275, 24276, 24277, 57043, 24279, 24284, 24295, 57072, 24326, 24339, 57109, 57110, 57111, 57117, 24351, 24356, 24363, 24364, 24367, 24374, 24378, 24379, 24388, 24390, 24391, 24392, 24394, 24395, 57162, 24414, 57183, 57186, 57187, 24421, 57190, 24423, 57195, 24436, 24437, 24440, 57209, 57211, 57219, 57220, 57221, 57222, 57230, 24466, 24472, 24479, 57250, 24484, 57253, 57261, 57267, 24500, 57270, 57271, 24505, 57277, 57278, 57279, 24512, 24519, 24522, 24526, 24530, 24531, 57305, 24541, 24546, 57315, 57318, 24551, 24552, 57319, 24582, 24595, 24597, 24599, 24601, 24608, 24610, 24615, 24632, 57400, 57406, 24640, 57408, 24642, 57409, 24645, 57416, 57418, 24651, 24655, 24661, 24666, 24672, 24674, 24676, 57444, 24678, 57465, 24698, 24702, 24707, 24720, 24721, 24725, 24731, 24742, 24744, 24745, 57512, 24751, 24754, 24763, 24768, 24773, 24777, 24784, 24785, 24797, 24823, 24837, 24843, 24856, 57625, 24861, 24862, 24877, 24878, 24886, 24898, 57673, 24912, 24917, 24919, 24924, 24927, 24929, 24930, 24931, 24933, 57701, 24936, 57706, 57716, 24949, 24950, 24953, 57725, 57726, 57731, 57739, 24975, 57744, 57751, 24989, 24992, 24995, 24998, 57775, 25018, 25020, 25028, 25038, 25047, 57816, 25049, 57820, 57829, 25062, 25063, 57830, 57831, 25085, 25089, 25092, 25094, 25101, 25105, 25107, 25111, 57882, 25138, 25140, 25141, 25146, 25149, 25163, 25165, 25179, 25186, 25187, 25191, 25197, 25222, 25224, 25225, 25244, 25253, 25261, 25263, 25267, 25274, 25283, 25285, 25310, 25313, 25325, 25339, 25343, 25356, 58125, 25360, 25364, 25383, 25391, 25392, 25400, 25413, 25436, 25441, 25443, 25445, 25457, 25461, 25468, 25469, 58240, 25475, 25481, 25484, 25492, 25493, 25503, 58273, 25507, 25508, 58275, 58279, 25534, 25538, 25539, 25540, 25546, 25553, 25555, 25564, 58332, 58334, 25569, 58348, 58349, 58350, 58356, 58360, 58361, 25594, 25595, 25600, 58371, 25607, 58376, 25609, 58377, 25611, 58379, 58385, 58390, 25627, 58395, 25630, 58398, 58399, 25635, 25638, 25641, 58409, 58412, 58417, 25652, 25655, 58423, 58428, 58432, 58433, 25666, 25668, 58438, 58442, 25676, 25679, 58447, 25694, 58465, 25707, 58479, 25712, 25713, 58481, 25715, 58486, 58490, 58492, 58493, 58496, 25737, 25749, 25752, 25789, 25792, 25793, 25797, 25807, 25808, 25813, 25817, 25822, 25827, 25828, 25832, 25834, 25844, 25852, 25862, 25863, 58632, 58634, 25867, 58636, 58638, 58639, 58640, 58642, 58643, 25876, 58644, 58645, 25879, 25880, 25881, 58651, 58652, 58655, 25888, 58656, 58657, 58658, 58659, 58660, 58661, 58663, 58664, 58667, 25901, 58670, 25903, 58672, 58673, 58675, 58676, 58678, 58679, 58680, 58681, 58682, 58683, 25916, 25919, 58688, 58690, 58691, 25925, 58693, 58696, 25929, 25930, 58698, 58700, 58701, 58702, 58704, 58707, 25940, 58708, 58710, 25943, 58712, 58714, 58715, 58717, 58719, 25957, 25961, 25967, 25968, 25972, 25979, 58750, 58751, 58768, 26006, 26010, 26013, 26024, 26026, 26034, 26041, 26045, 58816, 26063, 26068, 26070, 26071, 26073, 58852, 58855, 58860, 58862, 26095, 26099, 58868, 26114, 26116, 26121, 26122, 26123, 26127, 26141, 26149, 26153, 26155, 26168, 26171, 26172, 58941, 26176, 58944, 26179, 58947, 26185, 26191, 26192, 58961, 58962, 58963, 26196, 58976, 26210, 26214, 26217, 26219, 58989, 26222, 26224, 58993, 58995, 26229, 26234, 26237, 59009, 59012, 26245, 59013, 26249, 26250, 59021, 59023, 59027, 59032, 59033, 59037, 26274, 59042, 59046, 26280, 59049, 59051, 59053, 26288, 59058, 26294, 59067, 26310, 26311, 59078, 26320, 26321, 26324, 59094, 26339, 26348, 26354, 26372, 59143, 26377, 26378, 26386, 26395, 26403, 26410, 26413, 26420, 26421, 26423, 26431, 26437, 26439, 26460, 26471, 26475, 26479, 26485, 26505, 26511, 26544, 26545, 26553, 26563, 26568, 26571, 26582, 26583, 59350, 59351, 59353, 59354, 59357, 59358, 59359, 59360, 59361, 59362, 59363, 59365, 26598, 26599, 26600, 59366, 59367, 59369, 59372, 59373, 59374, 59375, 26608, 59377, 59378, 59379, 59380, 59381, 59382, 59383, 59384, 26617, 26618, 59385, 59386, 59387, 59388, 59390, 59391, 59392, 59393, 59394, 59395, 59396, 59400, 59401, 59402, 59406, 59408, 26641, 26642, 59410, 59411, 59412, 59413, 59415, 59416, 59418, 59420, 59421, 26654, 59422, 59423, 59425, 26659, 59428, 26664, 59432, 59433, 59434, 59436, 59437, 59438, 26671, 59439, 59441, 26676, 59453, 26687, 26695, 26704, 59476, 59478, 26711, 26714, 26732, 26755, 59532, 26771, 26776, 59556, 26791, 59562, 59563, 59564, 59566, 26799, 59567, 59568, 26803, 26807, 26813, 26820, 26829, 26831, 26832, 26833, 26839, 26841, 26843, 26844, 59611, 59613, 59617, 26852, 26853, 26855, 26863, 26865, 26866, 59639, 26872, 26874, 26877, 59647, 26882, 59656, 26891, 26899, 26900, 59669, 59670, 59674, 26907, 26919, 59690, 59691, 59694, 26927, 59706, 59708, 59714, 26956, 26969, 59742, 26976, 26978, 26988, 26990, 27001, 27002, 27003, 27009, 27013, 27025, 27033, 27036, 27045, 27053, 27058, 27061, 27066, 27067, 27082, 27083, 27085, 27097, 27098, 59891, 27136, 27143, 59913, 27155, 27156, 27159, 27160, 27161, 27171, 27174, 27175, 27180, 27186, 27198, 27202, 59974, 59976, 59978, 27211, 27212, 27213, 59991, 27224, 27226, 59996, 59999, 60001, 60003, 27239, 27247, 27250, 27260, 27261, 60031, 60033, 27276, 27277, 27285, 60053, 27287, 27291, 27293, 27297, 27302, 60076, 60077, 27310, 60078, 27319, 60087, 27321, 60088, 27343, 27344, 27353, 27366, 27383, 27391, 27394, 27402, 27403, 60172, 27409, 27417, 27430, 27431, 27433, 27436, 27441, 60221, 27463, 27469, 27471, 27472, 60243, 27476, 60244, 60253, 27497, 27498, 27506, 27507, 27508, 27509, 27516, 27525, 27531, 27534, 60303, 27545, 27556, 27559, 60328, 27561, 27568, 27581, 60360, 27599, 27600, 27603, 27612, 27625, 27628, 27629, 27638, 27644, 27649, 60424, 60426, 60427, 27672, 27675, 27678, 27679, 60467, 27702, 27705, 60477, 60480, 27713, 60482, 60483, 27716, 27727, 60495, 27732, 60500, 27734, 27735, 27736, 27737, 27741, 60519, 60524, 60529, 27764, 27767, 27773, 27774, 27778, 27781, 27787, 27788, 60557, 60558, 60559, 27792, 27800, 27809, 27810, 27816, 27819, 27828, 27829, 60620, 27853, 27855, 27860, 27862, 27866, 27882, 27886, 27898, 27914, 27923, 27950, 27962, 60738, 27972, 27984, 27987, 27989, 28013, 28014, 28021, 28026, 28029, 28033, 28049, 28050, 28060, 28062, 28072, 28089, 28091, 60859, 28093, 28099, 28104, 28113, 28116, 28117, 28126, 28128, 28142, 28146, 28157, 28159, 28163, 28173, 28189, 28191, 28195, 28196, 28197, 28199, 60973, 28218, 28219, 60990, 28223, 60992, 28232, 61004, 28237, 61007, 61020, 28253, 28254, 28260, 28262, 28265, 28274, 28275, 61045, 28278, 61050, 28283, 28284, 28287, 28292, 28293, 61062, 28299, 28303, 28306, 61080, 28315, 28317, 28328, 28333, 28336, 28343, 28346, 28351, 28353, 61122, 28362, 28365, 28372, 28384, 61153, 28394, 28397, 28406, 28412, 61180, 28419, 28422, 28435, 28476, 28477, 28480, 61248, 28484, 61255, 28492, 28493, 61265, 28502, 28504, 28521, 28523, 61295, 28528, 61296, 28538, 28539, 28542, 28550, 28564, 28566, 28570, 28580, 28588, 28596, 28601, 28607, 28614, 61393, 28635, 28642, 28652, 28656, 28668, 28671, 61454, 28692, 28698, 61467, 28703, 61473, 28707, 28708, 61478, 28711, 28717, 28720, 61489, 61493, 61499, 61502, 28757, 61526, 28760, 61529, 28770, 61538, 28772, 28777, 61549, 61550, 61552, 61553, 61558, 61559, 28792, 28795, 61563, 28797, 28798, 28799, 28802, 28804, 61574, 61576, 28813, 61582, 61586, 28822, 61590, 28826, 28828, 28834, 61604, 61606, 28842, 28850, 28851, 28852, 28861, 28865, 28866, 28868, 28890, 28892, 28898, 28904, 61676, 28910, 28931, 28932, 28933, 61706, 28951, 28954, 28958, 61730, 28966, 28976, 28995, 28999, 61778, 61786, 29023, 29027, 29028, 29039, 29041, 61817, 29064, 29089, 29090, 29094, 29097, 29100, 29111, 29115, 61893, 29132, 29139, 29145, 29148, 29155, 61929, 29166, 29172, 29173, 29174, 29175, 29181, 29191, 29192, 29197, 29198, 61972, 29208, 61978, 61982, 29217, 29218, 61985, 29228, 61996, 29233, 62003, 29237, 29242, 62010, 29244, 62014, 29249, 62017, 62018, 62023, 62025, 62027, 62032, 29266, 29268, 62036, 29270, 29274, 29276, 62044, 62057, 29291, 62059, 62061, 62063, 29296, 29299, 29301, 29303, 62073, 62079, 29315, 29316, 29317, 62084, 62090, 29323, 29330, 29335, 29344, 62115, 62124, 29361, 29367, 62137, 62138, 29377, 29384, 29388, 29391, 29394, 29395, 29412, 29413, 29418, 62191, 62199, 62200, 29433, 29438, 29441, 29442, 29448, 29457, 29458, 29460, 62232, 29467, 29468, 29485, 62253, 62255, 29489, 62257, 29492, 29500, 62269, 29509, 62278, 29511, 62279, 62284, 29518, 62286, 62290, 62291, 29527, 29528, 29532, 29541, 29552, 29557, 29563, 29567, 29579, 29581, 29589, 29595, 29606, 29607, 29614, 29625, 29639, 29641, 29646, 29652, 29653, 29664, 29670, 29677, 29678, 29679, 62448, 29682, 29689, 29696, 62472, 62477, 29710, 29715, 29722, 62495, 29734, 62541, 29777, 29778, 62546, 29781, 29782, 29792, 62563, 29796, 29807, 29816, 29820, 29823, 62591, 62597, 29840, 29844, 29846, 29849, 29850, 62617, 62618, 29854, 29857, 62636, 29873, 29874, 62645, 29879, 62650, 29883, 62653, 62654, 29890, 29891, 29903, 62671, 62673, 29911, 62689, 62690, 62691, 62692, 62693, 62694, 62697, 62703, 62704, 62705, 62706, 29942, 62723, 29975, 29981, 29984, 29986, 29995, 62765, 29998, 30001, 30004, 62775, 30016, 30043, 30050, 30051, 30053, 62822, 30067, 30070, 30079, 30081, 30091, 30093, 30096, 30099, 30102, 30103, 30104, 30105, 30125, 30130, 30135, 30140, 30144, 30157, 30158, 30160, 30168, 62939, 30175, 30180, 30190, 30194, 30202, 30207, 30212, 30216, 30221, 30224, 62992, 30226, 62993, 30229, 62997, 63012, 30246, 30249, 63018, 30257, 30259, 30263, 30268, 30269, 30271, 30274, 30279, 30282, 30284, 30297, 63066, 30307, 30308, 30309, 30310, 30313, 30319, 63087, 30322, 30335, 63110, 30346, 63114, 63115, 63118, 30352, 63121, 30364, 63135, 63136, 63137, 63138, 63139, 63140, 30373, 30375, 63143, 63144, 63145, 30379, 63146, 63147, 63148, 63150, 63151, 63152, 63153, 63154, 63155, 63156, 63157, 63159, 30392, 63160, 63161, 63163, 63164, 63165, 63166, 63168, 63170, 30403, 63171, 63172, 63173, 63174, 30408, 63175, 30410, 63178, 63180, 63184, 63185, 63186, 30420, 30426, 63197, 63198, 30437, 63205, 30439, 63214, 63225, 63226, 30464, 63237, 30482, 30485, 30489, 30499, 30525, 30529, 30538, 30542, 30559, 30564, 30568, 30569, 30570, 30582, 30586, 30593, 30598, 30603, 30622, 30625, 30632, 30633, 30636, 30638, 30639, 30641, 30657, 63425, 30677, 30681, 30682, 30684, 63452, 63458, 30703, 30708, 30709, 63495, 63498, 63499, 30732, 63500, 30735, 30744, 30746, 30750, 30758, 63526, 63529, 63530, 63531, 30764, 30767, 30768, 30779, 30788, 30792, 30794, 63564, 30800, 30807, 63582, 30817, 30819, 30832, 30834, 30841, 30855, 30856, 63636, 30874, 30881, 30892, 30895, 30918, 30921, 30929, 30949, 30952, 63721, 30954, 63722, 63723, 63724, 30958, 63726, 63730, 63731, 30964, 63733, 63735, 63736, 30971, 63739, 30973, 63740, 30975, 30976, 63741, 63742, 30979, 30980, 63743, 63745, 30983, 30984, 63746, 63748, 63750, 63751, 30996, 31000, 31013, 31017, 31037, 63805, 31044, 63814, 31062, 31069, 31070, 31073, 31080, 63854, 31093, 63882, 63885, 63905, 31140, 31145, 31149, 31156, 31158, 31163, 31168, 31169, 63942, 31175, 63944, 31180, 31189, 31192, 31202, 31203, 31212, 31226, 31228, 31236, 31237, 31242, 31245, 64024, 31259, 31272, 31275, 31281, 31288, 31295, 31301, 31309, 31313, 64084, 31317, 31319, 64087, 64090, 64091, 64096, 31329, 31330, 64098, 64099, 64100, 31339, 31340, 64108, 31345, 31348, 64116, 64117, 31362, 64135, 31369, 31381, 31383, 31387, 31389, 31393, 31394, 64169, 31420, 64188, 64189, 31424, 64192, 64193, 64196, 31446, 31449, 64223, 31461, 64229, 64230, 31466, 31467, 64259, 64274, 31525, 64302, 64305, 31549, 31564, 31569, 31570, 31577, 31583, 31590, 31597, 31604, 31611, 31614, 31622, 31624, 31627, 31644, 31649, 31662, 64434, 31674, 31680, 64453, 31690, 31692, 31700, 31702, 31717, 31719, 31735, 31737, 31742, 64512, 64513, 31746, 31748, 64521, 31764, 31777, 31783, 31797, 64585, 31819, 31826, 31827, 64608, 64609, 31847, 64616, 31856, 31857, 31858, 64624, 64626, 31861, 31866, 31869, 31870, 31872, 64641, 64652, 31887, 31891, 31896, 31900, 64676, 64677, 31911, 31913, 64692, 64693, 31927, 31929, 31945, 64714, 31950, 31959, 31969, 31970, 31971, 31972, 31986, 64755, 31995, 31997, 64766, 32023, 64794, 32027, 64796, 64804, 64807, 32040, 64809, 64812, 32050, 32053, 64829, 32062, 32067, 32070, 64847, 32089, 32106, 32108, 32120, 32127, 32165, 32172, 32176, 32190, 32193, 64999, 32233, 32239, 32241, 65039, 65049, 32292, 32302, 32308, 32310, 32313, 65081, 32321, 65089, 32336, 32338, 65107, 32344, 32345, 65127, 32361, 32366, 65134, 32368, 32375, 65149, 32387, 65162, 65164, 65166, 65169, 65171, 32406, 65182, 65183, 32419, 65209, 32451, 32460, 32463, 32467, 32477, 32478, 32481, 32482, 32489, 32492, 32502, 32504, 32507, 65279, 32512, 32513, 65280, 32515, 65286, 32520, 65293, 32526, 65294, 32528, 65295, 65299, 65300, 65302, 65306, 32540, 65308, 65311, 65314, 65316, 65318, 32554, 32556, 32558, 32563, 32565, 32567, 32570, 32587, 32600, 32603, 32604, 65378, 65390, 32626, 65398, 65401, 32637, 32642, 32644, 32654, 65433, 32670, 32672, 32674, 65443, 32676, 32678, 32697, 32708, 32715, 65487, 65490, 65503, 65506, 65507, 65510, 32748, 65520, 65522, 32758, 65528, 65530, 32763}\n",
            "-------------------------------------\n",
            "Term in query =  cup\n",
            "\n",
            "set()\n",
            "df =  8070\n",
            "idf =  1.0931177793014315\n",
            "{}\n",
            "\n",
            "\n",
            "\n",
            "============================================\n",
            "\n",
            "doc ID =  19\n",
            "Keywords:\n",
            "\n",
            "get world cup point far var dubious refereeing team not qualify group # comeonengland # worldcup worldcup2018\n",
            "\n",
            "world -1.1992742357411168 1\n",
            "cup -1.0931177793014315 1\n",
            "\n",
            "\n",
            "get world cup point far var dubious refereeing team not qualify group # comeonengland # worldcup worldcup2018  ... \n",
            "\n",
            "tf-idf score= 5.255061150630834\n",
            "\n",
            "\n",
            "============================================\n",
            "\n",
            "doc ID =  20\n",
            "Keywords:\n",
            "\n",
            "good look expect honestly not sink normally associate world cup semis elite international team time # theworldcup eng # threelions https < skeptical annoyed undecided uneasy hesitant >\n",
            "\n",
            "world -1.1992742357411168 1\n",
            "cup -1.0931177793014315 1\n",
            "\n",
            "\n",
            "good look expect honestly not sink normally associate world cup semis elite international team time # theworldcup eng # threelions https < skeptical annoyed undecided uneasy hesitant >  ... \n",
            "\n",
            "tf-idf score= 5.255061150630834\n",
            "\n",
            "\n",
            "============================================\n",
            "\n",
            "doc ID =  34\n",
            "Keywords:\n",
            "\n",
            "not know lucky reason england win world cup # bensworldcup <tag_1> <tag_2> <tag_3> https < skeptical annoyed undecided uneasy hesitant > xyd1soyb18\n",
            "\n",
            "world -1.1992742357411168 1\n",
            "cup -1.0931177793014315 1\n",
            "\n",
            "\n",
            "not know lucky reason england win world cup # bensworldcup <tag_1> <tag_2> <tag_3> https < skeptical annoyed undecided uneasy hesitant > xyd1soyb18  ... \n",
            "\n",
            "tf-idf score= 5.255061150630834\n",
            "\n",
            "\n",
            "============================================\n",
            "\n",
            "doc ID =  51\n",
            "Keywords:\n",
            "\n",
            "<tag_1> <tag_2> like new player year ago fully deserve place world cup go oh love tattoo\n",
            "\n",
            "world -1.1992742357411168 1\n",
            "cup -1.0931177793014315 1\n",
            "\n",
            "\n",
            "<tag_1> <tag_2> like new player year ago fully deserve place world cup go oh love tattoo  ... \n",
            "\n",
            "tf-idf score= 5.255061150630834\n",
            "\n",
            "\n",
            "============================================\n",
            "\n",
            "doc ID =  32831\n",
            "Keywords:\n",
            "\n",
            "goosebump watch amazing week boy unite nation give sniff like experience special world cup gutte actually come home reality # threelions proud https < skeptical annoyed undecided uneasy hesitant > khkqtvf37n\n",
            "\n",
            "world -1.1992742357411168 1\n",
            "cup -1.0931177793014315 1\n",
            "\n",
            "\n",
            "goosebump watch amazing week boy unite nation give sniff like experience special world cup gutte actually come home reality # threelions proud https < skeptical annoyed undecided uneasy hesitant > khkqtvf37n  ... \n",
            "\n",
            "tf-idf score= 5.255061150630834\n",
            "\n",
            "\n",
            "============================================\n",
            "\n",
            "doc ID =  32837\n",
            "Keywords:\n",
            "\n",
            "<tag_1> southgate son!!!!!roar like true english manager passion&would right nacker win world cup!??????#respect englandlegend??????#threelions itscominghome https < skeptical annoyed undecided uneasy hesitant > etyxs9turz\n",
            "\n",
            "world -1.1992742357411168 1\n",
            "cup -1.0931177793014315 1\n",
            "\n",
            "\n",
            "<tag_1> southgate son!!!!!roar like true english manager passion&would right nacker win world cup!??????#respect englandlegend??????#threelions itscominghome https < skeptical annoyed undecided uneasy hesitant > etyxs9turz  ... \n",
            "\n",
            "tf-idf score= 5.255061150630834\n",
            "\n",
            "\n",
            "============================================\n",
            "\n",
            "doc ID =  70\n",
            "Keywords:\n",
            "\n",
            "fantastic watch <tag_1> world cup not result want inspiring run nation need gareth team return home head hold high\n",
            "\n",
            "world -1.1992742357411168 1\n",
            "cup -1.0931177793014315 1\n",
            "\n",
            "\n",
            "fantastic watch <tag_1> world cup not result want inspiring run nation need gareth team return home head hold high  ... \n",
            "\n",
            "tf-idf score= 5.255061150630834\n",
            "\n",
            "\n",
            "============================================\n",
            "\n",
            "doc ID =  32843\n",
            "Keywords:\n",
            "\n",
            "fifa world cup england game good luck lad pitch kick p.m. # brindleyhyundai <tag_1> # worldcup # 3lions # englandvstunisia https < skeptical annoyed undecided uneasy hesitant >\n",
            "\n",
            "world -1.1992742357411168 1\n",
            "cup -1.0931177793014315 1\n",
            "\n",
            "\n",
            "fifa world cup england game good luck lad pitch kick p.m. # brindleyhyundai <tag_1> # worldcup # 3lions # englandvstunisia https < skeptical annoyed undecided uneasy hesitant >  ... \n",
            "\n",
            "tf-idf score= 5.255061150630834\n",
            "\n",
            "\n",
            "============================================\n",
            "\n",
            "doc ID =  32851\n",
            "Keywords:\n",
            "\n",
            "fun fact 1st time england qualify quarter final world cup & win knockout game tournament world cup beat ecuador worldcup rusia2018 coleng # col # eng threelion\n",
            "\n",
            "world -1.1992742357411168 2\n",
            "cup -1.0931177793014315 2\n",
            "\n",
            "\n",
            "fun fact 1st time england qualify quarter final world cup & win knockout game tournament world cup beat ecuador worldcup rusia2018 coleng # col # eng threelion  ... \n",
            "\n",
            "tf-idf score= 5.255061150630834\n",
            "\n",
            "\n",
            "============================================\n",
            "\n",
            "doc ID =  32852\n",
            "Keywords:\n",
            "\n",
            "feel like good world cup long jersey hopefully costume transform player superhero # supereagles # worldcup\n",
            "\n",
            "world -1.1992742357411168 1\n",
            "cup -1.0931177793014315 1\n",
            "\n",
            "\n",
            "feel like good world cup long jersey hopefully costume transform player superhero # supereagles # worldcup  ... \n",
            "\n",
            "tf-idf score= 5.255061150630834\n",
            "\n",
            "\n",
            "============================================\n"
          ],
          "name": "stdout"
        }
      ]
    },
    {
      "cell_type": "code",
      "metadata": {
        "id": "pbDla7CqsU1Q"
      },
      "source": [
        ""
      ],
      "execution_count": null,
      "outputs": []
    }
  ]
}